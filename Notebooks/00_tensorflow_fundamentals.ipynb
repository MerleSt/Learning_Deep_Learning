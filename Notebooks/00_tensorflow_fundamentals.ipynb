{
 "cells": [
  {
   "cell_type": "markdown",
   "source": [
    "# Imports"
   ],
   "metadata": {
    "collapsed": false
   },
   "id": "20ca7580c6bc1824"
  },
  {
   "cell_type": "markdown",
   "source": [
    " Cover fundamentals of tensors using TensorFlow.\n",
    " \n",
    "- Introduction to tensors\n",
    "- Getting information from tensors\n",
    "- Manipulating tensors\n",
    "- Tensors and NumPy\n",
    "- Using @tf.function (a way to speed up python)\n",
    "- Using GPUs with TensorFlow (or TPUs)\n",
    "- Exercises to try for yourself"
   ],
   "metadata": {
    "collapsed": false
   },
   "id": "6fdf0e0316f53df1"
  },
  {
   "cell_type": "markdown",
   "source": [
    "\n",
    "## Introduction to Tensors"
   ],
   "metadata": {
    "collapsed": false
   },
   "id": "6baa0d2e12711ec2"
  },
  {
   "cell_type": "code",
   "execution_count": 4,
   "id": "initial_id",
   "metadata": {
    "collapsed": true,
    "ExecuteTime": {
     "end_time": "2023-11-20T15:28:59.183583Z",
     "start_time": "2023-11-20T15:28:59.178181Z"
    }
   },
   "outputs": [],
   "source": [
    "import pandas as pd\n",
    "import tensorflow as tf\n",
    "import numpy as np\n",
    "import tensorflow_hub as hub"
   ]
  },
  {
   "cell_type": "code",
   "execution_count": 3,
   "outputs": [
    {
     "name": "stdout",
     "output_type": "stream",
     "text": [
      "2.14.0\n"
     ]
    }
   ],
   "source": [
    "print(tf.__version__)"
   ],
   "metadata": {
    "collapsed": false,
    "ExecuteTime": {
     "end_time": "2023-11-20T15:28:37.190861Z",
     "start_time": "2023-11-20T15:28:37.184145Z"
    }
   },
   "id": "5774127e19001205"
  },
  {
   "cell_type": "code",
   "execution_count": 6,
   "outputs": [
    {
     "data": {
      "text/plain": "<tf.Tensor: shape=(), dtype=int32, numpy=7>"
     },
     "execution_count": 6,
     "metadata": {},
     "output_type": "execute_result"
    }
   ],
   "source": [
    "# Creating Tensors with tf.constant()\n",
    "scalar = tf.constant(7)\n",
    "scalar"
   ],
   "metadata": {
    "collapsed": false,
    "ExecuteTime": {
     "end_time": "2023-11-20T15:30:29.168948Z",
     "start_time": "2023-11-20T15:30:29.164614Z"
    }
   },
   "id": "fcbcae811de53e7"
  },
  {
   "cell_type": "code",
   "execution_count": 7,
   "outputs": [
    {
     "data": {
      "text/plain": "0"
     },
     "execution_count": 7,
     "metadata": {},
     "output_type": "execute_result"
    }
   ],
   "source": [
    "# Check number of dimensions of tensor, ndim\n",
    "scalar.ndim"
   ],
   "metadata": {
    "collapsed": false,
    "ExecuteTime": {
     "end_time": "2023-11-20T15:32:06.558Z",
     "start_time": "2023-11-20T15:32:06.545397Z"
    }
   },
   "id": "1282821ac3816fc5"
  },
  {
   "cell_type": "code",
   "execution_count": 8,
   "outputs": [
    {
     "data": {
      "text/plain": "<tf.Tensor: shape=(2,), dtype=int32, numpy=array([10, 10], dtype=int32)>"
     },
     "execution_count": 8,
     "metadata": {},
     "output_type": "execute_result"
    }
   ],
   "source": [
    "# Create a vector\n",
    "vector = tf.constant([10,10])\n",
    "vector"
   ],
   "metadata": {
    "collapsed": false,
    "ExecuteTime": {
     "end_time": "2023-11-20T15:32:44.339871Z",
     "start_time": "2023-11-20T15:32:44.329499Z"
    }
   },
   "id": "9dc202ae8511d34f"
  },
  {
   "cell_type": "code",
   "execution_count": 9,
   "outputs": [
    {
     "data": {
      "text/plain": "1"
     },
     "execution_count": 9,
     "metadata": {},
     "output_type": "execute_result"
    }
   ],
   "source": [
    "vector.ndim"
   ],
   "metadata": {
    "collapsed": false,
    "ExecuteTime": {
     "end_time": "2023-11-20T15:32:48.062848Z",
     "start_time": "2023-11-20T15:32:48.058168Z"
    }
   },
   "id": "5007bd6e910ca24b"
  },
  {
   "cell_type": "code",
   "execution_count": 12,
   "outputs": [
    {
     "data": {
      "text/plain": "<tf.Tensor: shape=(2, 2), dtype=int32, numpy=\narray([[10,  7],\n       [ 7, 10]], dtype=int32)>"
     },
     "execution_count": 12,
     "metadata": {},
     "output_type": "execute_result"
    }
   ],
   "source": [
    "# create a matrix\n",
    "matrix = tf.constant([[10,7],[7,10]])\n",
    "matrix"
   ],
   "metadata": {
    "collapsed": false,
    "ExecuteTime": {
     "end_time": "2023-11-20T15:34:12.564241Z",
     "start_time": "2023-11-20T15:34:12.560736Z"
    }
   },
   "id": "c2758d0a9db5d56"
  },
  {
   "cell_type": "code",
   "execution_count": 14,
   "outputs": [
    {
     "data": {
      "text/plain": "2"
     },
     "execution_count": 14,
     "metadata": {},
     "output_type": "execute_result"
    }
   ],
   "source": [
    "matrix.ndim"
   ],
   "metadata": {
    "collapsed": false,
    "ExecuteTime": {
     "end_time": "2023-11-20T15:34:24.476187Z",
     "start_time": "2023-11-20T15:34:24.472859Z"
    }
   },
   "id": "1fa2543618fae939"
  },
  {
   "cell_type": "code",
   "execution_count": 22,
   "outputs": [
    {
     "data": {
      "text/plain": "<tf.Tensor: shape=(2, 2, 2), dtype=float16, numpy=\narray([[[10.,  7.],\n        [ 3.,  2.]],\n\n       [[ 8.,  9.],\n        [ 6.,  2.]]], dtype=float16)>"
     },
     "execution_count": 22,
     "metadata": {},
     "output_type": "execute_result"
    }
   ],
   "source": [
    "# create another matrix \n",
    "another_matrix = tf.constant([[[10.,7.],\n",
    "                              [3.,2.]],\n",
    "                              [[8.,9.],\n",
    "                              [6.,2.]]], dtype=tf.float16)\n",
    "another_matrix"
   ],
   "metadata": {
    "collapsed": false,
    "ExecuteTime": {
     "end_time": "2023-11-20T15:40:13.778790Z",
     "start_time": "2023-11-20T15:40:13.771976Z"
    }
   },
   "id": "78f2900b70da36b9"
  },
  {
   "cell_type": "code",
   "execution_count": 23,
   "outputs": [
    {
     "data": {
      "text/plain": "3"
     },
     "execution_count": 23,
     "metadata": {},
     "output_type": "execute_result"
    }
   ],
   "source": [
    "another_matrix.ndim"
   ],
   "metadata": {
    "collapsed": false,
    "ExecuteTime": {
     "end_time": "2023-11-20T15:40:14.633232Z",
     "start_time": "2023-11-20T15:40:14.630904Z"
    }
   },
   "id": "7cb9d8145bd80fb5"
  },
  {
   "cell_type": "code",
   "execution_count": 24,
   "outputs": [
    {
     "data": {
      "text/plain": "<tf.Tensor: shape=(3, 2, 3), dtype=int32, numpy=\narray([[[ 1,  2,  3],\n        [ 4,  5,  6]],\n\n       [[ 7,  8,  9],\n        [10, 11, 12]],\n\n       [[13, 14, 15],\n        [16, 17, 18]]], dtype=int32)>"
     },
     "execution_count": 24,
     "metadata": {},
     "output_type": "execute_result"
    }
   ],
   "source": [
    "tensor = tf.constant([[[1,2,3],\n",
    "                       [4,5,6]],\n",
    "                      [[7,8,9],\n",
    "                       [10,11,12]],\n",
    "                      [[13,14,15],\n",
    "                       [16,17,18]]])\n",
    "tensor"
   ],
   "metadata": {
    "collapsed": false,
    "ExecuteTime": {
     "end_time": "2023-11-20T15:42:55.202114Z",
     "start_time": "2023-11-20T15:42:55.189522Z"
    }
   },
   "id": "a93d2bb6e9dc32d7"
  },
  {
   "cell_type": "code",
   "execution_count": 25,
   "outputs": [
    {
     "data": {
      "text/plain": "3"
     },
     "execution_count": 25,
     "metadata": {},
     "output_type": "execute_result"
    }
   ],
   "source": [
    "tensor.ndim"
   ],
   "metadata": {
    "collapsed": false,
    "ExecuteTime": {
     "end_time": "2023-11-20T15:43:12.336543Z",
     "start_time": "2023-11-20T15:43:12.331690Z"
    }
   },
   "id": "515144f2a1ed1a27"
  },
  {
   "cell_type": "markdown",
   "source": [
    "What we've created so far:\n",
    "- scalar : single number\n",
    "- vector: a number with direction\n",
    "- matrix: 2-dimensional array of numbers\n",
    "- tensor: n-dimensional array of numbers"
   ],
   "metadata": {
    "collapsed": false
   },
   "id": "8a1655ebd4545fc5"
  },
  {
   "cell_type": "markdown",
   "source": [
    "### Creating tensors with tf.Variable"
   ],
   "metadata": {
    "collapsed": false
   },
   "id": "1d64f51e911376b8"
  },
  {
   "cell_type": "code",
   "execution_count": 29,
   "outputs": [
    {
     "data": {
      "text/plain": "(<tf.Variable 'Variable:0' shape=(2,) dtype=int32, numpy=array([10,  7], dtype=int32)>,\n <tf.Tensor: shape=(2,), dtype=int32, numpy=array([10,  7], dtype=int32)>)"
     },
     "execution_count": 29,
     "metadata": {},
     "output_type": "execute_result"
    }
   ],
   "source": [
    "# create the same tensor but changeable\n",
    "changeable_tensor = tf.Variable([10,7])\n",
    "unchangeable_tensor = tf.constant([10,7])\n",
    "changeable_tensor, unchangeable_tensor"
   ],
   "metadata": {
    "collapsed": false,
    "ExecuteTime": {
     "end_time": "2023-11-21T18:15:02.484537Z",
     "start_time": "2023-11-21T18:15:02.471668Z"
    }
   },
   "id": "bac0735725c2b94d"
  },
  {
   "cell_type": "code",
   "execution_count": 33,
   "outputs": [
    {
     "data": {
      "text/plain": "<tf.Variable 'Variable:0' shape=(2,) dtype=int32, numpy=array([7, 7], dtype=int32)>"
     },
     "execution_count": 33,
     "metadata": {},
     "output_type": "execute_result"
    }
   ],
   "source": [
    " # let's try and change one of the variables\n",
    "changeable_tensor[0].assign(7)\n",
    "changeable_tensor"
   ],
   "metadata": {
    "collapsed": false,
    "ExecuteTime": {
     "end_time": "2023-11-21T18:16:52.549698Z",
     "start_time": "2023-11-21T18:16:52.544454Z"
    }
   },
   "id": "82e4d4714c67692"
  },
  {
   "cell_type": "markdown",
   "source": [
    "- use constant if you dont want the variables to be changed\n",
    "- use Variable when you want to change variables within the tensor\n",
    "- Generally: When in doubt use constant and change later if you need"
   ],
   "metadata": {
    "collapsed": false
   },
   "id": "fb7f7e059cff1610"
  },
  {
   "cell_type": "markdown",
   "source": [
    "## Creating random Tensors"
   ],
   "metadata": {
    "collapsed": false
   },
   "id": "f6860141e16766f8"
  },
  {
   "cell_type": "markdown",
   "source": [
    " Random tensors are tensors of some arbitrary size with random numbers"
   ],
   "metadata": {
    "collapsed": false
   },
   "id": "4e124ae933876491"
  },
  {
   "cell_type": "code",
   "execution_count": 35,
   "outputs": [
    {
     "data": {
      "text/plain": "<tf.Tensor: shape=(3, 2), dtype=float32, numpy=\narray([[-0.75658023, -0.06854693],\n       [ 0.07595028, -1.2573844 ],\n       [-0.23193759, -1.8107857 ]], dtype=float32)>"
     },
     "execution_count": 35,
     "metadata": {},
     "output_type": "execute_result"
    }
   ],
   "source": [
    "# Create random (but the same) tensors\n",
    "random_1 = tf.random.Generator.from_seed(42)\n",
    "random_1 = random_1.normal(shape=(3,2))"
   ],
   "metadata": {
    "collapsed": false,
    "ExecuteTime": {
     "end_time": "2023-11-21T18:28:31.348416Z",
     "start_time": "2023-11-21T18:28:31.040121Z"
    }
   },
   "id": "3ad07fabe98ce836"
  },
  {
   "cell_type": "code",
   "execution_count": 36,
   "outputs": [
    {
     "data": {
      "text/plain": "<tf.Tensor: shape=(3, 2), dtype=float32, numpy=\narray([[-0.75658023, -0.06854693],\n       [ 0.07595028, -1.2573844 ],\n       [-0.23193759, -1.8107857 ]], dtype=float32)>"
     },
     "execution_count": 36,
     "metadata": {},
     "output_type": "execute_result"
    }
   ],
   "source": [
    "random_2 = tf.random.Generator.from_seed(42)\n",
    "random_2 = random_2.normal(shape=(3,2))"
   ],
   "metadata": {
    "collapsed": false,
    "ExecuteTime": {
     "end_time": "2023-11-21T18:28:54.274783Z",
     "start_time": "2023-11-21T18:28:54.254192Z"
    }
   },
   "id": "b50524359474d93c"
  },
  {
   "cell_type": "code",
   "execution_count": 38,
   "outputs": [
    {
     "data": {
      "text/plain": "<tf.Tensor: shape=(3, 2), dtype=bool, numpy=\narray([[ True,  True],\n       [ True,  True],\n       [ True,  True]])>"
     },
     "execution_count": 38,
     "metadata": {},
     "output_type": "execute_result"
    }
   ],
   "source": [
    "random_2 == random_1"
   ],
   "metadata": {
    "collapsed": false,
    "ExecuteTime": {
     "end_time": "2023-11-21T18:31:05.075924Z",
     "start_time": "2023-11-21T18:31:05.025470Z"
    }
   },
   "id": "a1c5bf0dcfdd580e"
  },
  {
   "cell_type": "code",
   "execution_count": null,
   "outputs": [],
   "source": [],
   "metadata": {
    "collapsed": false
   },
   "id": "199e4907ecff22fd"
  }
 ],
 "metadata": {
  "kernelspec": {
   "display_name": "Python 3",
   "language": "python",
   "name": "python3"
  },
  "language_info": {
   "codemirror_mode": {
    "name": "ipython",
    "version": 2
   },
   "file_extension": ".py",
   "mimetype": "text/x-python",
   "name": "python",
   "nbconvert_exporter": "python",
   "pygments_lexer": "ipython2",
   "version": "2.7.6"
  }
 },
 "nbformat": 4,
 "nbformat_minor": 5
}
