{
 "cells": [
  {
   "cell_type": "markdown",
   "source": [
    "# Imports"
   ],
   "metadata": {
    "collapsed": false
   },
   "id": "20ca7580c6bc1824"
  },
  {
   "cell_type": "markdown",
   "source": [
    " Cover fundamentals of tensors using TensorFlow.\n",
    " \n",
    "- Introduction to tensors\n",
    "- Getting information from tensors\n",
    "- Manipulating tensors\n",
    "- Tensors and NumPy\n",
    "- Using @tf.function (a way to speed up python)\n",
    "- Using GPUs with TensorFlow (or TPUs)\n",
    "- Exercises to try for yourself"
   ],
   "metadata": {
    "collapsed": false
   },
   "id": "6fdf0e0316f53df1"
  },
  {
   "cell_type": "markdown",
   "source": [
    "\n",
    "## Introduction to Tensors"
   ],
   "metadata": {
    "collapsed": false
   },
   "id": "6baa0d2e12711ec2"
  },
  {
   "cell_type": "code",
   "execution_count": 153,
   "id": "initial_id",
   "metadata": {
    "collapsed": true,
    "ExecuteTime": {
     "end_time": "2023-11-23T13:28:57.767334Z",
     "start_time": "2023-11-23T13:28:57.393430Z"
    }
   },
   "outputs": [],
   "source": [
    "import pandas as pd\n",
    "import tensorflow as tf\n",
    "import numpy as np\n",
    "import tensorflow_hub as hub\n",
    "import tensorflow_probability as tfp"
   ]
  },
  {
   "cell_type": "code",
   "execution_count": 154,
   "outputs": [
    {
     "name": "stdout",
     "output_type": "stream",
     "text": [
      "2.15.0\n"
     ]
    }
   ],
   "source": [
    "print(tf.__version__)"
   ],
   "metadata": {
    "collapsed": false,
    "ExecuteTime": {
     "end_time": "2023-11-23T13:28:57.767595Z",
     "start_time": "2023-11-23T13:28:57.395890Z"
    }
   },
   "id": "5774127e19001205"
  },
  {
   "cell_type": "code",
   "execution_count": 155,
   "outputs": [
    {
     "data": {
      "text/plain": "<tf.Tensor: shape=(), dtype=int32, numpy=7>"
     },
     "execution_count": 155,
     "metadata": {},
     "output_type": "execute_result"
    }
   ],
   "source": [
    "# Creating Tensors with tf.constant()\n",
    "scalar = tf.constant(7)\n",
    "scalar"
   ],
   "metadata": {
    "collapsed": false,
    "ExecuteTime": {
     "end_time": "2023-11-23T13:28:57.767729Z",
     "start_time": "2023-11-23T13:28:57.398032Z"
    }
   },
   "id": "fcbcae811de53e7"
  },
  {
   "cell_type": "code",
   "execution_count": 156,
   "outputs": [
    {
     "data": {
      "text/plain": "0"
     },
     "execution_count": 156,
     "metadata": {},
     "output_type": "execute_result"
    }
   ],
   "source": [
    "# Check number of dimensions of tensor, ndim\n",
    "scalar.ndim"
   ],
   "metadata": {
    "collapsed": false,
    "ExecuteTime": {
     "end_time": "2023-11-23T13:28:57.767814Z",
     "start_time": "2023-11-23T13:28:57.400638Z"
    }
   },
   "id": "1282821ac3816fc5"
  },
  {
   "cell_type": "code",
   "execution_count": 157,
   "outputs": [
    {
     "data": {
      "text/plain": "<tf.Tensor: shape=(2,), dtype=int32, numpy=array([10, 10], dtype=int32)>"
     },
     "execution_count": 157,
     "metadata": {},
     "output_type": "execute_result"
    }
   ],
   "source": [
    "# Create a vector\n",
    "vector = tf.constant([10,10])\n",
    "vector"
   ],
   "metadata": {
    "collapsed": false,
    "ExecuteTime": {
     "end_time": "2023-11-23T13:28:57.789318Z",
     "start_time": "2023-11-23T13:28:57.404012Z"
    }
   },
   "id": "9dc202ae8511d34f"
  },
  {
   "cell_type": "code",
   "execution_count": 158,
   "outputs": [
    {
     "data": {
      "text/plain": "1"
     },
     "execution_count": 158,
     "metadata": {},
     "output_type": "execute_result"
    }
   ],
   "source": [
    "vector.ndim"
   ],
   "metadata": {
    "collapsed": false,
    "ExecuteTime": {
     "end_time": "2023-11-23T13:28:57.789522Z",
     "start_time": "2023-11-23T13:28:57.406184Z"
    }
   },
   "id": "5007bd6e910ca24b"
  },
  {
   "cell_type": "code",
   "execution_count": 159,
   "outputs": [
    {
     "data": {
      "text/plain": "<tf.Tensor: shape=(2, 2), dtype=int32, numpy=\narray([[10,  7],\n       [ 7, 10]], dtype=int32)>"
     },
     "execution_count": 159,
     "metadata": {},
     "output_type": "execute_result"
    }
   ],
   "source": [
    "# create a matrix\n",
    "matrix = tf.constant([[10,7],[7,10]])\n",
    "matrix"
   ],
   "metadata": {
    "collapsed": false,
    "ExecuteTime": {
     "end_time": "2023-11-23T13:28:57.789611Z",
     "start_time": "2023-11-23T13:28:57.408737Z"
    }
   },
   "id": "c2758d0a9db5d56"
  },
  {
   "cell_type": "code",
   "execution_count": 160,
   "outputs": [
    {
     "data": {
      "text/plain": "2"
     },
     "execution_count": 160,
     "metadata": {},
     "output_type": "execute_result"
    }
   ],
   "source": [
    "matrix.ndim"
   ],
   "metadata": {
    "collapsed": false,
    "ExecuteTime": {
     "end_time": "2023-11-23T13:28:57.973261Z",
     "start_time": "2023-11-23T13:28:57.411141Z"
    }
   },
   "id": "1fa2543618fae939"
  },
  {
   "cell_type": "code",
   "execution_count": 161,
   "outputs": [
    {
     "data": {
      "text/plain": "<tf.Tensor: shape=(2, 2, 2), dtype=float16, numpy=\narray([[[10.,  7.],\n        [ 3.,  2.]],\n\n       [[ 8.,  9.],\n        [ 6.,  2.]]], dtype=float16)>"
     },
     "execution_count": 161,
     "metadata": {},
     "output_type": "execute_result"
    }
   ],
   "source": [
    "# create another matrix \n",
    "another_matrix = tf.constant([[[10.,7.],\n",
    "                              [3.,2.]],\n",
    "                              [[8.,9.],\n",
    "                              [6.,2.]]], dtype=tf.float16)\n",
    "another_matrix"
   ],
   "metadata": {
    "collapsed": false,
    "ExecuteTime": {
     "end_time": "2023-11-23T13:28:57.973539Z",
     "start_time": "2023-11-23T13:28:57.414933Z"
    }
   },
   "id": "78f2900b70da36b9"
  },
  {
   "cell_type": "code",
   "execution_count": 162,
   "outputs": [
    {
     "data": {
      "text/plain": "3"
     },
     "execution_count": 162,
     "metadata": {},
     "output_type": "execute_result"
    }
   ],
   "source": [
    "another_matrix.ndim"
   ],
   "metadata": {
    "collapsed": false,
    "ExecuteTime": {
     "end_time": "2023-11-23T13:28:57.973630Z",
     "start_time": "2023-11-23T13:28:57.417706Z"
    }
   },
   "id": "7cb9d8145bd80fb5"
  },
  {
   "cell_type": "code",
   "execution_count": 163,
   "outputs": [
    {
     "data": {
      "text/plain": "<tf.Tensor: shape=(3, 2, 3), dtype=int32, numpy=\narray([[[ 1,  2,  3],\n        [ 4,  5,  6]],\n\n       [[ 7,  8,  9],\n        [10, 11, 12]],\n\n       [[13, 14, 15],\n        [16, 17, 18]]], dtype=int32)>"
     },
     "execution_count": 163,
     "metadata": {},
     "output_type": "execute_result"
    }
   ],
   "source": [
    "tensor = tf.constant([[[1,2,3],\n",
    "                       [4,5,6]],\n",
    "                      [[7,8,9],\n",
    "                       [10,11,12]],\n",
    "                      [[13,14,15],\n",
    "                       [16,17,18]]])\n",
    "tensor"
   ],
   "metadata": {
    "collapsed": false,
    "ExecuteTime": {
     "end_time": "2023-11-23T13:28:57.973733Z",
     "start_time": "2023-11-23T13:28:57.420293Z"
    }
   },
   "id": "a93d2bb6e9dc32d7"
  },
  {
   "cell_type": "code",
   "execution_count": 164,
   "outputs": [
    {
     "data": {
      "text/plain": "3"
     },
     "execution_count": 164,
     "metadata": {},
     "output_type": "execute_result"
    }
   ],
   "source": [
    "tensor.ndim"
   ],
   "metadata": {
    "collapsed": false,
    "ExecuteTime": {
     "end_time": "2023-11-23T13:28:57.973814Z",
     "start_time": "2023-11-23T13:28:57.422302Z"
    }
   },
   "id": "515144f2a1ed1a27"
  },
  {
   "cell_type": "markdown",
   "source": [
    "What we've created so far:\n",
    "- scalar : single number\n",
    "- vector: a number with direction\n",
    "- matrix: 2-dimensional array of numbers\n",
    "- tensor: n-dimensional array of numbers"
   ],
   "metadata": {
    "collapsed": false
   },
   "id": "8a1655ebd4545fc5"
  },
  {
   "cell_type": "markdown",
   "source": [
    "### Creating tensors with tf.Variable"
   ],
   "metadata": {
    "collapsed": false
   },
   "id": "1d64f51e911376b8"
  },
  {
   "cell_type": "code",
   "execution_count": 165,
   "outputs": [
    {
     "data": {
      "text/plain": "(<tf.Variable 'Variable:0' shape=(2,) dtype=int32, numpy=array([10,  7], dtype=int32)>,\n <tf.Tensor: shape=(2,), dtype=int32, numpy=array([10,  7], dtype=int32)>)"
     },
     "execution_count": 165,
     "metadata": {},
     "output_type": "execute_result"
    }
   ],
   "source": [
    "# create the same tensor but changeable\n",
    "changeable_tensor = tf.Variable([10,7])\n",
    "unchangeable_tensor = tf.constant([10,7])\n",
    "changeable_tensor, unchangeable_tensor"
   ],
   "metadata": {
    "collapsed": false,
    "ExecuteTime": {
     "end_time": "2023-11-23T13:28:58.042688Z",
     "start_time": "2023-11-23T13:28:57.425618Z"
    }
   },
   "id": "bac0735725c2b94d"
  },
  {
   "cell_type": "code",
   "execution_count": 166,
   "outputs": [
    {
     "data": {
      "text/plain": "<tf.Variable 'Variable:0' shape=(2,) dtype=int32, numpy=array([7, 7], dtype=int32)>"
     },
     "execution_count": 166,
     "metadata": {},
     "output_type": "execute_result"
    }
   ],
   "source": [
    " # let's try and change one of the variables\n",
    "changeable_tensor[0].assign(7)\n",
    "changeable_tensor"
   ],
   "metadata": {
    "collapsed": false,
    "ExecuteTime": {
     "end_time": "2023-11-23T13:28:58.042933Z",
     "start_time": "2023-11-23T13:28:57.428645Z"
    }
   },
   "id": "82e4d4714c67692"
  },
  {
   "cell_type": "markdown",
   "source": [
    "- use constant if you dont want the variables to be changed\n",
    "- use Variable when you want to change variables within the tensor\n",
    "- Generally: When in doubt use constant and change later if you need"
   ],
   "metadata": {
    "collapsed": false
   },
   "id": "fb7f7e059cff1610"
  },
  {
   "cell_type": "markdown",
   "source": [
    "## Creating random Tensors"
   ],
   "metadata": {
    "collapsed": false
   },
   "id": "f6860141e16766f8"
  },
  {
   "cell_type": "markdown",
   "source": [
    " Random tensors are tensors of some arbitrary size with random numbers"
   ],
   "metadata": {
    "collapsed": false
   },
   "id": "4e124ae933876491"
  },
  {
   "cell_type": "code",
   "execution_count": 167,
   "outputs": [],
   "source": [
    "# Create random (but the same) tensors\n",
    "random_1 = tf.random.Generator.from_seed(42)\n",
    "random_1 = random_1.normal(shape=(3,2))"
   ],
   "metadata": {
    "collapsed": false,
    "ExecuteTime": {
     "end_time": "2023-11-23T13:28:58.121093Z",
     "start_time": "2023-11-23T13:28:57.432314Z"
    }
   },
   "id": "3ad07fabe98ce836"
  },
  {
   "cell_type": "code",
   "execution_count": 168,
   "outputs": [],
   "source": [
    "random_2 = tf.random.Generator.from_seed(42)\n",
    "random_2 = random_2.normal(shape=(3,2))"
   ],
   "metadata": {
    "collapsed": false,
    "ExecuteTime": {
     "end_time": "2023-11-23T13:28:58.121273Z",
     "start_time": "2023-11-23T13:28:57.457421Z"
    }
   },
   "id": "b50524359474d93c"
  },
  {
   "cell_type": "code",
   "execution_count": 169,
   "outputs": [
    {
     "data": {
      "text/plain": "<tf.Tensor: shape=(3, 2), dtype=bool, numpy=\narray([[ True,  True],\n       [ True,  True],\n       [ True,  True]])>"
     },
     "execution_count": 169,
     "metadata": {},
     "output_type": "execute_result"
    }
   ],
   "source": [
    "random_2 == random_1"
   ],
   "metadata": {
    "collapsed": false,
    "ExecuteTime": {
     "end_time": "2023-11-23T13:28:58.208803Z",
     "start_time": "2023-11-23T13:28:57.465150Z"
    }
   },
   "id": "a1c5bf0dcfdd580e"
  },
  {
   "cell_type": "markdown",
   "source": [
    "### Shuffle the order of elements in a tensor"
   ],
   "metadata": {
    "collapsed": false
   },
   "id": "dfcb3ded429bb98"
  },
  {
   "cell_type": "code",
   "execution_count": 170,
   "outputs": [
    {
     "data": {
      "text/plain": "2"
     },
     "execution_count": 170,
     "metadata": {},
     "output_type": "execute_result"
    }
   ],
   "source": [
    "# valuable when you want to shuffle data so the inherent order doesn't effect learning\n",
    "not_shuffled = tf.constant([[10,7],\n",
    "                            [3,4],\n",
    "                            [2,5]])\n",
    "not_shuffled.ndim"
   ],
   "metadata": {
    "collapsed": false,
    "ExecuteTime": {
     "end_time": "2023-11-23T13:28:58.222703Z",
     "start_time": "2023-11-23T13:28:57.471516Z"
    }
   },
   "id": "ce1f5f7ae3443dbc"
  },
  {
   "cell_type": "code",
   "execution_count": 171,
   "outputs": [
    {
     "data": {
      "text/plain": "<tf.Tensor: shape=(3, 2), dtype=int32, numpy=\narray([[10,  7],\n       [ 3,  4],\n       [ 2,  5]], dtype=int32)>"
     },
     "execution_count": 171,
     "metadata": {},
     "output_type": "execute_result"
    }
   ],
   "source": [
    "not_shuffled"
   ],
   "metadata": {
    "collapsed": false,
    "ExecuteTime": {
     "end_time": "2023-11-23T13:28:58.222845Z",
     "start_time": "2023-11-23T13:28:57.473763Z"
    }
   },
   "id": "7001d82069b1bda1"
  },
  {
   "cell_type": "code",
   "execution_count": 172,
   "outputs": [
    {
     "data": {
      "text/plain": "<tf.Tensor: shape=(3, 2), dtype=int32, numpy=\narray([[10,  7],\n       [ 3,  4],\n       [ 2,  5]], dtype=int32)>"
     },
     "execution_count": 172,
     "metadata": {},
     "output_type": "execute_result"
    }
   ],
   "source": [
    "# need a global and operation level seeds\n",
    "tf.random.set_seed(42)\n",
    "shuffled = tf.random.shuffle(not_shuffled, seed=42)\n",
    "shuffled"
   ],
   "metadata": {
    "collapsed": false,
    "ExecuteTime": {
     "end_time": "2023-11-23T13:28:58.288295Z",
     "start_time": "2023-11-23T13:28:57.480137Z"
    }
   },
   "id": "70579dd243de488a"
  },
  {
   "cell_type": "markdown",
   "source": [
    "### Other ways to create tensors"
   ],
   "metadata": {
    "collapsed": false
   },
   "id": "cd8e6ff7364624d8"
  },
  {
   "cell_type": "markdown",
   "source": [
    "#### Creating tensors from NumPy arrays"
   ],
   "metadata": {
    "collapsed": false
   },
   "id": "cc6b05351a86ebf6"
  },
  {
   "cell_type": "code",
   "execution_count": 173,
   "outputs": [
    {
     "data": {
      "text/plain": "<tf.Tensor: shape=(10, 7), dtype=float32, numpy=\narray([[1., 1., 1., 1., 1., 1., 1.],\n       [1., 1., 1., 1., 1., 1., 1.],\n       [1., 1., 1., 1., 1., 1., 1.],\n       [1., 1., 1., 1., 1., 1., 1.],\n       [1., 1., 1., 1., 1., 1., 1.],\n       [1., 1., 1., 1., 1., 1., 1.],\n       [1., 1., 1., 1., 1., 1., 1.],\n       [1., 1., 1., 1., 1., 1., 1.],\n       [1., 1., 1., 1., 1., 1., 1.],\n       [1., 1., 1., 1., 1., 1., 1.]], dtype=float32)>"
     },
     "execution_count": 173,
     "metadata": {},
     "output_type": "execute_result"
    }
   ],
   "source": [
    "tf.ones([10,7])"
   ],
   "metadata": {
    "collapsed": false,
    "ExecuteTime": {
     "end_time": "2023-11-23T13:28:58.288486Z",
     "start_time": "2023-11-23T13:28:57.483282Z"
    }
   },
   "id": "f42574f7b93493c"
  },
  {
   "cell_type": "code",
   "execution_count": 174,
   "outputs": [
    {
     "data": {
      "text/plain": "<tf.Tensor: shape=(3, 4), dtype=float32, numpy=\narray([[0., 0., 0., 0.],\n       [0., 0., 0., 0.],\n       [0., 0., 0., 0.]], dtype=float32)>"
     },
     "execution_count": 174,
     "metadata": {},
     "output_type": "execute_result"
    }
   ],
   "source": [
    "tf.zeros(shape=(3,4))"
   ],
   "metadata": {
    "collapsed": false,
    "ExecuteTime": {
     "end_time": "2023-11-23T13:28:58.288585Z",
     "start_time": "2023-11-23T13:28:57.487642Z"
    }
   },
   "id": "5d61f92e13f9de23"
  },
  {
   "cell_type": "markdown",
   "source": [
    "Tensors can be run on a GPU, that is the main difference to NumPy array"
   ],
   "metadata": {
    "collapsed": false
   },
   "id": "a5c17337b564e92c"
  },
  {
   "cell_type": "code",
   "execution_count": 175,
   "outputs": [],
   "source": [
    "# turn numpy arrays into tensors\n",
    "numpy_A = np.arange(1,25, dtype=np.int32)\n",
    "\n",
    "# X = tf.constant(some_matrix) -- capital for matrix\n",
    "# y = tf.constant(vector) -- lower case for vector"
   ],
   "metadata": {
    "collapsed": false,
    "ExecuteTime": {
     "end_time": "2023-11-23T13:28:58.344787Z",
     "start_time": "2023-11-23T13:28:57.491453Z"
    }
   },
   "id": "98923fca5bf50fa4"
  },
  {
   "cell_type": "code",
   "execution_count": 176,
   "outputs": [
    {
     "data": {
      "text/plain": "(<tf.Tensor: shape=(2, 3, 4), dtype=int32, numpy=\n array([[[ 1,  2,  3,  4],\n         [ 5,  6,  7,  8],\n         [ 9, 10, 11, 12]],\n \n        [[13, 14, 15, 16],\n         [17, 18, 19, 20],\n         [21, 22, 23, 24]]], dtype=int32)>,\n <tf.Tensor: shape=(24,), dtype=int32, numpy=\n array([ 1,  2,  3,  4,  5,  6,  7,  8,  9, 10, 11, 12, 13, 14, 15, 16, 17,\n        18, 19, 20, 21, 22, 23, 24], dtype=int32)>)"
     },
     "execution_count": 176,
     "metadata": {},
     "output_type": "execute_result"
    }
   ],
   "source": [
    "A = tf.constant(numpy_A, shape=(2,3,4)) # product of new shape has to have the same length of original matrix/vector\n",
    "B = tf.constant(numpy_A)\n",
    "A, B"
   ],
   "metadata": {
    "collapsed": false,
    "ExecuteTime": {
     "end_time": "2023-11-23T13:28:58.345028Z",
     "start_time": "2023-11-23T13:28:57.493832Z"
    }
   },
   "id": "6d19485214cd67a7"
  },
  {
   "cell_type": "markdown",
   "source": [
    "### Getting Info from Tensors"
   ],
   "metadata": {
    "collapsed": false
   },
   "id": "61aeb260a596b0cd"
  },
  {
   "cell_type": "markdown",
   "source": [
    "- Shape -- tensor.shape\n",
    "- Rank --  tensor.ndim\n",
    "- Axis and dimension -- tensor[0], tensor[:,1]...\n",
    "- Size -- tf.size(tensor)"
   ],
   "metadata": {
    "collapsed": false
   },
   "id": "3ee052c566f59439"
  },
  {
   "cell_type": "code",
   "execution_count": 177,
   "outputs": [],
   "source": [
    "# Create a rank 4 tensor\n",
    "rank_4_tensor = tf.zeros([2, 3, 4, 5])"
   ],
   "metadata": {
    "collapsed": false,
    "ExecuteTime": {
     "end_time": "2023-11-23T13:28:58.345116Z",
     "start_time": "2023-11-23T13:28:57.496138Z"
    }
   },
   "id": "533561b7324056c4"
  },
  {
   "cell_type": "code",
   "execution_count": 178,
   "outputs": [
    {
     "data": {
      "text/plain": "(TensorShape([2, 3, 4, 5]), 4, <tf.Tensor: shape=(), dtype=int32, numpy=120>)"
     },
     "execution_count": 178,
     "metadata": {},
     "output_type": "execute_result"
    }
   ],
   "source": [
    "rank_4_tensor.shape, rank_4_tensor.ndim, tf.size(rank_4_tensor) # size = 2*3*4*5"
   ],
   "metadata": {
    "collapsed": false,
    "ExecuteTime": {
     "end_time": "2023-11-23T13:28:58.345204Z",
     "start_time": "2023-11-23T13:28:57.500335Z"
    }
   },
   "id": "d59348348db74179"
  },
  {
   "cell_type": "code",
   "execution_count": 179,
   "outputs": [
    {
     "name": "stdout",
     "output_type": "stream",
     "text": [
      "Datatype of every element: <dtype: 'float32'>\n",
      "Number of dimensions (rank): 4\n",
      "Shape of tensor: (2, 3, 4, 5)\n",
      "Elements along the 0 axis: 2\n",
      "Elements along the last axis: 5\n",
      "Total number of elements in our tensor: 120\n"
     ]
    }
   ],
   "source": [
    "# Get various attributes of tensor\n",
    "print(\"Datatype of every element:\", rank_4_tensor.dtype)\n",
    "print(\"Number of dimensions (rank):\", rank_4_tensor.ndim)\n",
    "print(\"Shape of tensor:\", rank_4_tensor.shape)\n",
    "print(\"Elements along the 0 axis:\", rank_4_tensor.shape[0])\n",
    "print(\"Elements along the last axis:\", rank_4_tensor.shape[-1])\n",
    "tensor_size = tf.size(rank_4_tensor)\n",
    "print(\"Total number of elements in our tensor:\", tensor_size.numpy())"
   ],
   "metadata": {
    "collapsed": false,
    "ExecuteTime": {
     "end_time": "2023-11-23T13:28:58.345287Z",
     "start_time": "2023-11-23T13:28:57.502606Z"
    }
   },
   "id": "31bf64bfdb386b12"
  },
  {
   "cell_type": "markdown",
   "source": [
    "### Indexing on Tensors"
   ],
   "metadata": {
    "collapsed": false
   },
   "id": "4091c6390d33fcf3"
  },
  {
   "cell_type": "markdown",
   "source": [
    "Just like python lists"
   ],
   "metadata": {
    "collapsed": false
   },
   "id": "fa03ee0ba4c2ecb"
  },
  {
   "cell_type": "code",
   "execution_count": 180,
   "outputs": [
    {
     "data": {
      "text/plain": "<tf.Tensor: shape=(2, 2, 2, 2), dtype=float32, numpy=\narray([[[[0., 0.],\n         [0., 0.]],\n\n        [[0., 0.],\n         [0., 0.]]],\n\n\n       [[[0., 0.],\n         [0., 0.]],\n\n        [[0., 0.],\n         [0., 0.]]]], dtype=float32)>"
     },
     "execution_count": 180,
     "metadata": {},
     "output_type": "execute_result"
    }
   ],
   "source": [
    "# Get the first 2 elements of each dimension\n",
    "rank_4_tensor[:2, :2, :2, :2]"
   ],
   "metadata": {
    "collapsed": false,
    "ExecuteTime": {
     "end_time": "2023-11-23T13:28:58.480793Z",
     "start_time": "2023-11-23T13:28:57.504512Z"
    }
   },
   "id": "a4e247361aa1487d"
  },
  {
   "cell_type": "code",
   "execution_count": 181,
   "outputs": [
    {
     "data": {
      "text/plain": "<tf.Tensor: shape=(1, 1, 1, 0), dtype=float32, numpy=array([], shape=(1, 1, 1, 0), dtype=float32)>"
     },
     "execution_count": 181,
     "metadata": {},
     "output_type": "execute_result"
    }
   ],
   "source": [
    "# get the first dimension from each index, except for the final one\n",
    "rank_4_tensor[:1,:1, :1, :0]"
   ],
   "metadata": {
    "collapsed": false,
    "ExecuteTime": {
     "end_time": "2023-11-23T13:28:58.481032Z",
     "start_time": "2023-11-23T13:28:57.511999Z"
    }
   },
   "id": "ec68a914a0f1a2a8"
  },
  {
   "cell_type": "code",
   "execution_count": 182,
   "outputs": [
    {
     "data": {
      "text/plain": "(TensorShape([2, 2]), 2)"
     },
     "execution_count": 182,
     "metadata": {},
     "output_type": "execute_result"
    }
   ],
   "source": [
    "# Create a rank 2 tensor\n",
    "rank_2_tensor = tf.constant([[10, 7],\n",
    "                             [3, 4]])\n",
    "rank_2_tensor.shape, rank_2_tensor.ndim"
   ],
   "metadata": {
    "collapsed": false,
    "ExecuteTime": {
     "end_time": "2023-11-23T13:28:58.481117Z",
     "start_time": "2023-11-23T13:28:57.513702Z"
    }
   },
   "id": "387dea83ac96c703"
  },
  {
   "cell_type": "code",
   "execution_count": 183,
   "outputs": [
    {
     "data": {
      "text/plain": "<tf.Tensor: shape=(2,), dtype=int32, numpy=array([7, 4], dtype=int32)>"
     },
     "execution_count": 183,
     "metadata": {},
     "output_type": "execute_result"
    }
   ],
   "source": [
    "# Get last item of each row\n",
    "rank_2_tensor[:, -1]"
   ],
   "metadata": {
    "collapsed": false,
    "ExecuteTime": {
     "end_time": "2023-11-23T13:28:58.481194Z",
     "start_time": "2023-11-23T13:28:57.515633Z"
    }
   },
   "id": "e853fab86a653941"
  },
  {
   "cell_type": "code",
   "execution_count": 184,
   "outputs": [
    {
     "data": {
      "text/plain": "<tf.Tensor: shape=(2, 2, 1), dtype=int32, numpy=\narray([[[10],\n        [ 7]],\n\n       [[ 3],\n        [ 4]]], dtype=int32)>"
     },
     "execution_count": 184,
     "metadata": {},
     "output_type": "execute_result"
    }
   ],
   "source": [
    "# Adding an extra dimension\n",
    "rank_3_tensor = rank_2_tensor[..., tf.newaxis] # ... every axis before the last one\n",
    "rank_3_tensor"
   ],
   "metadata": {
    "collapsed": false,
    "ExecuteTime": {
     "end_time": "2023-11-23T13:28:58.481272Z",
     "start_time": "2023-11-23T13:28:57.518314Z"
    }
   },
   "id": "9db328ed9820b8b4"
  },
  {
   "cell_type": "code",
   "execution_count": 185,
   "outputs": [
    {
     "data": {
      "text/plain": "<tf.Tensor: shape=(2, 2, 1), dtype=int32, numpy=\narray([[[10],\n        [ 7]],\n\n       [[ 3],\n        [ 4]]], dtype=int32)>"
     },
     "execution_count": 185,
     "metadata": {},
     "output_type": "execute_result"
    }
   ],
   "source": [
    "# Alternative\n",
    "tf.expand_dims(rank_2_tensor, axis=-1)"
   ],
   "metadata": {
    "collapsed": false,
    "ExecuteTime": {
     "end_time": "2023-11-23T13:28:58.519054Z",
     "start_time": "2023-11-23T13:28:57.520779Z"
    }
   },
   "id": "74f49eca15994305"
  },
  {
   "cell_type": "markdown",
   "source": [
    "### Manipulating Tensors (tensor operations)"
   ],
   "metadata": {
    "collapsed": false
   },
   "id": "43999f09c280ef20"
  },
  {
   "cell_type": "markdown",
   "source": [
    "#### Basic Operations"
   ],
   "metadata": {
    "collapsed": false
   },
   "id": "34e6497c6032d42f"
  },
  {
   "cell_type": "code",
   "execution_count": 186,
   "outputs": [
    {
     "data": {
      "text/plain": "<tf.Tensor: shape=(2, 2), dtype=int32, numpy=\narray([[20, 17],\n       [13, 14]], dtype=int32)>"
     },
     "execution_count": 186,
     "metadata": {},
     "output_type": "execute_result"
    }
   ],
   "source": [
    "# addition operator\n",
    "tensor = tf.constant([[10, 7],\n",
    "                      [3, 4]])\n",
    "tensor + 10"
   ],
   "metadata": {
    "collapsed": false,
    "ExecuteTime": {
     "end_time": "2023-11-23T13:28:58.519191Z",
     "start_time": "2023-11-23T13:28:57.523292Z"
    }
   },
   "id": "427046b8c0241083"
  },
  {
   "cell_type": "code",
   "execution_count": 187,
   "outputs": [
    {
     "data": {
      "text/plain": "<tf.Tensor: shape=(2, 2), dtype=int32, numpy=\narray([[100,  70],\n       [ 30,  40]], dtype=int32)>"
     },
     "execution_count": 187,
     "metadata": {},
     "output_type": "execute_result"
    }
   ],
   "source": [
    "# Multiplication\n",
    "tensor * 10"
   ],
   "metadata": {
    "collapsed": false,
    "ExecuteTime": {
     "end_time": "2023-11-23T13:28:58.519271Z",
     "start_time": "2023-11-23T13:28:57.525472Z"
    }
   },
   "id": "40331b24083ffa4b"
  },
  {
   "cell_type": "code",
   "execution_count": 188,
   "outputs": [
    {
     "data": {
      "text/plain": "<tf.Tensor: shape=(2, 2), dtype=int32, numpy=\narray([[ 0, -3],\n       [-7, -6]], dtype=int32)>"
     },
     "execution_count": 188,
     "metadata": {},
     "output_type": "execute_result"
    }
   ],
   "source": [
    "# Subtraction\n",
    "tensor - 10"
   ],
   "metadata": {
    "collapsed": false,
    "ExecuteTime": {
     "end_time": "2023-11-23T13:28:58.519346Z",
     "start_time": "2023-11-23T13:28:57.529261Z"
    }
   },
   "id": "35927ba7e532c9c"
  },
  {
   "cell_type": "code",
   "execution_count": 189,
   "outputs": [
    {
     "data": {
      "text/plain": "<tf.Tensor: shape=(2, 2), dtype=int32, numpy=\narray([[100,  70],\n       [ 30,  40]], dtype=int32)>"
     },
     "execution_count": 189,
     "metadata": {},
     "output_type": "execute_result"
    }
   ],
   "source": [
    "# tensorflow function (library)\n",
    "tf.multiply(tensor, 10)\n",
    "# Use the function!"
   ],
   "metadata": {
    "collapsed": false,
    "ExecuteTime": {
     "end_time": "2023-11-23T13:28:58.537175Z",
     "start_time": "2023-11-23T13:28:57.531768Z"
    }
   },
   "id": "8558cf3a1c019867"
  },
  {
   "cell_type": "code",
   "execution_count": 190,
   "outputs": [
    {
     "data": {
      "text/plain": "<tf.Tensor: shape=(2, 2), dtype=int32, numpy=\narray([[20, 17],\n       [13, 14]], dtype=int32)>"
     },
     "execution_count": 190,
     "metadata": {},
     "output_type": "execute_result"
    }
   ],
   "source": [
    "tf.add(tensor, 10)"
   ],
   "metadata": {
    "collapsed": false,
    "ExecuteTime": {
     "end_time": "2023-11-23T13:28:58.537382Z",
     "start_time": "2023-11-23T13:28:57.534094Z"
    }
   },
   "id": "278590813cfaefa6"
  },
  {
   "cell_type": "code",
   "execution_count": 191,
   "outputs": [
    {
     "data": {
      "text/plain": "<tf.Tensor: shape=(2, 2), dtype=int32, numpy=\narray([[ 0, -3],\n       [-7, -6]], dtype=int32)>"
     },
     "execution_count": 191,
     "metadata": {},
     "output_type": "execute_result"
    }
   ],
   "source": [
    "tf.subtract(tensor, 10)"
   ],
   "metadata": {
    "collapsed": false,
    "ExecuteTime": {
     "end_time": "2023-11-23T13:28:58.537475Z",
     "start_time": "2023-11-23T13:28:57.535922Z"
    }
   },
   "id": "18003db07637fe9c"
  },
  {
   "cell_type": "markdown",
   "source": [
    "### Matrix Multiplication"
   ],
   "metadata": {
    "collapsed": false
   },
   "id": "304df4fe01c1b3ed"
  },
  {
   "cell_type": "markdown",
   "source": [
    "In machine learning, this concept is very common"
   ],
   "metadata": {
    "collapsed": false
   },
   "id": "12c0303b44c861f4"
  },
  {
   "cell_type": "markdown",
   "source": [
    "#### Dot Product"
   ],
   "metadata": {
    "collapsed": false
   },
   "id": "c10ee485d97a6080"
  },
  {
   "cell_type": "code",
   "execution_count": 192,
   "outputs": [
    {
     "data": {
      "text/plain": "<tf.Tensor: shape=(2, 2), dtype=int32, numpy=\narray([[10,  7],\n       [ 3,  4]], dtype=int32)>"
     },
     "execution_count": 192,
     "metadata": {},
     "output_type": "execute_result"
    }
   ],
   "source": [
    "tensor"
   ],
   "metadata": {
    "collapsed": false,
    "ExecuteTime": {
     "end_time": "2023-11-23T13:28:58.583581Z",
     "start_time": "2023-11-23T13:28:57.540502Z"
    }
   },
   "id": "d9697495dcc0fc0a"
  },
  {
   "cell_type": "code",
   "execution_count": 193,
   "outputs": [
    {
     "data": {
      "text/plain": "<tf.Tensor: shape=(2, 2), dtype=int32, numpy=\narray([[121,  98],\n       [ 42,  37]], dtype=int32)>"
     },
     "execution_count": 193,
     "metadata": {},
     "output_type": "execute_result"
    }
   ],
   "source": [
    "tf.matmul(tensor, tensor) # if yo use tensor * tensor it is element wise"
   ],
   "metadata": {
    "collapsed": false,
    "ExecuteTime": {
     "end_time": "2023-11-23T13:28:58.583731Z",
     "start_time": "2023-11-23T13:28:57.542731Z"
    }
   },
   "id": "eba212e7211e96e1"
  },
  {
   "cell_type": "code",
   "execution_count": 194,
   "outputs": [
    {
     "data": {
      "text/plain": "<tf.Tensor: shape=(3, 3), dtype=int32, numpy=\narray([[1, 2, 5],\n       [7, 2, 1],\n       [3, 3, 3]], dtype=int32)>"
     },
     "execution_count": 194,
     "metadata": {},
     "output_type": "execute_result"
    }
   ],
   "source": [
    "tensor_2 = tf.constant([[1, 2, 5],\n",
    "                        [7, 2, 1],\n",
    "                        [3, 3, 3]])\n",
    "tensor_2"
   ],
   "metadata": {
    "collapsed": false,
    "ExecuteTime": {
     "end_time": "2023-11-23T13:28:58.631664Z",
     "start_time": "2023-11-23T13:28:57.545583Z"
    }
   },
   "id": "fda0e5b3357ce384"
  },
  {
   "cell_type": "code",
   "execution_count": 195,
   "outputs": [],
   "source": [
    "tensor_3 = tf.constant([[3, 5],\n",
    "                        [6, 7],\n",
    "                        [1, 8]])"
   ],
   "metadata": {
    "collapsed": false,
    "ExecuteTime": {
     "end_time": "2023-11-23T13:28:58.631777Z",
     "start_time": "2023-11-23T13:28:57.547865Z"
    }
   },
   "id": "61aeaa6eb012c90b"
  },
  {
   "cell_type": "code",
   "execution_count": 196,
   "outputs": [
    {
     "data": {
      "text/plain": "<tf.Tensor: shape=(3, 2), dtype=int32, numpy=\narray([[20, 59],\n       [34, 57],\n       [30, 60]], dtype=int32)>"
     },
     "execution_count": 196,
     "metadata": {},
     "output_type": "execute_result"
    }
   ],
   "source": [
    "tf.matmul(tensor_2, tensor_3)"
   ],
   "metadata": {
    "collapsed": false,
    "ExecuteTime": {
     "end_time": "2023-11-23T13:28:58.631880Z",
     "start_time": "2023-11-23T13:28:57.549586Z"
    }
   },
   "id": "3a1472c451c0521a"
  },
  {
   "cell_type": "code",
   "execution_count": 197,
   "outputs": [
    {
     "data": {
      "text/plain": "<tf.Tensor: shape=(3, 2), dtype=int32, numpy=\narray([[20, 59],\n       [34, 57],\n       [30, 60]], dtype=int32)>"
     },
     "execution_count": 197,
     "metadata": {},
     "output_type": "execute_result"
    }
   ],
   "source": [
    "# python operator @\n",
    "tensor_2 @ tensor_3"
   ],
   "metadata": {
    "collapsed": false,
    "ExecuteTime": {
     "end_time": "2023-11-23T13:28:58.631965Z",
     "start_time": "2023-11-23T13:28:57.552018Z"
    }
   },
   "id": "5f1530b59e8f7ffb"
  },
  {
   "cell_type": "code",
   "execution_count": 198,
   "outputs": [],
   "source": [
    "# inverse of matrix\n",
    "X = tf.constant([[1, 2],\n",
    "                 [3, 4],\n",
    "                 [5, 6]])\n",
    "Y = tf.constant([[7, 8],\n",
    "                 [9, 10],\n",
    "                 [11, 12]])"
   ],
   "metadata": {
    "collapsed": false,
    "ExecuteTime": {
     "end_time": "2023-11-23T13:28:58.639602Z",
     "start_time": "2023-11-23T13:28:57.553888Z"
    }
   },
   "id": "14378e99d4c60eec"
  },
  {
   "cell_type": "code",
   "execution_count": 199,
   "outputs": [],
   "source": [
    "Y = tf.transpose(Y)"
   ],
   "metadata": {
    "collapsed": false,
    "ExecuteTime": {
     "end_time": "2023-11-23T13:28:58.649529Z",
     "start_time": "2023-11-23T13:28:57.556072Z"
    }
   },
   "id": "c2acdce25f657001"
  },
  {
   "cell_type": "code",
   "execution_count": 200,
   "outputs": [
    {
     "data": {
      "text/plain": "<tf.Tensor: shape=(3, 3), dtype=int32, numpy=\narray([[ 23,  29,  35],\n       [ 53,  67,  81],\n       [ 83, 105, 127]], dtype=int32)>"
     },
     "execution_count": 200,
     "metadata": {},
     "output_type": "execute_result"
    }
   ],
   "source": [
    "tf.matmul(X, Y)"
   ],
   "metadata": {
    "collapsed": false,
    "ExecuteTime": {
     "end_time": "2023-11-23T13:28:58.679946Z",
     "start_time": "2023-11-23T13:28:57.560902Z"
    }
   },
   "id": "e240e073cceb6d04"
  },
  {
   "cell_type": "code",
   "execution_count": 201,
   "outputs": [],
   "source": [
    "# Can also use reshape(X, shape=(2,3))"
   ],
   "metadata": {
    "collapsed": false,
    "ExecuteTime": {
     "end_time": "2023-11-23T13:28:58.680023Z",
     "start_time": "2023-11-23T13:28:57.563870Z"
    }
   },
   "id": "8bc7dd0bb3f855fe"
  },
  {
   "cell_type": "code",
   "execution_count": 202,
   "outputs": [
    {
     "data": {
      "text/plain": "<tf.Tensor: shape=(3, 3), dtype=int32, numpy=\narray([[ 23,  29,  35],\n       [ 53,  67,  81],\n       [ 83, 105, 127]], dtype=int32)>"
     },
     "execution_count": 202,
     "metadata": {},
     "output_type": "execute_result"
    }
   ],
   "source": [
    "# perform dotproduct on x & y\n",
    "tf.tensordot(X, Y, axes=1)"
   ],
   "metadata": {
    "collapsed": false,
    "ExecuteTime": {
     "end_time": "2023-11-23T13:28:58.680116Z",
     "start_time": "2023-11-23T13:28:57.566264Z"
    }
   },
   "id": "f345eeca51780ed7"
  },
  {
   "cell_type": "code",
   "execution_count": 203,
   "outputs": [
    {
     "data": {
      "text/plain": "<tf.Tensor: shape=(2, 2), dtype=int32, numpy=\narray([[ 89, 116],\n       [ 98, 128]], dtype=int32)>"
     },
     "execution_count": 203,
     "metadata": {},
     "output_type": "execute_result"
    }
   ],
   "source": [
    "tf.tensordot(Y, tf.reshape(X, shape=(3,2)), axes=1)"
   ],
   "metadata": {
    "collapsed": false,
    "ExecuteTime": {
     "end_time": "2023-11-23T13:28:58.680204Z",
     "start_time": "2023-11-23T13:28:57.568513Z"
    }
   },
   "id": "a774ec174b55f51a"
  },
  {
   "cell_type": "code",
   "execution_count": 204,
   "outputs": [
    {
     "name": "stdout",
     "output_type": "stream",
     "text": [
      "Normal X:\n",
      "tf.Tensor(\n",
      "[[1 2]\n",
      " [3 4]\n",
      " [5 6]], shape=(3, 2), dtype=int32) \n",
      "\n",
      "X reshaed to (2, 3):\n",
      "tf.Tensor(\n",
      "[[1 2 3]\n",
      " [4 5 6]], shape=(2, 3), dtype=int32) \n",
      "\n",
      "X transposed:\n",
      "tf.Tensor(\n",
      "[[1 3 5]\n",
      " [2 4 6]], shape=(2, 3), dtype=int32)\n"
     ]
    }
   ],
   "source": [
    "print(\"Normal X:\")\n",
    "print(X, \"\\n\")\n",
    "\n",
    "print(\"X reshaed to (2, 3):\")\n",
    "print(tf.reshape(X, shape=(2,3)), \"\\n\")\n",
    "\n",
    "print(\"X transposed:\")\n",
    "print(tf.transpose(X))"
   ],
   "metadata": {
    "collapsed": false,
    "ExecuteTime": {
     "end_time": "2023-11-23T13:28:58.698Z",
     "start_time": "2023-11-23T13:28:57.572107Z"
    }
   },
   "id": "a991f675be49e115"
  },
  {
   "cell_type": "markdown",
   "source": [
    "Generally, you should use transpose instead of reshape."
   ],
   "metadata": {
    "collapsed": false
   },
   "id": "b4f0b6d67a0bce20"
  },
  {
   "cell_type": "markdown",
   "source": [
    "### Changing Tensor Datatypes"
   ],
   "metadata": {
    "collapsed": false
   },
   "id": "31a21c8875c566f7"
  },
  {
   "cell_type": "code",
   "execution_count": 205,
   "outputs": [
    {
     "data": {
      "text/plain": "tf.float32"
     },
     "execution_count": 205,
     "metadata": {},
     "output_type": "execute_result"
    }
   ],
   "source": [
    "B = tf.constant([1.7, 7.4])\n",
    "B.dtype"
   ],
   "metadata": {
    "collapsed": false,
    "ExecuteTime": {
     "end_time": "2023-11-23T13:28:58.698109Z",
     "start_time": "2023-11-23T13:28:57.576272Z"
    }
   },
   "id": "bc1f01537595b027"
  },
  {
   "cell_type": "code",
   "execution_count": 206,
   "outputs": [
    {
     "data": {
      "text/plain": "tf.int32"
     },
     "execution_count": 206,
     "metadata": {},
     "output_type": "execute_result"
    }
   ],
   "source": [
    "C = tf.constant([7,10])\n",
    "C.dtype"
   ],
   "metadata": {
    "collapsed": false,
    "ExecuteTime": {
     "end_time": "2023-11-23T13:28:58.698187Z",
     "start_time": "2023-11-23T13:28:57.578522Z"
    }
   },
   "id": "1cceb1925b3edf87"
  },
  {
   "cell_type": "code",
   "execution_count": 207,
   "outputs": [
    {
     "data": {
      "text/plain": "tf.float16"
     },
     "execution_count": 207,
     "metadata": {},
     "output_type": "execute_result"
    }
   ],
   "source": [
    "# change from float 32 to 16 --> reduced precision\n",
    "D= tf.cast(B, dtype=tf.float16)\n",
    "D.dtype"
   ],
   "metadata": {
    "collapsed": false,
    "ExecuteTime": {
     "end_time": "2023-11-23T13:28:58.746434Z",
     "start_time": "2023-11-23T13:28:57.580574Z"
    }
   },
   "id": "c442297401553e02"
  },
  {
   "cell_type": "code",
   "execution_count": 208,
   "outputs": [
    {
     "data": {
      "text/plain": "tf.float32"
     },
     "execution_count": 208,
     "metadata": {},
     "output_type": "execute_result"
    }
   ],
   "source": [
    "E = tf.cast(D, dtype=tf.float32)\n",
    "E.dtype"
   ],
   "metadata": {
    "collapsed": false,
    "ExecuteTime": {
     "end_time": "2023-11-23T13:28:58.802194Z",
     "start_time": "2023-11-23T13:28:57.585291Z"
    }
   },
   "id": "a752f2d76f0403ea"
  },
  {
   "cell_type": "markdown",
   "source": [
    "### Aggregating tensors"
   ],
   "metadata": {
    "collapsed": false
   },
   "id": "b7c56773ddb48396"
  },
  {
   "cell_type": "markdown",
   "source": [
    "Condensing them from multiple values down to a smaller amount of values."
   ],
   "metadata": {
    "collapsed": false
   },
   "id": "62ee7b1962dcb1ef"
  },
  {
   "cell_type": "code",
   "execution_count": 209,
   "outputs": [
    {
     "data": {
      "text/plain": "array([ -7, -10], dtype=int32)"
     },
     "execution_count": 209,
     "metadata": {},
     "output_type": "execute_result"
    }
   ],
   "source": [
    "# Getting the absolute values -- not the best\n",
    "D = tf.constant([-7,-10])\n",
    "D.numpy()"
   ],
   "metadata": {
    "collapsed": false,
    "ExecuteTime": {
     "end_time": "2023-11-23T13:28:58.802396Z",
     "start_time": "2023-11-23T13:28:57.590432Z"
    }
   },
   "id": "8b22d5e92a9279ca"
  },
  {
   "cell_type": "code",
   "execution_count": 210,
   "outputs": [
    {
     "data": {
      "text/plain": "<tf.Tensor: shape=(2,), dtype=int32, numpy=array([ 7, 10], dtype=int32)>"
     },
     "execution_count": 210,
     "metadata": {},
     "output_type": "execute_result"
    }
   ],
   "source": [
    "tf.abs(D)"
   ],
   "metadata": {
    "collapsed": false,
    "ExecuteTime": {
     "end_time": "2023-11-23T13:28:58.829755Z",
     "start_time": "2023-11-23T13:28:57.592411Z"
    }
   },
   "id": "4671257c1ffaa898"
  },
  {
   "cell_type": "markdown",
   "source": [
    "Let's go through the following forms of aggregation:\n",
    "- minimum\n",
    "- maximum\n",
    "- mean\n",
    "- sum"
   ],
   "metadata": {
    "collapsed": false
   },
   "id": "ce898cb9b663a4b1"
  },
  {
   "cell_type": "code",
   "execution_count": 211,
   "outputs": [
    {
     "data": {
      "text/plain": "<tf.Tensor: shape=(50,), dtype=int64, numpy=\narray([51, 92, 14, 71, 60, 20, 82, 86, 74, 74, 87, 99, 23,  2, 21, 52,  1,\n       87, 29, 37,  1, 63, 59, 20, 32, 75, 57, 21, 88, 48, 90, 58, 41, 91,\n       59, 79, 14, 61, 61, 46, 61, 50, 54, 63,  2, 50,  6, 20, 72, 38])>"
     },
     "execution_count": 211,
     "metadata": {},
     "output_type": "execute_result"
    }
   ],
   "source": [
    "# Larger Tensor\n",
    "tf.random.set_seed(42)\n",
    "np.random.seed(42)\n",
    "E = tf.constant(np.random.randint(0,100,size=50))\n",
    "E"
   ],
   "metadata": {
    "collapsed": false,
    "ExecuteTime": {
     "end_time": "2023-11-23T13:28:58.830474Z",
     "start_time": "2023-11-23T13:28:57.604625Z"
    }
   },
   "id": "e50b4211b6378c45"
  },
  {
   "cell_type": "code",
   "execution_count": 212,
   "outputs": [
    {
     "data": {
      "text/plain": "1"
     },
     "execution_count": 212,
     "metadata": {},
     "output_type": "execute_result"
    }
   ],
   "source": [
    "tf.reduce_min(E).numpy()"
   ],
   "metadata": {
    "collapsed": false,
    "ExecuteTime": {
     "end_time": "2023-11-23T13:28:58.830574Z",
     "start_time": "2023-11-23T13:28:57.607929Z"
    }
   },
   "id": "806c3d37041709b4"
  },
  {
   "cell_type": "code",
   "execution_count": 213,
   "outputs": [
    {
     "data": {
      "text/plain": "99"
     },
     "execution_count": 213,
     "metadata": {},
     "output_type": "execute_result"
    }
   ],
   "source": [
    "tf.reduce_max(E).numpy()"
   ],
   "metadata": {
    "collapsed": false,
    "ExecuteTime": {
     "end_time": "2023-11-23T13:28:58.830652Z",
     "start_time": "2023-11-23T13:28:57.610512Z"
    }
   },
   "id": "cee67f9357bda437"
  },
  {
   "cell_type": "code",
   "execution_count": 214,
   "outputs": [
    {
     "data": {
      "text/plain": "50"
     },
     "execution_count": 214,
     "metadata": {},
     "output_type": "execute_result"
    }
   ],
   "source": [
    "tf.reduce_mean(E).numpy()"
   ],
   "metadata": {
    "collapsed": false,
    "ExecuteTime": {
     "end_time": "2023-11-23T13:28:58.830730Z",
     "start_time": "2023-11-23T13:28:57.612991Z"
    }
   },
   "id": "fda48c9331287075"
  },
  {
   "cell_type": "code",
   "execution_count": 215,
   "outputs": [
    {
     "data": {
      "text/plain": "2542"
     },
     "execution_count": 215,
     "metadata": {},
     "output_type": "execute_result"
    }
   ],
   "source": [
    "tf.reduce_sum(E).numpy()"
   ],
   "metadata": {
    "collapsed": false,
    "ExecuteTime": {
     "end_time": "2023-11-23T13:28:58.830853Z",
     "start_time": "2023-11-23T13:28:57.615656Z"
    }
   },
   "id": "95063efb1e47b9d1"
  },
  {
   "cell_type": "markdown",
   "source": [
    "Challenge:\n",
    "- variance\n",
    "- standard deviation"
   ],
   "metadata": {
    "collapsed": false
   },
   "id": "b824e5a8e65ffccc"
  },
  {
   "cell_type": "code",
   "execution_count": 216,
   "outputs": [],
   "source": [
    "E_float = tf.cast(E, dtype=tf.float16)"
   ],
   "metadata": {
    "collapsed": false,
    "ExecuteTime": {
     "end_time": "2023-11-23T13:28:58.830892Z",
     "start_time": "2023-11-23T13:28:57.618334Z"
    }
   },
   "id": "28259380de7d5a25"
  },
  {
   "cell_type": "code",
   "execution_count": 217,
   "outputs": [
    {
     "data": {
      "text/plain": "<tf.Tensor: shape=(), dtype=float16, numpy=775.5>"
     },
     "execution_count": 217,
     "metadata": {},
     "output_type": "execute_result"
    }
   ],
   "source": [
    "tf.math.reduce_variance(E_float)"
   ],
   "metadata": {
    "collapsed": false,
    "ExecuteTime": {
     "end_time": "2023-11-23T13:28:58.831178Z",
     "start_time": "2023-11-23T13:28:57.622434Z"
    }
   },
   "id": "81227b3215f1e3c3"
  },
  {
   "cell_type": "code",
   "execution_count": 218,
   "outputs": [
    {
     "data": {
      "text/plain": "<tf.Tensor: shape=(), dtype=float16, numpy=27.84>"
     },
     "execution_count": 218,
     "metadata": {},
     "output_type": "execute_result"
    }
   ],
   "source": [
    "tf.math.reduce_std(E_float)"
   ],
   "metadata": {
    "collapsed": false,
    "ExecuteTime": {
     "end_time": "2023-11-23T13:28:58.831250Z",
     "start_time": "2023-11-23T13:28:57.635587Z"
    }
   },
   "id": "4c1016a555fd63bd"
  },
  {
   "cell_type": "code",
   "execution_count": 219,
   "outputs": [
    {
     "data": {
      "text/plain": "<tf.Tensor: shape=(), dtype=int64, numpy=776>"
     },
     "execution_count": 219,
     "metadata": {},
     "output_type": "execute_result"
    }
   ],
   "source": [
    "tfp.stats.variance(E)"
   ],
   "metadata": {
    "collapsed": false,
    "ExecuteTime": {
     "end_time": "2023-11-23T13:28:58.831328Z",
     "start_time": "2023-11-23T13:28:57.641412Z"
    }
   },
   "id": "eb17ce1b46d183da"
  },
  {
   "cell_type": "code",
   "execution_count": 220,
   "outputs": [
    {
     "data": {
      "text/plain": "<tf.Tensor: shape=(), dtype=float16, numpy=27.84>"
     },
     "execution_count": 220,
     "metadata": {},
     "output_type": "execute_result"
    }
   ],
   "source": [
    "tfp.stats.stddev(E_float)"
   ],
   "metadata": {
    "collapsed": false,
    "ExecuteTime": {
     "end_time": "2023-11-23T13:28:58.831401Z",
     "start_time": "2023-11-23T13:28:57.644434Z"
    }
   },
   "id": "4ceeb3f6ac3212c5"
  },
  {
   "cell_type": "markdown",
   "source": [
    "### Find Positional Max and Min"
   ],
   "metadata": {
    "collapsed": false
   },
   "id": "55ece5cd980d4aa"
  },
  {
   "cell_type": "code",
   "execution_count": 221,
   "outputs": [
    {
     "data": {
      "text/plain": "<tf.Tensor: shape=(50,), dtype=float32, numpy=\narray([0.6645621 , 0.44100678, 0.3528825 , 0.46448255, 0.03366041,\n       0.68467236, 0.74011743, 0.8724445 , 0.22632635, 0.22319686,\n       0.3103881 , 0.7223358 , 0.13318717, 0.5480639 , 0.5746088 ,\n       0.8996835 , 0.00946367, 0.5212307 , 0.6345445 , 0.1993283 ,\n       0.72942245, 0.54583454, 0.10756552, 0.6767061 , 0.6602763 ,\n       0.33695042, 0.60141766, 0.21062577, 0.8527372 , 0.44062173,\n       0.9485276 , 0.23752594, 0.81179297, 0.5263394 , 0.494308  ,\n       0.21612847, 0.8457197 , 0.8718841 , 0.3083862 , 0.6868038 ,\n       0.23764038, 0.7817228 , 0.9671384 , 0.06870162, 0.79873943,\n       0.66028714, 0.5871513 , 0.16461694, 0.7381023 , 0.32054043],\n      dtype=float32)>"
     },
     "execution_count": 221,
     "metadata": {},
     "output_type": "execute_result"
    }
   ],
   "source": [
    "tf.random.set_seed(42)\n",
    "F = tf.random.uniform(shape=[50])\n",
    "F"
   ],
   "metadata": {
    "collapsed": false,
    "ExecuteTime": {
     "end_time": "2023-11-23T13:28:58.831494Z",
     "start_time": "2023-11-23T13:28:57.652721Z"
    }
   },
   "id": "517fbc88b6d6c5dc"
  },
  {
   "cell_type": "code",
   "execution_count": 222,
   "outputs": [
    {
     "name": "stdout",
     "output_type": "stream",
     "text": [
      "Position of the maximum value: 42 with value: 0.9671384\n",
      "Position of the minimum value: 16 with value: 0.009463668\n"
     ]
    }
   ],
   "source": [
    "# Find the position of the maximum value\n",
    "max_position = tf.argmax(F)\n",
    "\n",
    "# Find the position of the minimum value\n",
    "min_position = tf.argmin(F)\n",
    "\n",
    "# Print the positions\n",
    "print(\"Position of the maximum value:\", max_position.numpy(), \"with value:\", F[max_position].numpy())\n",
    "print(\"Position of the minimum value:\", min_position.numpy(), \"with value:\", F[min_position].numpy())"
   ],
   "metadata": {
    "collapsed": false,
    "ExecuteTime": {
     "end_time": "2023-11-23T13:28:58.831571Z",
     "start_time": "2023-11-23T13:28:57.658469Z"
    }
   },
   "id": "904b76876aac8b5d"
  },
  {
   "cell_type": "markdown",
   "source": [
    "### Squeezing a tensor (removing all single dimensions)"
   ],
   "metadata": {
    "collapsed": false
   },
   "id": "617862c6c5d6c00"
  },
  {
   "cell_type": "code",
   "execution_count": 223,
   "outputs": [
    {
     "data": {
      "text/plain": "<tf.Tensor: shape=(1, 1, 1, 1, 50), dtype=float32, numpy=\narray([[[[[0.6645621 , 0.44100678, 0.3528825 , 0.46448255, 0.03366041,\n           0.68467236, 0.74011743, 0.8724445 , 0.22632635, 0.22319686,\n           0.3103881 , 0.7223358 , 0.13318717, 0.5480639 , 0.5746088 ,\n           0.8996835 , 0.00946367, 0.5212307 , 0.6345445 , 0.1993283 ,\n           0.72942245, 0.54583454, 0.10756552, 0.6767061 , 0.6602763 ,\n           0.33695042, 0.60141766, 0.21062577, 0.8527372 , 0.44062173,\n           0.9485276 , 0.23752594, 0.81179297, 0.5263394 , 0.494308  ,\n           0.21612847, 0.8457197 , 0.8718841 , 0.3083862 , 0.6868038 ,\n           0.23764038, 0.7817228 , 0.9671384 , 0.06870162, 0.79873943,\n           0.66028714, 0.5871513 , 0.16461694, 0.7381023 , 0.32054043]]]]],\n      dtype=float32)>"
     },
     "execution_count": 223,
     "metadata": {},
     "output_type": "execute_result"
    }
   ],
   "source": [
    "tf.random.set_seed(42)\n",
    "G = tf.constant(tf.random.uniform(shape=[50]), shape = (1, 1, 1, 1, 50))\n",
    "G"
   ],
   "metadata": {
    "collapsed": false,
    "ExecuteTime": {
     "end_time": "2023-11-23T13:28:58.831667Z",
     "start_time": "2023-11-23T13:28:57.674668Z"
    }
   },
   "id": "d32ecb0e8befa2c6"
  },
  {
   "cell_type": "code",
   "execution_count": 224,
   "outputs": [
    {
     "data": {
      "text/plain": "TensorShape([1, 1, 1, 1, 50])"
     },
     "execution_count": 224,
     "metadata": {},
     "output_type": "execute_result"
    }
   ],
   "source": [
    "G.shape"
   ],
   "metadata": {
    "collapsed": false,
    "ExecuteTime": {
     "end_time": "2023-11-23T13:28:58.831747Z",
     "start_time": "2023-11-23T13:28:57.680956Z"
    }
   },
   "id": "d0f8fa9f6e18742d"
  },
  {
   "cell_type": "code",
   "execution_count": 225,
   "outputs": [
    {
     "data": {
      "text/plain": "TensorShape([50])"
     },
     "execution_count": 225,
     "metadata": {},
     "output_type": "execute_result"
    }
   ],
   "source": [
    "G_squeezed = tf.squeeze(G)\n",
    "G_squeezed.shape"
   ],
   "metadata": {
    "collapsed": false,
    "ExecuteTime": {
     "end_time": "2023-11-23T13:28:58.831819Z",
     "start_time": "2023-11-23T13:28:57.683105Z"
    }
   },
   "id": "6012541624c50889"
  },
  {
   "cell_type": "markdown",
   "source": [
    "### One hot encoding tensors"
   ],
   "metadata": {
    "collapsed": false
   },
   "id": "74139c07c7ac008f"
  },
  {
   "cell_type": "code",
   "execution_count": 226,
   "outputs": [
    {
     "name": "stdout",
     "output_type": "stream",
     "text": [
      "4\n"
     ]
    },
    {
     "data": {
      "text/plain": "<tf.Tensor: shape=(4, 4), dtype=float32, numpy=\narray([[1., 0., 0., 0.],\n       [0., 1., 0., 0.],\n       [0., 0., 1., 0.],\n       [0., 0., 0., 1.]], dtype=float32)>"
     },
     "execution_count": 226,
     "metadata": {},
     "output_type": "execute_result"
    }
   ],
   "source": [
    "some_list = [0, 1, 2, 3]\n",
    "print(len(some_list))\n",
    "# one hot encode\n",
    "tf.one_hot(some_list, depth = 4)"
   ],
   "metadata": {
    "collapsed": false,
    "ExecuteTime": {
     "end_time": "2023-11-23T13:28:58.831923Z",
     "start_time": "2023-11-23T13:28:57.685390Z"
    }
   },
   "id": "3150e19ccfbaad8b"
  },
  {
   "cell_type": "code",
   "execution_count": 227,
   "outputs": [
    {
     "data": {
      "text/plain": "<tf.Tensor: shape=(4, 4), dtype=string, numpy=\narray([[b'Yo I love deep learning', b'I also like to dance',\n        b'I also like to dance', b'I also like to dance'],\n       [b'I also like to dance', b'Yo I love deep learning',\n        b'I also like to dance', b'I also like to dance'],\n       [b'I also like to dance', b'I also like to dance',\n        b'Yo I love deep learning', b'I also like to dance'],\n       [b'I also like to dance', b'I also like to dance',\n        b'I also like to dance', b'Yo I love deep learning']],\n      dtype=object)>"
     },
     "execution_count": 227,
     "metadata": {},
     "output_type": "execute_result"
    }
   ],
   "source": [
    "# specify custom values for one hot encoding\n",
    "tf.one_hot(some_list, depth =4, on_value=\"Yo I love deep learning\", off_value=\"I also like to dance\")"
   ],
   "metadata": {
    "collapsed": false,
    "ExecuteTime": {
     "end_time": "2023-11-23T13:28:58.832007Z",
     "start_time": "2023-11-23T13:28:57.693830Z"
    }
   },
   "id": "536ae284b152905c"
  },
  {
   "cell_type": "markdown",
   "source": [
    "### More tensor math"
   ],
   "metadata": {
    "collapsed": false
   },
   "id": "8194786ab36d9a5b"
  },
  {
   "cell_type": "markdown",
   "source": [
    "- squaring\n",
    "- log\n",
    "- square root"
   ],
   "metadata": {
    "collapsed": false
   },
   "id": "30be44aa9f825c69"
  },
  {
   "cell_type": "code",
   "execution_count": 228,
   "outputs": [
    {
     "data": {
      "text/plain": "<tf.Tensor: shape=(9,), dtype=int32, numpy=array([1, 2, 3, 4, 5, 6, 7, 8, 9], dtype=int32)>"
     },
     "execution_count": 228,
     "metadata": {},
     "output_type": "execute_result"
    }
   ],
   "source": [
    "H = tf.range(1,10)\n",
    "H"
   ],
   "metadata": {
    "collapsed": false,
    "ExecuteTime": {
     "end_time": "2023-11-23T13:28:58.832248Z",
     "start_time": "2023-11-23T13:28:57.696361Z"
    }
   },
   "id": "bf1d902e92fd1c4b"
  },
  {
   "cell_type": "code",
   "execution_count": 229,
   "outputs": [
    {
     "data": {
      "text/plain": "<tf.Tensor: shape=(9,), dtype=int32, numpy=array([ 1,  4,  9, 16, 25, 36, 49, 64, 81], dtype=int32)>"
     },
     "execution_count": 229,
     "metadata": {},
     "output_type": "execute_result"
    }
   ],
   "source": [
    "tf.square(H)"
   ],
   "metadata": {
    "collapsed": false,
    "ExecuteTime": {
     "end_time": "2023-11-23T13:28:58.832326Z",
     "start_time": "2023-11-23T13:28:57.702065Z"
    }
   },
   "id": "48dbb8b39d935cbe"
  },
  {
   "cell_type": "code",
   "execution_count": 230,
   "outputs": [],
   "source": [
    "H_float = tf.cast(H, dtype=tf.float32)"
   ],
   "metadata": {
    "collapsed": false,
    "ExecuteTime": {
     "end_time": "2023-11-23T13:28:58.832369Z",
     "start_time": "2023-11-23T13:28:57.707138Z"
    }
   },
   "id": "cf7c7742fcfacc54"
  },
  {
   "cell_type": "code",
   "execution_count": 231,
   "outputs": [
    {
     "data": {
      "text/plain": "<tf.Tensor: shape=(9,), dtype=float32, numpy=\narray([1.       , 1.4142135, 1.7320508, 2.       , 2.236068 , 2.4494898,\n       2.6457512, 2.828427 , 3.       ], dtype=float32)>"
     },
     "execution_count": 231,
     "metadata": {},
     "output_type": "execute_result"
    }
   ],
   "source": [
    "tf.math.sqrt(H_float)"
   ],
   "metadata": {
    "collapsed": false,
    "ExecuteTime": {
     "end_time": "2023-11-23T13:28:58.832440Z",
     "start_time": "2023-11-23T13:28:57.711515Z"
    }
   },
   "id": "7f3367d5344a4c5d"
  },
  {
   "cell_type": "code",
   "execution_count": 232,
   "outputs": [
    {
     "data": {
      "text/plain": "<tf.Tensor: shape=(9,), dtype=float32, numpy=\narray([0.       , 0.6931472, 1.0986123, 1.3862944, 1.609438 , 1.7917595,\n       1.9459102, 2.0794415, 2.1972246], dtype=float32)>"
     },
     "execution_count": 232,
     "metadata": {},
     "output_type": "execute_result"
    }
   ],
   "source": [
    "tf.math.log(H_float)"
   ],
   "metadata": {
    "collapsed": false,
    "ExecuteTime": {
     "end_time": "2023-11-23T13:28:58.832514Z",
     "start_time": "2023-11-23T13:28:57.716719Z"
    }
   },
   "id": "8f07c65e4eef8fd"
  },
  {
   "cell_type": "markdown",
   "source": [
    "### TensorFlow and NumPy compatibility"
   ],
   "metadata": {
    "collapsed": false
   },
   "id": "64c6bb4b6105ce52"
  },
  {
   "cell_type": "code",
   "execution_count": 233,
   "outputs": [
    {
     "data": {
      "text/plain": "<tf.Tensor: shape=(3,), dtype=float64, numpy=array([ 3.,  7., 10.])>"
     },
     "execution_count": 233,
     "metadata": {},
     "output_type": "execute_result"
    }
   ],
   "source": [
    "J = tf.constant(np.array([3., 7., 10.]))\n",
    "J"
   ],
   "metadata": {
    "collapsed": false,
    "ExecuteTime": {
     "end_time": "2023-11-23T13:28:58.832585Z",
     "start_time": "2023-11-23T13:28:57.722257Z"
    }
   },
   "id": "2d91715ffb24a2a6"
  },
  {
   "cell_type": "code",
   "execution_count": 234,
   "outputs": [
    {
     "data": {
      "text/plain": "(array([ 3.,  7., 10.]), numpy.ndarray)"
     },
     "execution_count": 234,
     "metadata": {},
     "output_type": "execute_result"
    }
   ],
   "source": [
    "# conver tensor back into numpy array\n",
    "np.array(J), type(np.array(J))"
   ],
   "metadata": {
    "collapsed": false,
    "ExecuteTime": {
     "end_time": "2023-11-23T13:28:58.832658Z",
     "start_time": "2023-11-23T13:28:57.725427Z"
    }
   },
   "id": "3d0143dc5870e5e5"
  },
  {
   "cell_type": "code",
   "execution_count": 235,
   "outputs": [
    {
     "data": {
      "text/plain": "(array([ 3.,  7., 10.]), numpy.ndarray)"
     },
     "execution_count": 235,
     "metadata": {},
     "output_type": "execute_result"
    }
   ],
   "source": [
    "# Conver tensor J to NumPy array\n",
    "J.numpy(), type(J.numpy())"
   ],
   "metadata": {
    "collapsed": false,
    "ExecuteTime": {
     "end_time": "2023-11-23T13:28:58.832730Z",
     "start_time": "2023-11-23T13:28:57.727375Z"
    }
   },
   "id": "45f539de1546908e"
  },
  {
   "cell_type": "code",
   "execution_count": 236,
   "outputs": [],
   "source": [
    "J = tf.constant([3.])"
   ],
   "metadata": {
    "collapsed": false,
    "ExecuteTime": {
     "end_time": "2023-11-23T13:28:58.832765Z",
     "start_time": "2023-11-23T13:28:57.730135Z"
    }
   },
   "id": "550e8def1a1e854f"
  },
  {
   "cell_type": "code",
   "execution_count": 237,
   "outputs": [
    {
     "data": {
      "text/plain": "3.0"
     },
     "execution_count": 237,
     "metadata": {},
     "output_type": "execute_result"
    }
   ],
   "source": [
    "J.numpy()[0]"
   ],
   "metadata": {
    "collapsed": false,
    "ExecuteTime": {
     "end_time": "2023-11-23T13:28:58.832843Z",
     "start_time": "2023-11-23T13:28:57.731885Z"
    }
   },
   "id": "9bf6ddf696a6ecdd"
  },
  {
   "cell_type": "code",
   "execution_count": 238,
   "outputs": [
    {
     "data": {
      "text/plain": "(tf.float64, tf.float32)"
     },
     "execution_count": 238,
     "metadata": {},
     "output_type": "execute_result"
    }
   ],
   "source": [
    "# The default types of each are slightly different\n",
    "numpy_J = tf.constant(np.array([3., 7., 10.]))\n",
    "tensor_J = tf.constant([3., 7., 10.])\n",
    "numpy_J.dtype, tensor_J.dtype"
   ],
   "metadata": {
    "collapsed": false,
    "ExecuteTime": {
     "end_time": "2023-11-23T13:28:58.832914Z",
     "start_time": "2023-11-23T13:28:57.735425Z"
    }
   },
   "id": "6e058e6e88969f77"
  },
  {
   "cell_type": "markdown",
   "source": [
    "### 🚀 Making sure our tensor operations run really fast on GPU"
   ],
   "metadata": {
    "collapsed": false
   },
   "id": "9d6fe12587ef91b1"
  },
  {
   "cell_type": "code",
   "execution_count": 239,
   "outputs": [
    {
     "data": {
      "text/plain": "[PhysicalDevice(name='/physical_device:CPU:0', device_type='CPU'),\n PhysicalDevice(name='/physical_device:GPU:0', device_type='GPU')]"
     },
     "execution_count": 239,
     "metadata": {},
     "output_type": "execute_result"
    }
   ],
   "source": [
    "tf.config.list_physical_devices()"
   ],
   "metadata": {
    "collapsed": false,
    "ExecuteTime": {
     "end_time": "2023-11-23T13:28:58.832988Z",
     "start_time": "2023-11-23T13:28:57.737701Z"
    }
   },
   "id": "8fb737b57f9f2baf"
  },
  {
   "cell_type": "code",
   "execution_count": 240,
   "outputs": [],
   "source": [
    "# for colab checking which GPU\n",
    "# !nvidia-smi"
   ],
   "metadata": {
    "collapsed": false,
    "ExecuteTime": {
     "end_time": "2023-11-23T13:28:58.833026Z",
     "start_time": "2023-11-23T13:28:57.739472Z"
    }
   },
   "id": "e9fb4f5e725bcfd"
  },
  {
   "cell_type": "code",
   "execution_count": 241,
   "outputs": [],
   "source": [
    "# How do I get my tensorflow code to run on it?\n",
    "# If you have a CUDA enabled GPU, TensorFlow will automatically use it whenever possible"
   ],
   "metadata": {
    "collapsed": false,
    "ExecuteTime": {
     "end_time": "2023-11-23T13:28:58.833063Z",
     "start_time": "2023-11-23T13:28:57.741127Z"
    }
   },
   "id": "f67c1c5b5b82a96c"
  }
 ],
 "metadata": {
  "kernelspec": {
   "display_name": "Python 3",
   "language": "python",
   "name": "python3"
  },
  "language_info": {
   "codemirror_mode": {
    "name": "ipython",
    "version": 2
   },
   "file_extension": ".py",
   "mimetype": "text/x-python",
   "name": "python",
   "nbconvert_exporter": "python",
   "pygments_lexer": "ipython2",
   "version": "2.7.6"
  }
 },
 "nbformat": 4,
 "nbformat_minor": 5
}
