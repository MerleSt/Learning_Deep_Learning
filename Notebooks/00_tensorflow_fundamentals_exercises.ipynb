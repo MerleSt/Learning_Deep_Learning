{
 "cells": [
  {
   "cell_type": "code",
   "execution_count": 35,
   "id": "initial_id",
   "metadata": {
    "collapsed": true,
    "ExecuteTime": {
     "end_time": "2023-11-23T13:28:59.593459Z",
     "start_time": "2023-11-23T13:28:59.577252Z"
    }
   },
   "outputs": [],
   "source": [
    "import numpy as np\n",
    "import tensorflow as tf"
   ]
  },
  {
   "cell_type": "markdown",
   "source": [
    "**00. TensorFlow Fundamentals Exercises:**\n",
    "1. Create a vector, scalar, matrix and tensor with values of your choosing using tf.constant().\n",
    "2. Find the shape, rank and size of the tensors you created in 1.\n",
    "3. Create two tensors containing random values between 0 and 1 with shape [5, 300].\n",
    "4. Multiply the two tensors you created in 3 using matrix multiplication.\n",
    "5. Multiply the two tensors you created in 3 using dot product.\n",
    "6. Create a tensor with random values between 0 and 1 with shape [224, 224, 3].\n",
    "7. Find the min and max values of the tensor you created in 6 along the first axis.\n",
    "8. Created a tensor with random values of shape [1, 224, 224, 3] then squeeze it to change the shape to [224, 224, 3].\n",
    "9. Create a tensor with shape [10] using your own choice of values, then find the index which has the maximum value.\n",
    "10. One-hot encode the tensor you created in 9."
   ],
   "metadata": {
    "collapsed": false
   },
   "id": "d9dcf64091e4e26"
  },
  {
   "cell_type": "code",
   "execution_count": 36,
   "outputs": [],
   "source": [
    "# 1.\n",
    "vector = tf.constant([101,102])\n",
    "scalar = tf.constant(101)\n",
    "matrix = tf.constant([[[34,12],\n",
    "                      [87,99]],\n",
    "                       [[65, 99],\n",
    "                      [4,3]]])\n",
    "tensor = tf.constant([[[6,9],\n",
    "                       [5,9]],\n",
    "                      [[5,9],\n",
    "                      [5,8]]])"
   ],
   "metadata": {
    "collapsed": false,
    "ExecuteTime": {
     "end_time": "2023-11-23T13:28:59.650044Z",
     "start_time": "2023-11-23T13:28:59.584438Z"
    }
   },
   "id": "9a70994ea9589b69"
  },
  {
   "cell_type": "code",
   "execution_count": 37,
   "outputs": [
    {
     "data": {
      "text/plain": "(TensorShape([2, 2, 2]), 3, <tf.Tensor: shape=(), dtype=int32, numpy=8>)"
     },
     "execution_count": 37,
     "metadata": {},
     "output_type": "execute_result"
    }
   ],
   "source": [
    "# 2.\n",
    "tensor.shape, tensor.ndim, tf.size(tensor)"
   ],
   "metadata": {
    "collapsed": false,
    "ExecuteTime": {
     "end_time": "2023-11-23T13:28:59.650254Z",
     "start_time": "2023-11-23T13:28:59.587288Z"
    }
   },
   "id": "86bed0abb07922a7"
  },
  {
   "cell_type": "code",
   "execution_count": 38,
   "outputs": [],
   "source": [
    "# 3. \n",
    "tensor_1 = tf.random.uniform([5, 300], minval=0, maxval=1)\n",
    "tensor_2 = tf.random.uniform([5, 300], minval=0, maxval=1)"
   ],
   "metadata": {
    "collapsed": false,
    "ExecuteTime": {
     "end_time": "2023-11-23T13:28:59.650292Z",
     "start_time": "2023-11-23T13:28:59.589588Z"
    }
   },
   "id": "1e77a941323cf7ee"
  },
  {
   "cell_type": "code",
   "execution_count": 39,
   "outputs": [
    {
     "data": {
      "text/plain": "<tf.Tensor: shape=(5, 5), dtype=float32, numpy=\narray([[ 98.34755 ,  80.0121  ,  76.37611 ,  70.609406,  74.27988 ],\n       [ 80.0121  , 107.65361 ,  74.474396,  72.36779 ,  79.742485],\n       [ 76.37611 ,  74.474396,  99.23935 ,  71.1331  ,  72.19905 ],\n       [ 70.609406,  72.36779 ,  71.1331  ,  89.66724 ,  69.214325],\n       [ 74.27988 ,  79.742485,  72.19905 ,  69.214325,  99.42442 ]],\n      dtype=float32)>"
     },
     "execution_count": 39,
     "metadata": {},
     "output_type": "execute_result"
    }
   ],
   "source": [
    "# 4. & 5.\n",
    "tf.matmul(tensor_1, tf.transpose(tensor_2))\n",
    "tensor_1 @ tf.transpose(tensor_2)"
   ],
   "metadata": {
    "collapsed": false,
    "ExecuteTime": {
     "end_time": "2023-11-23T13:28:59.660032Z",
     "start_time": "2023-11-23T13:28:59.592558Z"
    }
   },
   "id": "df18cb0e01752331"
  },
  {
   "cell_type": "code",
   "execution_count": 40,
   "outputs": [],
   "source": [
    "# 6.\n",
    "tensor_3 = tf.random.uniform([224, 224, 3], minval=0, maxval=1)"
   ],
   "metadata": {
    "collapsed": false,
    "ExecuteTime": {
     "end_time": "2023-11-23T13:28:59.660126Z",
     "start_time": "2023-11-23T13:28:59.598167Z"
    }
   },
   "id": "416aa373bfafc7f5"
  },
  {
   "cell_type": "code",
   "execution_count": 41,
   "outputs": [
    {
     "data": {
      "text/plain": "<tf.Tensor: shape=(), dtype=float32, numpy=0.99883735>"
     },
     "execution_count": 41,
     "metadata": {},
     "output_type": "execute_result"
    }
   ],
   "source": [
    "# 7.\n",
    "tf.reduce_max(tensor_3[0])"
   ],
   "metadata": {
    "collapsed": false,
    "ExecuteTime": {
     "end_time": "2023-11-23T13:28:59.660187Z",
     "start_time": "2023-11-23T13:28:59.600393Z"
    }
   },
   "id": "fd04a5787e060af4"
  },
  {
   "cell_type": "code",
   "execution_count": 42,
   "outputs": [
    {
     "data": {
      "text/plain": "TensorShape([224, 224, 3])"
     },
     "execution_count": 42,
     "metadata": {},
     "output_type": "execute_result"
    }
   ],
   "source": [
    "# 8. Created a tensor with random values of shape [1, 224, 224, 3] then squeeze it to change the shape to [224, 224, 3].\n",
    "tensor_4 = tf.random.uniform([1, 224, 224, 3])\n",
    "tf.squeeze(tensor_4).shape"
   ],
   "metadata": {
    "collapsed": false,
    "ExecuteTime": {
     "end_time": "2023-11-23T13:28:59.660233Z",
     "start_time": "2023-11-23T13:28:59.604934Z"
    }
   },
   "id": "d23d4c16845c52f6"
  },
  {
   "cell_type": "code",
   "execution_count": 43,
   "outputs": [
    {
     "name": "stdout",
     "output_type": "stream",
     "text": [
      "tf.Tensor(0, shape=(), dtype=int64)\n"
     ]
    }
   ],
   "source": [
    "# 9. Create a tensor with shape [10] using your own choice of values, then find the index which has the maximum value.\n",
    "tensor_5 = tf.constant([10, 9, 8, 7, 6, 5, 4, 5 ,6, 7])\n",
    "print(tf.argmax(tensor_5))"
   ],
   "metadata": {
    "collapsed": false,
    "ExecuteTime": {
     "end_time": "2023-11-23T13:28:59.660284Z",
     "start_time": "2023-11-23T13:28:59.607380Z"
    }
   },
   "id": "7bcd58416cc0b0df"
  },
  {
   "cell_type": "code",
   "execution_count": 44,
   "outputs": [
    {
     "data": {
      "text/plain": "<tf.Tensor: shape=(10, 10), dtype=float32, numpy=\narray([[0., 0., 0., 0., 0., 0., 0., 0., 0., 0.],\n       [0., 0., 0., 0., 0., 0., 0., 0., 0., 1.],\n       [0., 0., 0., 0., 0., 0., 0., 0., 1., 0.],\n       [0., 0., 0., 0., 0., 0., 0., 1., 0., 0.],\n       [0., 0., 0., 0., 0., 0., 1., 0., 0., 0.],\n       [0., 0., 0., 0., 0., 1., 0., 0., 0., 0.],\n       [0., 0., 0., 0., 1., 0., 0., 0., 0., 0.],\n       [0., 0., 0., 0., 0., 1., 0., 0., 0., 0.],\n       [0., 0., 0., 0., 0., 0., 1., 0., 0., 0.],\n       [0., 0., 0., 0., 0., 0., 0., 1., 0., 0.]], dtype=float32)>"
     },
     "execution_count": 44,
     "metadata": {},
     "output_type": "execute_result"
    }
   ],
   "source": [
    "# 10. One Hot Encoding\n",
    "tf.one_hot(tensor_5, depth=10)"
   ],
   "metadata": {
    "collapsed": false,
    "ExecuteTime": {
     "end_time": "2023-11-23T13:28:59.660351Z",
     "start_time": "2023-11-23T13:28:59.609461Z"
    }
   },
   "id": "fb43285417986fa0"
  }
 ],
 "metadata": {
  "kernelspec": {
   "display_name": "Python 3",
   "language": "python",
   "name": "python3"
  },
  "language_info": {
   "codemirror_mode": {
    "name": "ipython",
    "version": 2
   },
   "file_extension": ".py",
   "mimetype": "text/x-python",
   "name": "python",
   "nbconvert_exporter": "python",
   "pygments_lexer": "ipython2",
   "version": "2.7.6"
  }
 },
 "nbformat": 4,
 "nbformat_minor": 5
}
