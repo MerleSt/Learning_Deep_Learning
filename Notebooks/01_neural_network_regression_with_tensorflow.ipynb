{
 "cells": [
  {
   "cell_type": "markdown",
   "source": [
    "# Introduction to Regression with Neural Networks in TenorFlow"
   ],
   "metadata": {
    "collapsed": false
   },
   "id": "de09390adfa92b3d"
  },
  {
   "cell_type": "code",
   "execution_count": 62,
   "id": "initial_id",
   "metadata": {
    "collapsed": true,
    "ExecuteTime": {
     "end_time": "2023-11-24T11:00:03.931555Z",
     "start_time": "2023-11-24T11:00:03.663295Z"
    }
   },
   "outputs": [],
   "source": [
    "import numpy as np\n",
    "import tensorflow as tf\n",
    "import matplotlib.pyplot as plt"
   ]
  },
  {
   "cell_type": "code",
   "execution_count": 2,
   "outputs": [],
   "source": [
    "X = tf.constant(np.array([-7.0, -4.0, -1.0, 2.0, 5.0, 8.0, 11.0, 14.0]))\n",
    "y = tf.constant(np.array([3.0, 6.0, 9.0, 12.0, 15.0, 18.0, 21.0, 24.0]))"
   ],
   "metadata": {
    "collapsed": false,
    "ExecuteTime": {
     "end_time": "2023-11-24T10:25:11.534067Z",
     "start_time": "2023-11-24T10:25:11.532975Z"
    }
   },
   "id": "7eca335ff7ffb3cc"
  },
  {
   "cell_type": "markdown",
   "source": [
    "## Steps in modelling with TensorFlow\n",
    "1. create a model - input, output, hidden layers\n",
    "2. compiling a model - loss function, optimizer, evaluation metrics\n",
    "3. fitting the model"
   ],
   "metadata": {
    "collapsed": false
   },
   "id": "98ea754aba29376c"
  },
  {
   "cell_type": "code",
   "execution_count": 12,
   "outputs": [
    {
     "name": "stdout",
     "output_type": "stream",
     "text": [
      "Epoch 1/5\n",
      "1/1 [==============================] - 0s 82ms/step - loss: 12.2480 - mae: 12.2480\n",
      "Epoch 2/5\n",
      "1/1 [==============================] - 0s 2ms/step - loss: 12.1155 - mae: 12.1155\n",
      "Epoch 3/5\n",
      "1/1 [==============================] - 0s 2ms/step - loss: 11.9830 - mae: 11.9830\n",
      "Epoch 4/5\n",
      "1/1 [==============================] - 0s 2ms/step - loss: 11.8505 - mae: 11.8505\n",
      "Epoch 5/5\n",
      "1/1 [==============================] - 0s 2ms/step - loss: 11.7180 - mae: 11.7180\n"
     ]
    },
    {
     "data": {
      "text/plain": "<keras.src.callbacks.History at 0x2958534d0>"
     },
     "execution_count": 12,
     "metadata": {},
     "output_type": "execute_result"
    }
   ],
   "source": [
    "tf.random.set_seed(42)\n",
    "# 1. Create model using Sequential API\n",
    "model = tf.keras.Sequential([\n",
    "    tf.keras.layers.Dense(1)\n",
    "])\n",
    "\n",
    "# 2. compile the model\n",
    "model.compile(loss=tf.keras.losses.mae,\n",
    "              optimizer = \"SGD\", \n",
    "              metrics=['mae'])\n",
    "\n",
    "# 3. Fitting the model\n",
    "model.fit(tf.expand_dims(X, axis=-1), y, epochs = 5)"
   ],
   "metadata": {
    "collapsed": false,
    "ExecuteTime": {
     "end_time": "2023-11-24T10:27:12.701679Z",
     "start_time": "2023-11-24T10:27:12.570102Z"
    }
   },
   "id": "94a21db3ef723b8f"
  },
  {
   "cell_type": "markdown",
   "source": [
    "### Prediction"
   ],
   "metadata": {
    "collapsed": false
   },
   "id": "5eebf7080dccf082"
  },
  {
   "cell_type": "code",
   "execution_count": 13,
   "outputs": [
    {
     "name": "stdout",
     "output_type": "stream",
     "text": [
      "1/1 [==============================] - 0s 26ms/step\n"
     ]
    },
    {
     "data": {
      "text/plain": "array([[9.106379]], dtype=float32)"
     },
     "execution_count": 13,
     "metadata": {},
     "output_type": "execute_result"
    }
   ],
   "source": [
    "model.predict([17.0])"
   ],
   "metadata": {
    "collapsed": false,
    "ExecuteTime": {
     "end_time": "2023-11-24T10:27:16.367915Z",
     "start_time": "2023-11-24T10:27:16.313014Z"
    }
   },
   "id": "15d778cb690b07a4"
  },
  {
   "cell_type": "markdown",
   "source": [
    "## Improving the Model"
   ],
   "metadata": {
    "collapsed": false
   },
   "id": "ae9ea6b1667f0774"
  },
  {
   "cell_type": "code",
   "execution_count": 30,
   "outputs": [],
   "source": [
    "# Split Data\n",
    "from sklearn.model_selection import train_test_split\n",
    "# Turn tensors into NumPy\n",
    "# Convert the TensorFlow tensors to NumPy arrays\n",
    "X_np = X.numpy()\n",
    "y_np = y.numpy()\n",
    "# Split the data\n",
    "X_train_np, X_test_np, y_train_np, y_test_np = train_test_split(X_np, y_np, test_size=0.2, random_state=42)\n",
    "\n",
    "# Convert the splits back into TensorFlow tensors\n",
    "X_train = tf.convert_to_tensor(X_train_np)\n",
    "X_test = tf.convert_to_tensor(X_test_np)\n",
    "y_train = tf.convert_to_tensor(y_train_np)\n",
    "y_test = tf.convert_to_tensor(y_test_np)"
   ],
   "metadata": {
    "collapsed": false,
    "ExecuteTime": {
     "end_time": "2023-11-24T10:42:08.373339Z",
     "start_time": "2023-11-24T10:42:08.368652Z"
    }
   },
   "id": "fb6af97c33ba075c"
  },
  {
   "cell_type": "code",
   "execution_count": 38,
   "outputs": [
    {
     "name": "stderr",
     "output_type": "stream",
     "text": [
      "WARNING:absl:At this time, the v2.11+ optimizer `tf.keras.optimizers.Adam` runs slowly on M1/M2 Macs, please use the legacy Keras optimizer instead, located at `tf.keras.optimizers.legacy.Adam`.\n",
      "WARNING:absl:`lr` is deprecated in Keras optimizer, please use `learning_rate` or use the legacy optimizer, e.g.,tf.keras.optimizers.legacy.Adam.\n"
     ]
    },
    {
     "name": "stdout",
     "output_type": "stream",
     "text": [
      "Epoch 1/100\n",
      "1/1 [==============================] - 0s 392ms/step - loss: 14.1154 - mae: 14.1154\n",
      "Epoch 2/100\n",
      "1/1 [==============================] - 0s 3ms/step - loss: 13.9760 - mae: 13.9760\n",
      "Epoch 3/100\n",
      "1/1 [==============================] - 0s 3ms/step - loss: 13.8899 - mae: 13.8899\n",
      "Epoch 4/100\n",
      "1/1 [==============================] - 0s 2ms/step - loss: 13.8074 - mae: 13.8074\n",
      "Epoch 5/100\n",
      "1/1 [==============================] - 0s 2ms/step - loss: 13.7131 - mae: 13.7131\n",
      "Epoch 6/100\n",
      "1/1 [==============================] - 0s 2ms/step - loss: 13.5927 - mae: 13.5927\n",
      "Epoch 7/100\n",
      "1/1 [==============================] - 0s 2ms/step - loss: 13.4412 - mae: 13.4412\n",
      "Epoch 8/100\n",
      "1/1 [==============================] - 0s 3ms/step - loss: 13.2474 - mae: 13.2474\n",
      "Epoch 9/100\n",
      "1/1 [==============================] - 0s 2ms/step - loss: 13.0031 - mae: 13.0031\n",
      "Epoch 10/100\n",
      "1/1 [==============================] - 0s 2ms/step - loss: 12.7006 - mae: 12.7006\n",
      "Epoch 11/100\n",
      "1/1 [==============================] - 0s 2ms/step - loss: 12.3222 - mae: 12.3222\n",
      "Epoch 12/100\n",
      "1/1 [==============================] - 0s 2ms/step - loss: 11.8428 - mae: 11.8428\n",
      "Epoch 13/100\n",
      "1/1 [==============================] - 0s 2ms/step - loss: 11.2424 - mae: 11.2424\n",
      "Epoch 14/100\n",
      "1/1 [==============================] - 0s 2ms/step - loss: 10.6221 - mae: 10.6221\n",
      "Epoch 15/100\n",
      "1/1 [==============================] - 0s 2ms/step - loss: 9.9480 - mae: 9.9480\n",
      "Epoch 16/100\n",
      "1/1 [==============================] - 0s 2ms/step - loss: 9.0926 - mae: 9.0926\n",
      "Epoch 17/100\n",
      "1/1 [==============================] - 0s 2ms/step - loss: 8.0256 - mae: 8.0256\n",
      "Epoch 18/100\n",
      "1/1 [==============================] - 0s 2ms/step - loss: 6.7185 - mae: 6.7185\n",
      "Epoch 19/100\n",
      "1/1 [==============================] - 0s 3ms/step - loss: 5.0988 - mae: 5.0988\n",
      "Epoch 20/100\n",
      "1/1 [==============================] - 0s 2ms/step - loss: 4.5467 - mae: 4.5467\n",
      "Epoch 21/100\n",
      "1/1 [==============================] - 0s 3ms/step - loss: 5.3344 - mae: 5.3344\n",
      "Epoch 22/100\n",
      "1/1 [==============================] - 0s 2ms/step - loss: 5.7204 - mae: 5.7204\n",
      "Epoch 23/100\n",
      "1/1 [==============================] - 0s 2ms/step - loss: 5.7467 - mae: 5.7467\n",
      "Epoch 24/100\n",
      "1/1 [==============================] - 0s 2ms/step - loss: 5.4903 - mae: 5.4903\n",
      "Epoch 25/100\n",
      "1/1 [==============================] - 0s 2ms/step - loss: 5.0249 - mae: 5.0249\n",
      "Epoch 26/100\n",
      "1/1 [==============================] - 0s 2ms/step - loss: 4.4388 - mae: 4.4388\n",
      "Epoch 27/100\n",
      "1/1 [==============================] - 0s 3ms/step - loss: 3.8955 - mae: 3.8955\n",
      "Epoch 28/100\n",
      "1/1 [==============================] - 0s 2ms/step - loss: 4.1343 - mae: 4.1343\n",
      "Epoch 29/100\n",
      "1/1 [==============================] - 0s 2ms/step - loss: 4.6158 - mae: 4.6158\n",
      "Epoch 30/100\n",
      "1/1 [==============================] - 0s 2ms/step - loss: 4.6442 - mae: 4.6442\n",
      "Epoch 31/100\n",
      "1/1 [==============================] - 0s 2ms/step - loss: 4.3157 - mae: 4.3157\n",
      "Epoch 32/100\n",
      "1/1 [==============================] - 0s 2ms/step - loss: 3.9580 - mae: 3.9580\n",
      "Epoch 33/100\n",
      "1/1 [==============================] - 0s 2ms/step - loss: 3.8537 - mae: 3.8537\n",
      "Epoch 34/100\n",
      "1/1 [==============================] - 0s 2ms/step - loss: 4.0121 - mae: 4.0121\n",
      "Epoch 35/100\n",
      "1/1 [==============================] - 0s 2ms/step - loss: 4.0360 - mae: 4.0360\n",
      "Epoch 36/100\n",
      "1/1 [==============================] - 0s 2ms/step - loss: 3.9378 - mae: 3.9378\n",
      "Epoch 37/100\n",
      "1/1 [==============================] - 0s 2ms/step - loss: 3.7713 - mae: 3.7713\n",
      "Epoch 38/100\n",
      "1/1 [==============================] - 0s 3ms/step - loss: 3.6410 - mae: 3.6410\n",
      "Epoch 39/100\n",
      "1/1 [==============================] - 0s 2ms/step - loss: 3.6854 - mae: 3.6854\n",
      "Epoch 40/100\n",
      "1/1 [==============================] - 0s 2ms/step - loss: 3.7070 - mae: 3.7070\n",
      "Epoch 41/100\n",
      "1/1 [==============================] - 0s 2ms/step - loss: 3.7305 - mae: 3.7305\n",
      "Epoch 42/100\n",
      "1/1 [==============================] - 0s 2ms/step - loss: 3.6627 - mae: 3.6627\n",
      "Epoch 43/100\n",
      "1/1 [==============================] - 0s 2ms/step - loss: 3.6062 - mae: 3.6062\n",
      "Epoch 44/100\n",
      "1/1 [==============================] - 0s 3ms/step - loss: 3.5394 - mae: 3.5394\n",
      "Epoch 45/100\n",
      "1/1 [==============================] - 0s 2ms/step - loss: 3.4650 - mae: 3.4650\n",
      "Epoch 46/100\n",
      "1/1 [==============================] - 0s 2ms/step - loss: 3.5713 - mae: 3.5713\n",
      "Epoch 47/100\n",
      "1/1 [==============================] - 0s 2ms/step - loss: 3.6046 - mae: 3.6046\n",
      "Epoch 48/100\n",
      "1/1 [==============================] - 0s 2ms/step - loss: 3.5241 - mae: 3.5241\n",
      "Epoch 49/100\n",
      "1/1 [==============================] - 0s 2ms/step - loss: 3.3910 - mae: 3.3910\n",
      "Epoch 50/100\n",
      "1/1 [==============================] - 0s 2ms/step - loss: 3.4042 - mae: 3.4042\n",
      "Epoch 51/100\n",
      "1/1 [==============================] - 0s 2ms/step - loss: 3.4117 - mae: 3.4117\n",
      "Epoch 52/100\n",
      "1/1 [==============================] - 0s 2ms/step - loss: 3.3954 - mae: 3.3954\n",
      "Epoch 53/100\n",
      "1/1 [==============================] - 0s 2ms/step - loss: 3.3632 - mae: 3.3632\n",
      "Epoch 54/100\n",
      "1/1 [==============================] - 0s 2ms/step - loss: 3.3169 - mae: 3.3169\n",
      "Epoch 55/100\n",
      "1/1 [==============================] - 0s 2ms/step - loss: 3.2834 - mae: 3.2834\n",
      "Epoch 56/100\n",
      "1/1 [==============================] - 0s 2ms/step - loss: 3.2464 - mae: 3.2464\n",
      "Epoch 57/100\n",
      "1/1 [==============================] - 0s 2ms/step - loss: 3.2096 - mae: 3.2096\n",
      "Epoch 58/100\n",
      "1/1 [==============================] - 0s 2ms/step - loss: 3.2075 - mae: 3.2075\n",
      "Epoch 59/100\n",
      "1/1 [==============================] - 0s 2ms/step - loss: 3.2101 - mae: 3.2101\n",
      "Epoch 60/100\n",
      "1/1 [==============================] - 0s 2ms/step - loss: 3.1942 - mae: 3.1942\n",
      "Epoch 61/100\n",
      "1/1 [==============================] - 0s 2ms/step - loss: 3.1604 - mae: 3.1604\n",
      "Epoch 62/100\n",
      "1/1 [==============================] - 0s 2ms/step - loss: 3.1098 - mae: 3.1098\n",
      "Epoch 63/100\n",
      "1/1 [==============================] - 0s 2ms/step - loss: 3.0571 - mae: 3.0571\n",
      "Epoch 64/100\n",
      "1/1 [==============================] - 0s 2ms/step - loss: 3.1169 - mae: 3.1169\n",
      "Epoch 65/100\n",
      "1/1 [==============================] - 0s 2ms/step - loss: 3.0985 - mae: 3.0985\n",
      "Epoch 66/100\n",
      "1/1 [==============================] - 0s 2ms/step - loss: 2.9735 - mae: 2.9735\n",
      "Epoch 67/100\n",
      "1/1 [==============================] - 0s 2ms/step - loss: 2.9749 - mae: 2.9749\n",
      "Epoch 68/100\n",
      "1/1 [==============================] - 0s 2ms/step - loss: 2.9560 - mae: 2.9560\n",
      "Epoch 69/100\n",
      "1/1 [==============================] - 0s 3ms/step - loss: 2.8976 - mae: 2.8976\n",
      "Epoch 70/100\n",
      "1/1 [==============================] - 0s 2ms/step - loss: 2.9057 - mae: 2.9057\n",
      "Epoch 71/100\n",
      "1/1 [==============================] - 0s 2ms/step - loss: 2.8387 - mae: 2.8387\n",
      "Epoch 72/100\n",
      "1/1 [==============================] - 0s 2ms/step - loss: 2.8350 - mae: 2.8350\n",
      "Epoch 73/100\n",
      "1/1 [==============================] - 0s 2ms/step - loss: 2.8381 - mae: 2.8381\n",
      "Epoch 74/100\n",
      "1/1 [==============================] - 0s 3ms/step - loss: 2.8173 - mae: 2.8173\n",
      "Epoch 75/100\n",
      "1/1 [==============================] - 0s 2ms/step - loss: 2.7705 - mae: 2.7705\n",
      "Epoch 76/100\n",
      "1/1 [==============================] - 0s 2ms/step - loss: 2.6988 - mae: 2.6988\n",
      "Epoch 77/100\n",
      "1/1 [==============================] - 0s 2ms/step - loss: 2.6817 - mae: 2.6817\n",
      "Epoch 78/100\n",
      "1/1 [==============================] - 0s 2ms/step - loss: 2.6001 - mae: 2.6001\n",
      "Epoch 79/100\n",
      "1/1 [==============================] - 0s 2ms/step - loss: 2.5910 - mae: 2.5910\n",
      "Epoch 80/100\n",
      "1/1 [==============================] - 0s 2ms/step - loss: 2.5932 - mae: 2.5932\n",
      "Epoch 81/100\n",
      "1/1 [==============================] - 0s 2ms/step - loss: 2.5398 - mae: 2.5398\n",
      "Epoch 82/100\n",
      "1/1 [==============================] - 0s 2ms/step - loss: 2.4352 - mae: 2.4352\n",
      "Epoch 83/100\n",
      "1/1 [==============================] - 0s 2ms/step - loss: 2.3421 - mae: 2.3421\n",
      "Epoch 84/100\n",
      "1/1 [==============================] - 0s 2ms/step - loss: 2.4481 - mae: 2.4481\n",
      "Epoch 85/100\n",
      "1/1 [==============================] - 0s 2ms/step - loss: 2.3809 - mae: 2.3809\n",
      "Epoch 86/100\n",
      "1/1 [==============================] - 0s 2ms/step - loss: 2.1992 - mae: 2.1992\n",
      "Epoch 87/100\n",
      "1/1 [==============================] - 0s 2ms/step - loss: 2.2249 - mae: 2.2249\n",
      "Epoch 88/100\n",
      "1/1 [==============================] - 0s 2ms/step - loss: 2.2345 - mae: 2.2345\n",
      "Epoch 89/100\n",
      "1/1 [==============================] - 0s 2ms/step - loss: 2.1038 - mae: 2.1038\n",
      "Epoch 90/100\n",
      "1/1 [==============================] - 0s 2ms/step - loss: 2.0661 - mae: 2.0661\n",
      "Epoch 91/100\n",
      "1/1 [==============================] - 0s 2ms/step - loss: 2.0250 - mae: 2.0250\n",
      "Epoch 92/100\n",
      "1/1 [==============================] - 0s 2ms/step - loss: 1.8491 - mae: 1.8491\n",
      "Epoch 93/100\n",
      "1/1 [==============================] - 0s 2ms/step - loss: 1.7272 - mae: 1.7272\n",
      "Epoch 94/100\n",
      "1/1 [==============================] - 0s 2ms/step - loss: 1.6741 - mae: 1.6741\n",
      "Epoch 95/100\n",
      "1/1 [==============================] - 0s 2ms/step - loss: 1.5438 - mae: 1.5438\n",
      "Epoch 96/100\n",
      "1/1 [==============================] - 0s 2ms/step - loss: 1.4278 - mae: 1.4278\n",
      "Epoch 97/100\n",
      "1/1 [==============================] - 0s 2ms/step - loss: 1.2775 - mae: 1.2775\n",
      "Epoch 98/100\n",
      "1/1 [==============================] - 0s 2ms/step - loss: 1.1912 - mae: 1.1912\n",
      "Epoch 99/100\n",
      "1/1 [==============================] - 0s 2ms/step - loss: 1.0240 - mae: 1.0240\n",
      "Epoch 100/100\n",
      "1/1 [==============================] - 0s 2ms/step - loss: 0.8463 - mae: 0.8463\n"
     ]
    },
    {
     "data": {
      "text/plain": "<keras.src.callbacks.History at 0x2e53d3610>"
     },
     "execution_count": 38,
     "metadata": {},
     "output_type": "execute_result"
    }
   ],
   "source": [
    "tf.random.set_seed(42)\n",
    "model = tf.keras.Sequential([\n",
    "    tf.keras.layers.Dense(100, activation='relu'),\n",
    "    tf.keras.layers.Dense(100, activation='relu'),\n",
    "    tf.keras.layers.Dense(100, activation='relu'),\n",
    "    tf.keras.layers.Dense(100, activation='relu'),\n",
    "    tf.keras.layers.Dense(100, activation='relu'),\n",
    "    tf.keras.layers.Dense(100, activation='relu'),\n",
    "    tf.keras.layers.Dense(100, activation='relu'),\n",
    "    tf.keras.layers.Dense(1)\n",
    "])\n",
    "\n",
    "model.compile(loss=tf.keras.losses.mae,\n",
    "              optimizer = tf.keras.optimizers.Adam(lr=0.0001), \n",
    "              metrics=['mae'])\n",
    "\n",
    "\n",
    "model.fit(tf.expand_dims(X_train, axis=-1), y_train, epochs=100)"
   ],
   "metadata": {
    "collapsed": false,
    "ExecuteTime": {
     "end_time": "2023-11-24T10:45:26.771075Z",
     "start_time": "2023-11-24T10:45:26.040255Z"
    }
   },
   "id": "3d0710859e1ba25d"
  },
  {
   "cell_type": "code",
   "execution_count": 39,
   "outputs": [
    {
     "name": "stdout",
     "output_type": "stream",
     "text": [
      "1/1 [==============================] - 0s 28ms/step\n"
     ]
    }
   ],
   "source": [
    "predictions = model.predict([X_test])"
   ],
   "metadata": {
    "collapsed": false,
    "ExecuteTime": {
     "end_time": "2023-11-24T10:45:29.566622Z",
     "start_time": "2023-11-24T10:45:29.521960Z"
    }
   },
   "id": "b0f965dd6e7d21ea"
  },
  {
   "cell_type": "markdown",
   "source": [
    "### Evaluate the model"
   ],
   "metadata": {
    "collapsed": false
   },
   "id": "78d3630bebb3def3"
  },
  {
   "cell_type": "markdown",
   "source": [
    "#### Visualise\n",
    "- Data\n",
    "- The Model\n",
    "- The training of a model\n",
    "- The predictions"
   ],
   "metadata": {
    "collapsed": false
   },
   "id": "63a0ce3fd9d48fa8"
  },
  {
   "cell_type": "code",
   "execution_count": 64,
   "outputs": [],
   "source": [
    "# More Data\n",
    "X = tf.range(-100, 100, 4)\n",
    "y = X + 10"
   ],
   "metadata": {
    "collapsed": false,
    "ExecuteTime": {
     "end_time": "2023-11-24T11:00:54.905766Z",
     "start_time": "2023-11-24T11:00:54.897300Z"
    }
   },
   "id": "9094026e904db885"
  },
  {
   "cell_type": "code",
   "execution_count": 66,
   "outputs": [
    {
     "data": {
      "text/plain": "<Figure size 640x480 with 1 Axes>",
      "image/png": "[encoded data removed]"
     },
     "metadata": {},
     "output_type": "display_data"
    }
   ],
   "source": [
    "# Visualize the data\n",
    "plt.scatter(X, y);"
   ],
   "metadata": {
    "collapsed": false,
    "ExecuteTime": {
     "end_time": "2023-11-24T11:01:47.012240Z",
     "start_time": "2023-11-24T11:01:46.945131Z"
    }
   },
   "id": "f9515a332f53328b"
  },
  {
   "cell_type": "code",
   "execution_count": 72,
   "outputs": [
    {
     "data": {
      "text/plain": "50"
     },
     "execution_count": 72,
     "metadata": {},
     "output_type": "execute_result"
    }
   ],
   "source": [
    "# The 3 sets...\n",
    "len(X)"
   ],
   "metadata": {
    "collapsed": false,
    "ExecuteTime": {
     "end_time": "2023-11-24T11:08:42.275366Z",
     "start_time": "2023-11-24T11:08:42.272356Z"
    }
   },
   "id": "237aab3cc5deb820"
  },
  {
   "cell_type": "code",
   "execution_count": 73,
   "outputs": [],
   "source": [
    "# Split the data into train and test\n",
    "X_train = X[:40]\n",
    "X_test = X[40:]\n",
    "y_train = y[:40]\n",
    "y_test = y[40:]"
   ],
   "metadata": {
    "collapsed": false,
    "ExecuteTime": {
     "end_time": "2023-11-24T11:11:06.285254Z",
     "start_time": "2023-11-24T11:11:06.275634Z"
    }
   },
   "id": "c50908ebd38cd10f"
  },
  {
   "cell_type": "code",
   "execution_count": 74,
   "outputs": [
    {
     "data": {
      "text/plain": "<Figure size 1000x700 with 1 Axes>",
      "image/png": "[encoded data removed]"
     },
     "metadata": {},
     "output_type": "display_data"
    }
   ],
   "source": [
    "plt.figure(figsize=(10,7))\n",
    "# Plot training data in blue\n",
    "plt.scatter(X_train, y_train, c='b', label='Training data')\n",
    "plt.scatter(X_test, y_test, c='g', label='Test data')\n",
    "plt.legend();"
   ],
   "metadata": {
    "collapsed": false,
    "ExecuteTime": {
     "end_time": "2023-11-24T11:13:57.884887Z",
     "start_time": "2023-11-24T11:13:57.773111Z"
    }
   },
   "id": "fba8e53628bf389a"
  },
  {
   "cell_type": "markdown",
   "source": [
    "##### Visualising the model"
   ],
   "metadata": {
    "collapsed": false
   },
   "id": "605285b0cbe387"
  },
  {
   "cell_type": "code",
   "execution_count": 115,
   "outputs": [],
   "source": [
    "# Let's create a model that builds automatically\n",
    "tf.random.set_seed(42)\n",
    "model = tf.keras.Sequential([\n",
    "    tf.keras.layers.Dense(100, input_shape=[1])\n",
    "])\n",
    "\n",
    "model.compile(loss=tf.keras.losses.mae,\n",
    "              optimizer = tf.keras.optimizers.legacy.SGD(), \n",
    "              metrics=['mae'])"
   ],
   "metadata": {
    "collapsed": false,
    "ExecuteTime": {
     "end_time": "2023-11-24T11:56:27.744032Z",
     "start_time": "2023-11-24T11:56:27.726312Z"
    }
   },
   "id": "7963b3d91347dc12"
  },
  {
   "cell_type": "code",
   "execution_count": 116,
   "outputs": [
    {
     "name": "stdout",
     "output_type": "stream",
     "text": [
      "Model: \"sequential_29\"\n",
      "_________________________________________________________________\n",
      " Layer (type)                Output Shape              Param #   \n",
      "=================================================================\n",
      " dense_109 (Dense)           (None, 100)               200       \n",
      "                                                                 \n",
      "=================================================================\n",
      "Total params: 200 (800.00 Byte)\n",
      "Trainable params: 200 (800.00 Byte)\n",
      "Non-trainable params: 0 (0.00 Byte)\n",
      "_________________________________________________________________\n"
     ]
    }
   ],
   "source": [
    "model.summary()"
   ],
   "metadata": {
    "collapsed": false,
    "ExecuteTime": {
     "end_time": "2023-11-24T11:56:28.304701Z",
     "start_time": "2023-11-24T11:56:28.298678Z"
    }
   },
   "id": "51409f32aca0a7bf"
  },
  {
   "cell_type": "markdown",
   "source": [
    "##### Visualize Model Training"
   ],
   "metadata": {
    "collapsed": false
   },
   "id": "b09993d90690f268"
  },
  {
   "cell_type": "code",
   "execution_count": 117,
   "outputs": [
    {
     "name": "stdout",
     "output_type": "stream",
     "text": [
      "Epoch 1/100\n",
      "2/2 - 0s - loss: 40.9487 - mae: 40.9487 - 81ms/epoch - 40ms/step\n",
      "Epoch 2/100\n",
      "2/2 - 0s - loss: 40.6013 - mae: 40.6013 - 2ms/epoch - 799us/step\n",
      "Epoch 3/100\n",
      "2/2 - 0s - loss: 40.2319 - mae: 40.2319 - 2ms/epoch - 913us/step\n",
      "Epoch 4/100\n",
      "2/2 - 0s - loss: 39.8785 - mae: 39.8785 - 2ms/epoch - 757us/step\n",
      "Epoch 5/100\n",
      "2/2 - 0s - loss: 39.5223 - mae: 39.5223 - 2ms/epoch - 797us/step\n",
      "Epoch 6/100\n",
      "2/2 - 0s - loss: 39.1856 - mae: 39.1856 - 2ms/epoch - 751us/step\n",
      "Epoch 7/100\n",
      "2/2 - 0s - loss: 38.8520 - mae: 38.8520 - 1ms/epoch - 728us/step\n",
      "Epoch 8/100\n",
      "2/2 - 0s - loss: 38.4925 - mae: 38.4925 - 1ms/epoch - 731us/step\n",
      "Epoch 9/100\n",
      "2/2 - 0s - loss: 38.0856 - mae: 38.0856 - 1ms/epoch - 746us/step\n",
      "Epoch 10/100\n",
      "2/2 - 0s - loss: 37.7193 - mae: 37.7193 - 1ms/epoch - 705us/step\n",
      "Epoch 11/100\n",
      "2/2 - 0s - loss: 37.3801 - mae: 37.3801 - 2ms/epoch - 784us/step\n",
      "Epoch 12/100\n",
      "2/2 - 0s - loss: 36.9951 - mae: 36.9951 - 2ms/epoch - 794us/step\n",
      "Epoch 13/100\n",
      "2/2 - 0s - loss: 36.6201 - mae: 36.6201 - 1ms/epoch - 738us/step\n",
      "Epoch 14/100\n",
      "2/2 - 0s - loss: 36.2150 - mae: 36.2150 - 1ms/epoch - 711us/step\n",
      "Epoch 15/100\n",
      "2/2 - 0s - loss: 35.8461 - mae: 35.8461 - 2ms/epoch - 825us/step\n",
      "Epoch 16/100\n",
      "2/2 - 0s - loss: 35.5050 - mae: 35.5050 - 1ms/epoch - 695us/step\n",
      "Epoch 17/100\n",
      "2/2 - 0s - loss: 35.1417 - mae: 35.1417 - 2ms/epoch - 841us/step\n",
      "Epoch 18/100\n",
      "2/2 - 0s - loss: 34.7701 - mae: 34.7701 - 2ms/epoch - 803us/step\n",
      "Epoch 19/100\n",
      "2/2 - 0s - loss: 34.4129 - mae: 34.4129 - 2ms/epoch - 752us/step\n",
      "Epoch 20/100\n",
      "2/2 - 0s - loss: 34.0753 - mae: 34.0753 - 2ms/epoch - 789us/step\n",
      "Epoch 21/100\n",
      "2/2 - 0s - loss: 33.7120 - mae: 33.7120 - 1ms/epoch - 693us/step\n",
      "Epoch 22/100\n",
      "2/2 - 0s - loss: 33.3553 - mae: 33.3553 - 1ms/epoch - 748us/step\n",
      "Epoch 23/100\n",
      "2/2 - 0s - loss: 33.0333 - mae: 33.0333 - 2ms/epoch - 763us/step\n",
      "Epoch 24/100\n",
      "2/2 - 0s - loss: 32.7058 - mae: 32.7058 - 2ms/epoch - 759us/step\n",
      "Epoch 25/100\n",
      "2/2 - 0s - loss: 32.3432 - mae: 32.3432 - 1ms/epoch - 717us/step\n",
      "Epoch 26/100\n",
      "2/2 - 0s - loss: 31.9660 - mae: 31.9660 - 2ms/epoch - 755us/step\n",
      "Epoch 27/100\n",
      "2/2 - 0s - loss: 31.6039 - mae: 31.6039 - 2ms/epoch - 778us/step\n",
      "Epoch 28/100\n",
      "2/2 - 0s - loss: 31.2233 - mae: 31.2233 - 2ms/epoch - 782us/step\n",
      "Epoch 29/100\n",
      "2/2 - 0s - loss: 30.8667 - mae: 30.8667 - 2ms/epoch - 786us/step\n",
      "Epoch 30/100\n",
      "2/2 - 0s - loss: 30.4459 - mae: 30.4459 - 1ms/epoch - 683us/step\n",
      "Epoch 31/100\n",
      "2/2 - 0s - loss: 30.0161 - mae: 30.0161 - 1ms/epoch - 672us/step\n",
      "Epoch 32/100\n",
      "2/2 - 0s - loss: 29.6736 - mae: 29.6736 - 1ms/epoch - 749us/step\n",
      "Epoch 33/100\n",
      "2/2 - 0s - loss: 29.3304 - mae: 29.3304 - 1ms/epoch - 651us/step\n",
      "Epoch 34/100\n",
      "2/2 - 0s - loss: 28.9848 - mae: 28.9848 - 1ms/epoch - 738us/step\n",
      "Epoch 35/100\n",
      "2/2 - 0s - loss: 28.6581 - mae: 28.6581 - 2ms/epoch - 754us/step\n",
      "Epoch 36/100\n",
      "2/2 - 0s - loss: 28.3089 - mae: 28.3089 - 1ms/epoch - 734us/step\n",
      "Epoch 37/100\n",
      "2/2 - 0s - loss: 27.9990 - mae: 27.9990 - 1ms/epoch - 684us/step\n",
      "Epoch 38/100\n",
      "2/2 - 0s - loss: 27.6570 - mae: 27.6570 - 1ms/epoch - 703us/step\n",
      "Epoch 39/100\n",
      "2/2 - 0s - loss: 27.3176 - mae: 27.3176 - 1ms/epoch - 744us/step\n",
      "Epoch 40/100\n",
      "2/2 - 0s - loss: 26.9796 - mae: 26.9796 - 1ms/epoch - 677us/step\n",
      "Epoch 41/100\n",
      "2/2 - 0s - loss: 26.6448 - mae: 26.6448 - 1ms/epoch - 680us/step\n",
      "Epoch 42/100\n",
      "2/2 - 0s - loss: 26.3170 - mae: 26.3170 - 1ms/epoch - 740us/step\n",
      "Epoch 43/100\n",
      "2/2 - 0s - loss: 25.9941 - mae: 25.9941 - 1ms/epoch - 681us/step\n",
      "Epoch 44/100\n",
      "2/2 - 0s - loss: 25.6147 - mae: 25.6147 - 2ms/epoch - 798us/step\n",
      "Epoch 45/100\n",
      "2/2 - 0s - loss: 25.2783 - mae: 25.2783 - 1ms/epoch - 698us/step\n",
      "Epoch 46/100\n",
      "2/2 - 0s - loss: 24.9574 - mae: 24.9574 - 1ms/epoch - 674us/step\n",
      "Epoch 47/100\n",
      "2/2 - 0s - loss: 24.6756 - mae: 24.6756 - 1ms/epoch - 736us/step\n",
      "Epoch 48/100\n",
      "2/2 - 0s - loss: 24.3639 - mae: 24.3639 - 1ms/epoch - 610us/step\n",
      "Epoch 49/100\n",
      "2/2 - 0s - loss: 24.0549 - mae: 24.0549 - 1ms/epoch - 656us/step\n",
      "Epoch 50/100\n",
      "2/2 - 0s - loss: 23.7420 - mae: 23.7420 - 1ms/epoch - 703us/step\n",
      "Epoch 51/100\n",
      "2/2 - 0s - loss: 23.4212 - mae: 23.4212 - 1ms/epoch - 686us/step\n",
      "Epoch 52/100\n",
      "2/2 - 0s - loss: 23.0381 - mae: 23.0381 - 1ms/epoch - 690us/step\n",
      "Epoch 53/100\n",
      "2/2 - 0s - loss: 22.6827 - mae: 22.6827 - 2ms/epoch - 792us/step\n",
      "Epoch 54/100\n",
      "2/2 - 0s - loss: 22.2936 - mae: 22.2936 - 1ms/epoch - 705us/step\n",
      "Epoch 55/100\n",
      "2/2 - 0s - loss: 21.9248 - mae: 21.9248 - 1ms/epoch - 698us/step\n",
      "Epoch 56/100\n",
      "2/2 - 0s - loss: 21.6063 - mae: 21.6063 - 1ms/epoch - 683us/step\n",
      "Epoch 57/100\n",
      "2/2 - 0s - loss: 21.2874 - mae: 21.2874 - 2ms/epoch - 780us/step\n",
      "Epoch 58/100\n",
      "2/2 - 0s - loss: 20.9944 - mae: 20.9944 - 2ms/epoch - 752us/step\n",
      "Epoch 59/100\n",
      "2/2 - 0s - loss: 20.6941 - mae: 20.6941 - 1ms/epoch - 653us/step\n",
      "Epoch 60/100\n",
      "2/2 - 0s - loss: 20.3881 - mae: 20.3881 - 2ms/epoch - 759us/step\n",
      "Epoch 61/100\n",
      "2/2 - 0s - loss: 20.0776 - mae: 20.0776 - 1ms/epoch - 723us/step\n",
      "Epoch 62/100\n",
      "2/2 - 0s - loss: 19.7574 - mae: 19.7574 - 1ms/epoch - 697us/step\n",
      "Epoch 63/100\n",
      "2/2 - 0s - loss: 19.4536 - mae: 19.4536 - 1ms/epoch - 682us/step\n",
      "Epoch 64/100\n",
      "2/2 - 0s - loss: 19.1381 - mae: 19.1381 - 1ms/epoch - 725us/step\n",
      "Epoch 65/100\n",
      "2/2 - 0s - loss: 18.8203 - mae: 18.8203 - 1ms/epoch - 698us/step\n",
      "Epoch 66/100\n",
      "2/2 - 0s - loss: 18.5014 - mae: 18.5014 - 1ms/epoch - 639us/step\n",
      "Epoch 67/100\n",
      "2/2 - 0s - loss: 18.1987 - mae: 18.1987 - 1ms/epoch - 741us/step\n",
      "Epoch 68/100\n",
      "2/2 - 0s - loss: 17.9069 - mae: 17.9069 - 1ms/epoch - 674us/step\n",
      "Epoch 69/100\n",
      "2/2 - 0s - loss: 17.6153 - mae: 17.6153 - 1ms/epoch - 541us/step\n",
      "Epoch 70/100\n",
      "2/2 - 0s - loss: 17.3418 - mae: 17.3418 - 2ms/epoch - 751us/step\n",
      "Epoch 71/100\n",
      "2/2 - 0s - loss: 17.0491 - mae: 17.0491 - 1ms/epoch - 608us/step\n",
      "Epoch 72/100\n",
      "2/2 - 0s - loss: 16.7584 - mae: 16.7584 - 1ms/epoch - 678us/step\n",
      "Epoch 73/100\n",
      "2/2 - 0s - loss: 16.4646 - mae: 16.4646 - 1ms/epoch - 589us/step\n",
      "Epoch 74/100\n",
      "2/2 - 0s - loss: 16.1360 - mae: 16.1360 - 1ms/epoch - 666us/step\n",
      "Epoch 75/100\n",
      "2/2 - 0s - loss: 15.8736 - mae: 15.8736 - 1ms/epoch - 635us/step\n",
      "Epoch 76/100\n",
      "2/2 - 0s - loss: 15.5926 - mae: 15.5926 - 2ms/epoch - 783us/step\n",
      "Epoch 77/100\n",
      "2/2 - 0s - loss: 15.3107 - mae: 15.3107 - 1ms/epoch - 677us/step\n",
      "Epoch 78/100\n",
      "2/2 - 0s - loss: 15.0449 - mae: 15.0449 - 1ms/epoch - 706us/step\n",
      "Epoch 79/100\n",
      "2/2 - 0s - loss: 14.7523 - mae: 14.7523 - 1ms/epoch - 667us/step\n",
      "Epoch 80/100\n",
      "2/2 - 0s - loss: 14.4570 - mae: 14.4570 - 2ms/epoch - 833us/step\n",
      "Epoch 81/100\n",
      "2/2 - 0s - loss: 14.2232 - mae: 14.2232 - 1ms/epoch - 635us/step\n",
      "Epoch 82/100\n",
      "2/2 - 0s - loss: 14.0339 - mae: 14.0339 - 1ms/epoch - 651us/step\n",
      "Epoch 83/100\n",
      "2/2 - 0s - loss: 13.8233 - mae: 13.8233 - 1ms/epoch - 717us/step\n",
      "Epoch 84/100\n",
      "2/2 - 0s - loss: 13.6170 - mae: 13.6170 - 1ms/epoch - 706us/step\n",
      "Epoch 85/100\n",
      "2/2 - 0s - loss: 13.3377 - mae: 13.3377 - 1ms/epoch - 710us/step\n",
      "Epoch 86/100\n",
      "2/2 - 0s - loss: 13.0864 - mae: 13.0864 - 1ms/epoch - 680us/step\n",
      "Epoch 87/100\n",
      "2/2 - 0s - loss: 12.8410 - mae: 12.8410 - 1ms/epoch - 706us/step\n",
      "Epoch 88/100\n",
      "2/2 - 0s - loss: 12.5933 - mae: 12.5933 - 1ms/epoch - 697us/step\n",
      "Epoch 89/100\n",
      "2/2 - 0s - loss: 12.3795 - mae: 12.3795 - 1ms/epoch - 705us/step\n",
      "Epoch 90/100\n",
      "2/2 - 0s - loss: 12.1553 - mae: 12.1553 - 2ms/epoch - 760us/step\n",
      "Epoch 91/100\n",
      "2/2 - 0s - loss: 11.9474 - mae: 11.9474 - 1ms/epoch - 682us/step\n",
      "Epoch 92/100\n",
      "2/2 - 0s - loss: 11.7302 - mae: 11.7302 - 1ms/epoch - 750us/step\n",
      "Epoch 93/100\n",
      "2/2 - 0s - loss: 11.5473 - mae: 11.5473 - 1ms/epoch - 679us/step\n",
      "Epoch 94/100\n",
      "2/2 - 0s - loss: 11.3692 - mae: 11.3692 - 1ms/epoch - 630us/step\n",
      "Epoch 95/100\n",
      "2/2 - 0s - loss: 11.1822 - mae: 11.1822 - 1ms/epoch - 632us/step\n",
      "Epoch 96/100\n",
      "2/2 - 0s - loss: 11.0125 - mae: 11.0125 - 1ms/epoch - 625us/step\n",
      "Epoch 97/100\n",
      "2/2 - 0s - loss: 10.8206 - mae: 10.8206 - 1ms/epoch - 652us/step\n",
      "Epoch 98/100\n",
      "2/2 - 0s - loss: 10.6740 - mae: 10.6740 - 1ms/epoch - 592us/step\n",
      "Epoch 99/100\n",
      "2/2 - 0s - loss: 10.5121 - mae: 10.5121 - 1ms/epoch - 590us/step\n",
      "Epoch 100/100\n",
      "2/2 - 0s - loss: 10.3339 - mae: 10.3339 - 1ms/epoch - 553us/step\n"
     ]
    },
    {
     "data": {
      "text/plain": "<keras.src.callbacks.History at 0x2e7b0c410>"
     },
     "execution_count": 117,
     "metadata": {},
     "output_type": "execute_result"
    }
   ],
   "source": [
    "model.fit(tf.expand_dims(X_train, axis=-1), y_train, epochs = 100, verbose = 2)"
   ],
   "metadata": {
    "collapsed": false,
    "ExecuteTime": {
     "end_time": "2023-11-24T11:56:36.469727Z",
     "start_time": "2023-11-24T11:56:36.154270Z"
    }
   },
   "id": "9f7182a8367fd359"
  },
  {
   "cell_type": "markdown",
   "source": [
    "##### Visualise Model's Layer"
   ],
   "metadata": {
    "collapsed": false
   },
   "id": "452563b7edbc80a7"
  },
  {
   "cell_type": "code",
   "execution_count": 103,
   "outputs": [
    {
     "name": "stdout",
     "output_type": "stream",
     "text": [
      "1/1 [==============================] - 0s 19ms/step\n"
     ]
    }
   ],
   "source": [
    "predictions = model.predict(tf.expand_dims(X_test, axis=-1))"
   ],
   "metadata": {
    "collapsed": false,
    "ExecuteTime": {
     "end_time": "2023-11-24T11:50:08.573456Z",
     "start_time": "2023-11-24T11:50:08.529421Z"
    }
   },
   "id": "9c43df4d738efbf0"
  },
  {
   "cell_type": "code",
   "execution_count": 104,
   "outputs": [
    {
     "name": "stdout",
     "output_type": "stream",
     "text": [
      "Mean Squared Error: 1.8554345451062546\n",
      "Mean Absolute Error: 1.1747161865234375\n",
      "R-squared: 0.9859436776885889\n"
     ]
    }
   ],
   "source": [
    "from sklearn.metrics import mean_squared_error, mean_absolute_error, r2_score\n",
    "\n",
    "# Convert the predictions and true labels to the same format (e.g., NumPy arrays)\n",
    "predictions_np = predictions.copy()\n",
    "y_test_np = y_test.numpy()\n",
    "\n",
    "# Calculate MSE, MAE, and R-squared\n",
    "mse = mean_squared_error(y_test_np, predictions_np)\n",
    "mae = mean_absolute_error(y_test_np, predictions_np)\n",
    "r2 = r2_score(y_test_np, predictions_np)\n",
    "\n",
    "print(\"Mean Squared Error:\", mse)\n",
    "print(\"Mean Absolute Error:\", mae)\n",
    "print(\"R-squared:\", r2)"
   ],
   "metadata": {
    "collapsed": false,
    "ExecuteTime": {
     "end_time": "2023-11-24T11:50:09.717409Z",
     "start_time": "2023-11-24T11:50:09.714872Z"
    }
   },
   "id": "7f3a4c63e04b2c4e"
  },
  {
   "cell_type": "code",
   "execution_count": 2,
   "outputs": [
    {
     "name": "stderr",
     "output_type": "stream",
     "text": [
      "\u001B[34m\u001B[1mwandb\u001B[0m: Logging into wandb.ai. (Learn how to deploy a W&B server locally: https://wandb.me/wandb-server)\n",
      "\u001B[34m\u001B[1mwandb\u001B[0m: You can find your API key in your browser here: https://wandb.ai/authorize\n",
      "\u001B[34m\u001B[1mwandb\u001B[0m: Paste an API key from your profile and hit enter, or press ctrl+c to quit:\u001B[34m\u001B[1mwandb\u001B[0m: Appending key for api.wandb.ai to your netrc file: /Users/merlesteffen/.netrc\n"
     ]
    },
    {
     "data": {
      "text/plain": "<IPython.core.display.HTML object>",
      "text/html": "Tracking run with wandb version 0.16.0"
     },
     "metadata": {},
     "output_type": "display_data"
    },
    {
     "data": {
      "text/plain": "<IPython.core.display.HTML object>",
      "text/html": "Run data is saved locally in <code>/Users/merlesteffen/Documents/GitHub/Learning_Deep_Learning/Notebooks/wandb/run-20231124_140423-lv5acc0m</code>"
     },
     "metadata": {},
     "output_type": "display_data"
    },
    {
     "data": {
      "text/plain": "<IPython.core.display.HTML object>",
      "text/html": "Syncing run <strong><a href='https://wandb.ai/merle-v-steffen/my-awesome-project/runs/lv5acc0m' target=\"_blank\">sleek-cherry-1</a></strong> to <a href='https://wandb.ai/merle-v-steffen/my-awesome-project' target=\"_blank\">Weights & Biases</a> (<a href='https://wandb.me/run' target=\"_blank\">docs</a>)<br/>"
     },
     "metadata": {},
     "output_type": "display_data"
    },
    {
     "data": {
      "text/plain": "<IPython.core.display.HTML object>",
      "text/html": " View project at <a href='https://wandb.ai/merle-v-steffen/my-awesome-project' target=\"_blank\">https://wandb.ai/merle-v-steffen/my-awesome-project</a>"
     },
     "metadata": {},
     "output_type": "display_data"
    },
    {
     "data": {
      "text/plain": "<IPython.core.display.HTML object>",
      "text/html": " View run at <a href='https://wandb.ai/merle-v-steffen/my-awesome-project/runs/lv5acc0m' target=\"_blank\">https://wandb.ai/merle-v-steffen/my-awesome-project/runs/lv5acc0m</a>"
     },
     "metadata": {},
     "output_type": "display_data"
    },
    {
     "name": "stdout",
     "output_type": "stream",
     "text": [
      "Downloading data from https://storage.googleapis.com/tensorflow/tf-keras-datasets/mnist.npz\n",
      "11490434/11490434 [==============================] - 1s 0us/step\n",
      "Epoch 1/8\n",
      "24/47 [==============>...............] - ETA: 0s - loss: 2.2396 - accuracy: 0.1672INFO:tensorflow:Assets written to: models/assets\n"
     ]
    },
    {
     "name": "stderr",
     "output_type": "stream",
     "text": [
      "INFO:tensorflow:Assets written to: models/assets\n",
      "\u001B[34m\u001B[1mwandb\u001B[0m: Adding directory to artifact (./models)... Done. 0.0s\n"
     ]
    },
    {
     "name": "stdout",
     "output_type": "stream",
     "text": [
      "47/47 [==============================] - 1s 14ms/step - loss: 2.1203 - accuracy: 0.2491 - val_loss: 1.8349 - val_accuracy: 0.6020\n",
      "Epoch 2/8\n",
      "44/47 [===========================>..] - ETA: 0s - loss: 1.7458 - accuracy: 0.5117INFO:tensorflow:Assets written to: models/assets\n"
     ]
    },
    {
     "name": "stderr",
     "output_type": "stream",
     "text": [
      "INFO:tensorflow:Assets written to: models/assets\n",
      "\u001B[34m\u001B[1mwandb\u001B[0m: Adding directory to artifact (./models)... Done. 0.0s\n"
     ]
    },
    {
     "name": "stdout",
     "output_type": "stream",
     "text": [
      "47/47 [==============================] - 0s 10ms/step - loss: 1.7352 - accuracy: 0.5170 - val_loss: 1.4991 - val_accuracy: 0.7220\n",
      "Epoch 3/8\n",
      "44/47 [===========================>..] - ETA: 0s - loss: 1.4461 - accuracy: 0.6428INFO:tensorflow:Assets written to: models/assets\n"
     ]
    },
    {
     "name": "stderr",
     "output_type": "stream",
     "text": [
      "INFO:tensorflow:Assets written to: models/assets\n",
      "\u001B[34m\u001B[1mwandb\u001B[0m: Adding directory to artifact (./models)... Done. 0.0s\n"
     ]
    },
    {
     "name": "stdout",
     "output_type": "stream",
     "text": [
      "47/47 [==============================] - 0s 10ms/step - loss: 1.4422 - accuracy: 0.6432 - val_loss: 1.2481 - val_accuracy: 0.7660\n",
      "Epoch 4/8\n",
      "43/47 [==========================>...] - ETA: 0s - loss: 1.2461 - accuracy: 0.6989INFO:tensorflow:Assets written to: models/assets\n"
     ]
    },
    {
     "name": "stderr",
     "output_type": "stream",
     "text": [
      "INFO:tensorflow:Assets written to: models/assets\n",
      "\u001B[34m\u001B[1mwandb\u001B[0m: Adding directory to artifact (./models)... Done. 0.0s\n"
     ]
    },
    {
     "name": "stdout",
     "output_type": "stream",
     "text": [
      "47/47 [==============================] - 0s 10ms/step - loss: 1.2392 - accuracy: 0.7017 - val_loss: 1.0670 - val_accuracy: 0.7900\n",
      "Epoch 5/8\n",
      "44/47 [===========================>..] - ETA: 0s - loss: 1.0939 - accuracy: 0.7325INFO:tensorflow:Assets written to: models/assets\n"
     ]
    },
    {
     "name": "stderr",
     "output_type": "stream",
     "text": [
      "INFO:tensorflow:Assets written to: models/assets\n",
      "\u001B[34m\u001B[1mwandb\u001B[0m: Adding directory to artifact (./models)... Done. 0.0s\n"
     ]
    },
    {
     "name": "stdout",
     "output_type": "stream",
     "text": [
      "47/47 [==============================] - 0s 10ms/step - loss: 1.0901 - accuracy: 0.7323 - val_loss: 0.9361 - val_accuracy: 0.8160\n",
      "Epoch 6/8\n",
      "40/47 [========================>.....] - ETA: 0s - loss: 0.9835 - accuracy: 0.7570INFO:tensorflow:Assets written to: models/assets\n"
     ]
    },
    {
     "name": "stderr",
     "output_type": "stream",
     "text": [
      "INFO:tensorflow:Assets written to: models/assets\n",
      "\u001B[34m\u001B[1mwandb\u001B[0m: Adding directory to artifact (./models)... Done. 0.0s\n"
     ]
    },
    {
     "name": "stdout",
     "output_type": "stream",
     "text": [
      "47/47 [==============================] - 0s 10ms/step - loss: 0.9770 - accuracy: 0.7580 - val_loss: 0.8392 - val_accuracy: 0.8260\n",
      "Epoch 7/8\n",
      "44/47 [===========================>..] - ETA: 0s - loss: 0.8932 - accuracy: 0.7759INFO:tensorflow:Assets written to: models/assets\n"
     ]
    },
    {
     "name": "stderr",
     "output_type": "stream",
     "text": [
      "INFO:tensorflow:Assets written to: models/assets\n",
      "\u001B[34m\u001B[1mwandb\u001B[0m: Adding directory to artifact (./models)... Done. 0.0s\n"
     ]
    },
    {
     "name": "stdout",
     "output_type": "stream",
     "text": [
      "47/47 [==============================] - 0s 10ms/step - loss: 0.8913 - accuracy: 0.7768 - val_loss: 0.7670 - val_accuracy: 0.8280\n",
      "Epoch 8/8\n",
      "44/47 [===========================>..] - ETA: 0s - loss: 0.8239 - accuracy: 0.7890INFO:tensorflow:Assets written to: models/assets\n"
     ]
    },
    {
     "name": "stderr",
     "output_type": "stream",
     "text": [
      "INFO:tensorflow:Assets written to: models/assets\n",
      "\u001B[34m\u001B[1mwandb\u001B[0m: Adding directory to artifact (./models)... Done. 0.0s\n"
     ]
    },
    {
     "name": "stdout",
     "output_type": "stream",
     "text": [
      "47/47 [==============================] - 0s 10ms/step - loss: 0.8249 - accuracy: 0.7883 - val_loss: 0.7106 - val_accuracy: 0.8320\n"
     ]
    },
    {
     "data": {
      "text/plain": "VBox(children=(Label(value='13.076 MB of 13.076 MB uploaded (0.057 MB deduped)\\r'), FloatProgress(value=1.0, m…",
      "application/vnd.jupyter.widget-view+json": {
       "version_major": 2,
       "version_minor": 0,
       "model_id": "165fa1a36dbb450c8cf4eb11e4eb13a8"
      }
     },
     "metadata": {},
     "output_type": "display_data"
    },
    {
     "data": {
      "text/plain": "<IPython.core.display.HTML object>",
      "text/html": "<style>\n    table.wandb td:nth-child(1) { padding: 0 10px; text-align: left ; width: auto;} td:nth-child(2) {text-align: left ; width: 100%}\n    .wandb-row { display: flex; flex-direction: row; flex-wrap: wrap; justify-content: flex-start; width: 100% }\n    .wandb-col { display: flex; flex-direction: column; flex-basis: 100%; flex: 1; padding: 10px; }\n    </style>\n<div class=\"wandb-row\"><div class=\"wandb-col\"><h3>Run history:</h3><br/><table class=\"wandb\"><tr><td>batch/accuracy</td><td>▁▁▂▂▂▄▅▅▅▅▆▆▆▆▇▇▇▇▇▇▇▇▇▇▇█████▇█████████</td></tr><tr><td>batch/batch_step</td><td>▁▁▁▂▂▂▂▂▂▃▃▃▃▃▃▄▄▄▄▄▅▅▅▅▅▅▆▆▆▆▆▆▇▇▇▇▇███</td></tr><tr><td>batch/learning_rate</td><td>▁▁▁▁▁▁▁▁▁▁▁▁▁▁▁▁▁▁▁▁▁▁▁▁▁▁▁▁▁▁▁▁▁▁▁▁▁▁▁▁</td></tr><tr><td>batch/loss</td><td>██▇▇▇▆▆▆▅▅▅▄▄▄▄▃▃▃▃▃▂▂▂▂▂▂▂▂▂▂▂▁▁▁▁▁▁▁▁▁</td></tr><tr><td>epoch/accuracy</td><td>▁▄▆▇▇███</td></tr><tr><td>epoch/epoch</td><td>▁▂▃▄▅▆▇█</td></tr><tr><td>epoch/learning_rate</td><td>▁▁▁▁▁▁▁▁</td></tr><tr><td>epoch/loss</td><td>█▆▄▃▂▂▁▁</td></tr><tr><td>epoch/val_accuracy</td><td>▁▅▆▇████</td></tr><tr><td>epoch/val_loss</td><td>█▆▄▃▂▂▁▁</td></tr></table><br/></div><div class=\"wandb-col\"><h3>Run summary:</h3><br/><table class=\"wandb\"><tr><td>batch/accuracy</td><td>0.78881</td></tr><tr><td>batch/batch_step</td><td>395</td></tr><tr><td>batch/learning_rate</td><td>0.01</td></tr><tr><td>batch/loss</td><td>0.8243</td></tr><tr><td>epoch/accuracy</td><td>0.78825</td></tr><tr><td>epoch/epoch</td><td>7</td></tr><tr><td>epoch/learning_rate</td><td>0.01</td></tr><tr><td>epoch/loss</td><td>0.82493</td></tr><tr><td>epoch/val_accuracy</td><td>0.832</td></tr><tr><td>epoch/val_loss</td><td>0.71061</td></tr></table><br/></div></div>"
     },
     "metadata": {},
     "output_type": "display_data"
    },
    {
     "data": {
      "text/plain": "<IPython.core.display.HTML object>",
      "text/html": " View run <strong style=\"color:#cdcd00\">sleek-cherry-1</strong> at: <a href='https://wandb.ai/merle-v-steffen/my-awesome-project/runs/lv5acc0m' target=\"_blank\">https://wandb.ai/merle-v-steffen/my-awesome-project/runs/lv5acc0m</a><br/> View job at <a href='https://wandb.ai/merle-v-steffen/my-awesome-project/jobs/QXJ0aWZhY3RDb2xsZWN0aW9uOjExODQyOTU4OQ==/version_details/v0' target=\"_blank\">https://wandb.ai/merle-v-steffen/my-awesome-project/jobs/QXJ0aWZhY3RDb2xsZWN0aW9uOjExODQyOTU4OQ==/version_details/v0</a><br/>Synced 5 W&B file(s), 0 media file(s), 42 artifact file(s) and 0 other file(s)"
     },
     "metadata": {},
     "output_type": "display_data"
    },
    {
     "data": {
      "text/plain": "<IPython.core.display.HTML object>",
      "text/html": "Find logs at: <code>./wandb/run-20231124_140423-lv5acc0m/logs</code>"
     },
     "metadata": {},
     "output_type": "display_data"
    }
   ],
   "source": [
    "# This script needs these libraries to be installed: \n",
    "#   tensorflow, numpy\n",
    "\n",
    "import wandb\n",
    "from wandb.keras import WandbMetricsLogger, WandbModelCheckpoint\n",
    "\n",
    "import random\n",
    "import numpy as np\n",
    "import tensorflow as tf\n",
    "\n",
    "\n",
    "# Start a run, tracking hyperparameters\n",
    "wandb.init(\n",
    "    # set the wandb project where this run will be logged\n",
    "    project=\"my-awesome-project\",\n",
    "\n",
    "    # track hyperparameters and run metadata with wandb.config\n",
    "    config={\n",
    "        \"layer_1\": 512,\n",
    "        \"activation_1\": \"relu\",\n",
    "        \"dropout\": random.uniform(0.01, 0.80),\n",
    "        \"layer_2\": 10,\n",
    "        \"activation_2\": \"softmax\",\n",
    "        \"optimizer\": \"sgd\",\n",
    "        \"loss\": \"sparse_categorical_crossentropy\",\n",
    "        \"metric\": \"accuracy\",\n",
    "        \"epoch\": 8,\n",
    "        \"batch_size\": 256\n",
    "    }\n",
    ")\n",
    "\n",
    "# [optional] use wandb.config as your config\n",
    "config = wandb.config\n",
    "\n",
    "# get the data\n",
    "mnist = tf.keras.datasets.mnist\n",
    "(x_train, y_train), (x_test, y_test) = mnist.load_data()\n",
    "x_train, x_test = x_train / 255.0, x_test / 255.0\n",
    "x_train, y_train = x_train[::5], y_train[::5]  \n",
    "x_test, y_test = x_test[::20], y_test[::20]\n",
    "labels = [str(digit) for digit in range(np.max(y_train) + 1)]\n",
    "\n",
    "# build a model\n",
    "model = tf.keras.models.Sequential([\n",
    "    tf.keras.layers.Flatten(input_shape=(28, 28)),\n",
    "    tf.keras.layers.Dense(config.layer_1, activation=config.activation_1),\n",
    "    tf.keras.layers.Dropout(config.dropout),\n",
    "    tf.keras.layers.Dense(config.layer_2, activation=config.activation_2)\n",
    "    ])\n",
    "\n",
    "# compile the model\n",
    "model.compile(optimizer=config.optimizer,\n",
    "              loss=config.loss,\n",
    "              metrics=[config.metric]\n",
    "              )\n",
    "\n",
    "# WandbMetricsLogger will log train and validation metrics to wandb\n",
    "# WandbModelCheckpoint will upload model checkpoints to wandb\n",
    "history = model.fit(x=x_train, y=y_train,\n",
    "                    epochs=config.epoch,\n",
    "                    batch_size=config.batch_size,\n",
    "                    validation_data=(x_test, y_test),\n",
    "                    callbacks=[\n",
    "                      WandbMetricsLogger(log_freq=5),\n",
    "                      WandbModelCheckpoint(\"models\")\n",
    "                    ])\n",
    "\n",
    "# [optional] finish the wandb run, necessary in notebooks\n",
    "wandb.finish()"
   ],
   "metadata": {
    "collapsed": false,
    "ExecuteTime": {
     "end_time": "2023-11-24T13:05:00.420376Z",
     "start_time": "2023-11-24T13:04:12.096533Z"
    }
   },
   "id": "cef8fe698a497307"
  }
 ],
 "metadata": {
  "kernelspec": {
   "display_name": "Python 3",
   "language": "python",
   "name": "python3"
  },
  "language_info": {
   "codemirror_mode": {
    "name": "ipython",
    "version": 2
   },
   "file_extension": ".py",
   "mimetype": "text/x-python",
   "name": "python",
   "nbconvert_exporter": "python",
   "pygments_lexer": "ipython2",
   "version": "2.7.6"
  }
 },
 "nbformat": 4,
 "nbformat_minor": 5
}
