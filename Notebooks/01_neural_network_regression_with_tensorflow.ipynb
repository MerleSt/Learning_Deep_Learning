{
 "cells": [
  {
   "cell_type": "markdown",
   "source": [
    "# Introduction to Regression with Neural Networks in TenorFlow"
   ],
   "metadata": {
    "collapsed": false
   },
   "id": "de09390adfa92b3d"
  },
  {
   "cell_type": "code",
   "execution_count": 1,
   "id": "initial_id",
   "metadata": {
    "collapsed": true,
    "ExecuteTime": {
     "end_time": "2023-11-24T13:54:10.509559Z",
     "start_time": "2023-11-24T13:54:08.105469Z"
    }
   },
   "outputs": [],
   "source": [
    "import numpy as np\n",
    "import tensorflow as tf\n",
    "import matplotlib.pyplot as plt\n",
    "from tensorflow.keras.utils import plot_model"
   ]
  },
  {
   "cell_type": "code",
   "execution_count": 2,
   "outputs": [],
   "source": [
    "X = tf.constant(np.array([-7.0, -4.0, -1.0, 2.0, 5.0, 8.0, 11.0, 14.0]))\n",
    "y = tf.constant(np.array([3.0, 6.0, 9.0, 12.0, 15.0, 18.0, 21.0, 24.0]))"
   ],
   "metadata": {
    "collapsed": false,
    "ExecuteTime": {
     "end_time": "2023-11-24T13:54:10.517420Z",
     "start_time": "2023-11-24T13:54:10.516214Z"
    }
   },
   "id": "7eca335ff7ffb3cc"
  },
  {
   "cell_type": "markdown",
   "source": [
    "## Steps in modelling with TensorFlow\n",
    "1. create a model - input, output, hidden layers\n",
    "2. compiling a model - loss function, optimizer, evaluation metrics\n",
    "3. fitting the model"
   ],
   "metadata": {
    "collapsed": false
   },
   "id": "98ea754aba29376c"
  },
  {
   "cell_type": "code",
   "execution_count": 3,
   "outputs": [
    {
     "name": "stdout",
     "output_type": "stream",
     "text": [
      "Epoch 1/5\n",
      "1/1 [==============================] - 0s 90ms/step - loss: 12.1865 - mae: 12.1865\n",
      "Epoch 2/5\n",
      "1/1 [==============================] - 0s 2ms/step - loss: 12.0540 - mae: 12.0540\n",
      "Epoch 3/5\n",
      "1/1 [==============================] - 0s 2ms/step - loss: 11.9215 - mae: 11.9215\n",
      "Epoch 4/5\n",
      "1/1 [==============================] - 0s 2ms/step - loss: 11.7890 - mae: 11.7890\n",
      "Epoch 5/5\n",
      "1/1 [==============================] - 0s 1ms/step - loss: 11.6565 - mae: 11.6565\n"
     ]
    },
    {
     "data": {
      "text/plain": "<keras.src.callbacks.History at 0x2dbbe1710>"
     },
     "execution_count": 3,
     "metadata": {},
     "output_type": "execute_result"
    }
   ],
   "source": [
    "tf.random.set_seed(42)\n",
    "# 1. Create model using Sequential API\n",
    "model = tf.keras.Sequential([\n",
    "    tf.keras.layers.Dense(1)\n",
    "])\n",
    "\n",
    "# 2. compile the model\n",
    "model.compile(loss=tf.keras.losses.mae,\n",
    "              optimizer = \"SGD\", \n",
    "              metrics=['mae'])\n",
    "\n",
    "# 3. Fitting the model\n",
    "model.fit(tf.expand_dims(X, axis=-1), y, epochs = 5)"
   ],
   "metadata": {
    "collapsed": false,
    "ExecuteTime": {
     "end_time": "2023-11-24T13:54:10.656928Z",
     "start_time": "2023-11-24T13:54:10.518391Z"
    }
   },
   "id": "94a21db3ef723b8f"
  },
  {
   "cell_type": "markdown",
   "source": [
    "### Prediction"
   ],
   "metadata": {
    "collapsed": false
   },
   "id": "5eebf7080dccf082"
  },
  {
   "cell_type": "code",
   "execution_count": 4,
   "outputs": [
    {
     "name": "stdout",
     "output_type": "stream",
     "text": [
      "1/1 [==============================] - 0s 28ms/step\n"
     ]
    },
    {
     "data": {
      "text/plain": "array([[9.404939]], dtype=float32)"
     },
     "execution_count": 4,
     "metadata": {},
     "output_type": "execute_result"
    }
   ],
   "source": [
    "model.predict([17.0])"
   ],
   "metadata": {
    "collapsed": false,
    "ExecuteTime": {
     "end_time": "2023-11-24T13:54:10.700536Z",
     "start_time": "2023-11-24T13:54:10.655787Z"
    }
   },
   "id": "15d778cb690b07a4"
  },
  {
   "cell_type": "markdown",
   "source": [
    "## Improving the Model"
   ],
   "metadata": {
    "collapsed": false
   },
   "id": "ae9ea6b1667f0774"
  },
  {
   "cell_type": "code",
   "execution_count": 5,
   "outputs": [],
   "source": [
    "# Split Data\n",
    "from sklearn.model_selection import train_test_split\n",
    "# Turn tensors into NumPy\n",
    "# Convert the TensorFlow tensors to NumPy arrays\n",
    "X_np = X.numpy()\n",
    "y_np = y.numpy()\n",
    "# Split the data\n",
    "X_train_np, X_test_np, y_train_np, y_test_np = train_test_split(X_np, y_np, test_size=0.2, random_state=42)\n",
    "\n",
    "# Convert the splits back into TensorFlow tensors\n",
    "X_train = tf.convert_to_tensor(X_train_np)\n",
    "X_test = tf.convert_to_tensor(X_test_np)\n",
    "y_train = tf.convert_to_tensor(y_train_np)\n",
    "y_test = tf.convert_to_tensor(y_test_np)"
   ],
   "metadata": {
    "collapsed": false,
    "ExecuteTime": {
     "end_time": "2023-11-24T13:54:10.959448Z",
     "start_time": "2023-11-24T13:54:10.700360Z"
    }
   },
   "id": "fb6af97c33ba075c"
  },
  {
   "cell_type": "code",
   "execution_count": 6,
   "outputs": [
    {
     "name": "stderr",
     "output_type": "stream",
     "text": [
      "WARNING:absl:At this time, the v2.11+ optimizer `tf.keras.optimizers.Adam` runs slowly on M1/M2 Macs, please use the legacy Keras optimizer instead, located at `tf.keras.optimizers.legacy.Adam`.\n",
      "WARNING:absl:`lr` is deprecated in Keras optimizer, please use `learning_rate` or use the legacy optimizer, e.g.,tf.keras.optimizers.legacy.Adam.\n"
     ]
    },
    {
     "name": "stdout",
     "output_type": "stream",
     "text": [
      "Epoch 1/100\n",
      "1/1 [==============================] - 0s 430ms/step - loss: 13.9917 - mae: 13.9917\n",
      "Epoch 2/100\n",
      "1/1 [==============================] - 0s 2ms/step - loss: 13.8123 - mae: 13.8123\n",
      "Epoch 3/100\n",
      "1/1 [==============================] - 0s 2ms/step - loss: 13.6435 - mae: 13.6435\n",
      "Epoch 4/100\n",
      "1/1 [==============================] - 0s 2ms/step - loss: 13.4384 - mae: 13.4384\n",
      "Epoch 5/100\n",
      "1/1 [==============================] - 0s 2ms/step - loss: 13.1873 - mae: 13.1873\n",
      "Epoch 6/100\n",
      "1/1 [==============================] - 0s 2ms/step - loss: 12.8827 - mae: 12.8827\n",
      "Epoch 7/100\n",
      "1/1 [==============================] - 0s 2ms/step - loss: 12.5084 - mae: 12.5084\n",
      "Epoch 8/100\n",
      "1/1 [==============================] - 0s 2ms/step - loss: 12.0446 - mae: 12.0446\n",
      "Epoch 9/100\n",
      "1/1 [==============================] - 0s 2ms/step - loss: 11.4663 - mae: 11.4663\n",
      "Epoch 10/100\n",
      "1/1 [==============================] - 0s 2ms/step - loss: 10.8206 - mae: 10.8206\n",
      "Epoch 11/100\n",
      "1/1 [==============================] - 0s 2ms/step - loss: 10.2086 - mae: 10.2086\n",
      "Epoch 12/100\n",
      "1/1 [==============================] - 0s 2ms/step - loss: 9.4244 - mae: 9.4244\n",
      "Epoch 13/100\n",
      "1/1 [==============================] - 0s 2ms/step - loss: 8.4324 - mae: 8.4324\n",
      "Epoch 14/100\n",
      "1/1 [==============================] - 0s 2ms/step - loss: 7.1943 - mae: 7.1943\n",
      "Epoch 15/100\n",
      "1/1 [==============================] - 0s 2ms/step - loss: 5.6659 - mae: 5.6659\n",
      "Epoch 16/100\n",
      "1/1 [==============================] - 0s 2ms/step - loss: 4.4536 - mae: 4.4536\n",
      "Epoch 17/100\n",
      "1/1 [==============================] - 0s 2ms/step - loss: 5.4892 - mae: 5.4892\n",
      "Epoch 18/100\n",
      "1/1 [==============================] - 0s 2ms/step - loss: 6.1890 - mae: 6.1890\n",
      "Epoch 19/100\n",
      "1/1 [==============================] - 0s 2ms/step - loss: 6.4301 - mae: 6.4301\n",
      "Epoch 20/100\n",
      "1/1 [==============================] - 0s 2ms/step - loss: 6.2938 - mae: 6.2938\n",
      "Epoch 21/100\n",
      "1/1 [==============================] - 0s 2ms/step - loss: 5.8787 - mae: 5.8787\n",
      "Epoch 22/100\n",
      "1/1 [==============================] - 0s 2ms/step - loss: 5.2881 - mae: 5.2881\n",
      "Epoch 23/100\n",
      "1/1 [==============================] - 0s 2ms/step - loss: 4.5978 - mae: 4.5978\n",
      "Epoch 24/100\n",
      "1/1 [==============================] - 0s 2ms/step - loss: 3.8931 - mae: 3.8931\n",
      "Epoch 25/100\n",
      "1/1 [==============================] - 0s 2ms/step - loss: 4.0425 - mae: 4.0425\n",
      "Epoch 26/100\n",
      "1/1 [==============================] - 0s 2ms/step - loss: 4.6099 - mae: 4.6099\n",
      "Epoch 27/100\n",
      "1/1 [==============================] - 0s 2ms/step - loss: 4.7333 - mae: 4.7333\n",
      "Epoch 28/100\n",
      "1/1 [==============================] - 0s 2ms/step - loss: 4.5141 - mae: 4.5141\n",
      "Epoch 29/100\n",
      "1/1 [==============================] - 0s 2ms/step - loss: 3.9859 - mae: 3.9859\n",
      "Epoch 30/100\n",
      "1/1 [==============================] - 0s 2ms/step - loss: 3.7968 - mae: 3.7968\n",
      "Epoch 31/100\n",
      "1/1 [==============================] - 0s 2ms/step - loss: 4.0318 - mae: 4.0318\n",
      "Epoch 32/100\n",
      "1/1 [==============================] - 0s 2ms/step - loss: 4.3072 - mae: 4.3072\n",
      "Epoch 33/100\n",
      "1/1 [==============================] - 0s 2ms/step - loss: 4.4632 - mae: 4.4632\n",
      "Epoch 34/100\n",
      "1/1 [==============================] - 0s 2ms/step - loss: 4.4598 - mae: 4.4598\n",
      "Epoch 35/100\n",
      "1/1 [==============================] - 0s 2ms/step - loss: 4.3143 - mae: 4.3143\n",
      "Epoch 36/100\n",
      "1/1 [==============================] - 0s 2ms/step - loss: 4.0509 - mae: 4.0509\n",
      "Epoch 37/100\n",
      "1/1 [==============================] - 0s 2ms/step - loss: 3.7052 - mae: 3.7052\n",
      "Epoch 38/100\n",
      "1/1 [==============================] - 0s 2ms/step - loss: 3.6263 - mae: 3.6263\n",
      "Epoch 39/100\n",
      "1/1 [==============================] - 0s 2ms/step - loss: 3.7707 - mae: 3.7707\n",
      "Epoch 40/100\n",
      "1/1 [==============================] - 0s 2ms/step - loss: 3.9075 - mae: 3.9075\n",
      "Epoch 41/100\n",
      "1/1 [==============================] - 0s 2ms/step - loss: 3.7152 - mae: 3.7152\n",
      "Epoch 42/100\n",
      "1/1 [==============================] - 0s 2ms/step - loss: 3.5657 - mae: 3.5657\n",
      "Epoch 43/100\n",
      "1/1 [==============================] - 0s 2ms/step - loss: 3.4947 - mae: 3.4947\n",
      "Epoch 44/100\n",
      "1/1 [==============================] - 0s 2ms/step - loss: 3.6957 - mae: 3.6957\n",
      "Epoch 45/100\n",
      "1/1 [==============================] - 0s 2ms/step - loss: 3.8058 - mae: 3.8058\n",
      "Epoch 46/100\n",
      "1/1 [==============================] - 0s 2ms/step - loss: 3.7904 - mae: 3.7904\n",
      "Epoch 47/100\n",
      "1/1 [==============================] - 0s 2ms/step - loss: 3.6663 - mae: 3.6663\n",
      "Epoch 48/100\n",
      "1/1 [==============================] - 0s 2ms/step - loss: 3.4523 - mae: 3.4523\n",
      "Epoch 49/100\n",
      "1/1 [==============================] - 0s 2ms/step - loss: 3.4256 - mae: 3.4256\n",
      "Epoch 50/100\n",
      "1/1 [==============================] - 0s 2ms/step - loss: 3.4875 - mae: 3.4875\n",
      "Epoch 51/100\n",
      "1/1 [==============================] - 0s 2ms/step - loss: 3.5152 - mae: 3.5152\n",
      "Epoch 52/100\n",
      "1/1 [==============================] - 0s 2ms/step - loss: 3.6299 - mae: 3.6299\n",
      "Epoch 53/100\n",
      "1/1 [==============================] - 0s 2ms/step - loss: 3.4333 - mae: 3.4333\n",
      "Epoch 54/100\n",
      "1/1 [==============================] - 0s 2ms/step - loss: 3.3393 - mae: 3.3393\n",
      "Epoch 55/100\n",
      "1/1 [==============================] - 0s 1ms/step - loss: 3.2912 - mae: 3.2912\n",
      "Epoch 56/100\n",
      "1/1 [==============================] - 0s 1ms/step - loss: 3.2532 - mae: 3.2532\n",
      "Epoch 57/100\n",
      "1/1 [==============================] - 0s 2ms/step - loss: 3.2712 - mae: 3.2712\n",
      "Epoch 58/100\n",
      "1/1 [==============================] - 0s 2ms/step - loss: 3.1774 - mae: 3.1774\n",
      "Epoch 59/100\n",
      "1/1 [==============================] - 0s 2ms/step - loss: 3.1526 - mae: 3.1526\n",
      "Epoch 60/100\n",
      "1/1 [==============================] - 0s 2ms/step - loss: 3.1122 - mae: 3.1122\n",
      "Epoch 61/100\n",
      "1/1 [==============================] - 0s 2ms/step - loss: 3.1248 - mae: 3.1248\n",
      "Epoch 62/100\n",
      "1/1 [==============================] - 0s 2ms/step - loss: 3.1030 - mae: 3.1030\n",
      "Epoch 63/100\n",
      "1/1 [==============================] - 0s 2ms/step - loss: 3.0685 - mae: 3.0685\n",
      "Epoch 64/100\n",
      "1/1 [==============================] - 0s 2ms/step - loss: 3.0170 - mae: 3.0170\n",
      "Epoch 65/100\n",
      "1/1 [==============================] - 0s 2ms/step - loss: 3.0120 - mae: 3.0120\n",
      "Epoch 66/100\n",
      "1/1 [==============================] - 0s 2ms/step - loss: 2.9919 - mae: 2.9919\n",
      "Epoch 67/100\n",
      "1/1 [==============================] - 0s 2ms/step - loss: 2.9484 - mae: 2.9484\n",
      "Epoch 68/100\n",
      "1/1 [==============================] - 0s 2ms/step - loss: 2.9053 - mae: 2.9053\n",
      "Epoch 69/100\n",
      "1/1 [==============================] - 0s 2ms/step - loss: 2.8811 - mae: 2.8811\n",
      "Epoch 70/100\n",
      "1/1 [==============================] - 0s 2ms/step - loss: 2.8583 - mae: 2.8583\n",
      "Epoch 71/100\n",
      "1/1 [==============================] - 0s 1ms/step - loss: 2.8155 - mae: 2.8155\n",
      "Epoch 72/100\n",
      "1/1 [==============================] - 0s 2ms/step - loss: 2.7969 - mae: 2.7969\n",
      "Epoch 73/100\n",
      "1/1 [==============================] - 0s 2ms/step - loss: 2.7939 - mae: 2.7939\n",
      "Epoch 74/100\n",
      "1/1 [==============================] - 0s 2ms/step - loss: 2.7448 - mae: 2.7448\n",
      "Epoch 75/100\n",
      "1/1 [==============================] - 0s 2ms/step - loss: 2.6764 - mae: 2.6764\n",
      "Epoch 76/100\n",
      "1/1 [==============================] - 0s 2ms/step - loss: 2.6426 - mae: 2.6426\n",
      "Epoch 77/100\n",
      "1/1 [==============================] - 0s 2ms/step - loss: 2.5927 - mae: 2.5927\n",
      "Epoch 78/100\n",
      "1/1 [==============================] - 0s 2ms/step - loss: 2.5554 - mae: 2.5554\n",
      "Epoch 79/100\n",
      "1/1 [==============================] - 0s 1ms/step - loss: 2.4936 - mae: 2.4936\n",
      "Epoch 80/100\n",
      "1/1 [==============================] - 0s 2ms/step - loss: 2.4418 - mae: 2.4418\n",
      "Epoch 81/100\n",
      "1/1 [==============================] - 0s 2ms/step - loss: 2.4065 - mae: 2.4065\n",
      "Epoch 82/100\n",
      "1/1 [==============================] - 0s 2ms/step - loss: 2.3495 - mae: 2.3495\n",
      "Epoch 83/100\n",
      "1/1 [==============================] - 0s 2ms/step - loss: 2.2705 - mae: 2.2705\n",
      "Epoch 84/100\n",
      "1/1 [==============================] - 0s 2ms/step - loss: 2.1877 - mae: 2.1877\n",
      "Epoch 85/100\n",
      "1/1 [==============================] - 0s 2ms/step - loss: 2.1251 - mae: 2.1251\n",
      "Epoch 86/100\n",
      "1/1 [==============================] - 0s 2ms/step - loss: 2.0342 - mae: 2.0342\n",
      "Epoch 87/100\n",
      "1/1 [==============================] - 0s 2ms/step - loss: 2.0818 - mae: 2.0818\n",
      "Epoch 88/100\n",
      "1/1 [==============================] - 0s 2ms/step - loss: 1.9288 - mae: 1.9288\n",
      "Epoch 89/100\n",
      "1/1 [==============================] - 0s 1ms/step - loss: 1.9043 - mae: 1.9043\n",
      "Epoch 90/100\n",
      "1/1 [==============================] - 0s 2ms/step - loss: 1.9084 - mae: 1.9084\n",
      "Epoch 91/100\n",
      "1/1 [==============================] - 0s 2ms/step - loss: 1.6844 - mae: 1.6844\n",
      "Epoch 92/100\n",
      "1/1 [==============================] - 0s 2ms/step - loss: 1.7275 - mae: 1.7275\n",
      "Epoch 93/100\n",
      "1/1 [==============================] - 0s 2ms/step - loss: 1.6925 - mae: 1.6925\n",
      "Epoch 94/100\n",
      "1/1 [==============================] - 0s 2ms/step - loss: 1.5051 - mae: 1.5051\n",
      "Epoch 95/100\n",
      "1/1 [==============================] - 0s 2ms/step - loss: 1.1976 - mae: 1.1976\n",
      "Epoch 96/100\n",
      "1/1 [==============================] - 0s 2ms/step - loss: 1.1899 - mae: 1.1899\n",
      "Epoch 97/100\n",
      "1/1 [==============================] - 0s 2ms/step - loss: 1.3075 - mae: 1.3075\n",
      "Epoch 98/100\n",
      "1/1 [==============================] - 0s 2ms/step - loss: 0.9215 - mae: 0.9215\n",
      "Epoch 99/100\n",
      "1/1 [==============================] - 0s 2ms/step - loss: 0.9351 - mae: 0.9351\n",
      "Epoch 100/100\n",
      "1/1 [==============================] - 0s 2ms/step - loss: 0.9429 - mae: 0.9429\n"
     ]
    },
    {
     "data": {
      "text/plain": "<keras.src.callbacks.History at 0x2dbcc0b90>"
     },
     "execution_count": 6,
     "metadata": {},
     "output_type": "execute_result"
    }
   ],
   "source": [
    "tf.random.set_seed(42)\n",
    "model = tf.keras.Sequential([\n",
    "    tf.keras.layers.Dense(100, activation='relu'),\n",
    "    tf.keras.layers.Dense(100, activation='relu'),\n",
    "    tf.keras.layers.Dense(100, activation='relu'),\n",
    "    tf.keras.layers.Dense(100, activation='relu'),\n",
    "    tf.keras.layers.Dense(100, activation='relu'),\n",
    "    tf.keras.layers.Dense(100, activation='relu'),\n",
    "    tf.keras.layers.Dense(100, activation='relu'),\n",
    "    tf.keras.layers.Dense(1)\n",
    "])\n",
    "\n",
    "model.compile(loss=tf.keras.losses.mae,\n",
    "              optimizer = tf.keras.optimizers.Adam(lr=0.0001), \n",
    "              metrics=['mae'])\n",
    "\n",
    "\n",
    "model.fit(tf.expand_dims(X_train, axis=-1), y_train, epochs=100)"
   ],
   "metadata": {
    "collapsed": false,
    "ExecuteTime": {
     "end_time": "2023-11-24T13:54:11.654316Z",
     "start_time": "2023-11-24T13:54:10.967222Z"
    }
   },
   "id": "3d0710859e1ba25d"
  },
  {
   "cell_type": "code",
   "execution_count": 7,
   "outputs": [
    {
     "name": "stdout",
     "output_type": "stream",
     "text": [
      "1/1 [==============================] - 0s 29ms/step\n"
     ]
    }
   ],
   "source": [
    "predictions = model.predict([X_test])"
   ],
   "metadata": {
    "collapsed": false,
    "ExecuteTime": {
     "end_time": "2023-11-24T13:54:11.699776Z",
     "start_time": "2023-11-24T13:54:11.654251Z"
    }
   },
   "id": "b0f965dd6e7d21ea"
  },
  {
   "cell_type": "markdown",
   "source": [
    "### Evaluate the model"
   ],
   "metadata": {
    "collapsed": false
   },
   "id": "78d3630bebb3def3"
  },
  {
   "cell_type": "markdown",
   "source": [
    "#### Visualise\n",
    "- Data\n",
    "- The Model\n",
    "- The training of a model\n",
    "- The predictions"
   ],
   "metadata": {
    "collapsed": false
   },
   "id": "63a0ce3fd9d48fa8"
  },
  {
   "cell_type": "code",
   "execution_count": 8,
   "outputs": [],
   "source": [
    "# More Data\n",
    "X = tf.range(-100, 100, 4)\n",
    "y = X + 10"
   ],
   "metadata": {
    "collapsed": false,
    "ExecuteTime": {
     "end_time": "2023-11-24T13:54:11.703007Z",
     "start_time": "2023-11-24T13:54:11.699009Z"
    }
   },
   "id": "9094026e904db885"
  },
  {
   "cell_type": "code",
   "execution_count": 9,
   "outputs": [
    {
     "data": {
      "text/plain": "<Figure size 640x480 with 1 Axes>",
      "image/png": "[encoded data removed]"
     },
     "metadata": {},
     "output_type": "display_data"
    }
   ],
   "source": [
    "# Visualize the data\n",
    "plt.scatter(X, y);"
   ],
   "metadata": {
    "collapsed": false,
    "ExecuteTime": {
     "end_time": "2023-11-24T13:54:11.821959Z",
     "start_time": "2023-11-24T13:54:11.701639Z"
    }
   },
   "id": "f9515a332f53328b"
  },
  {
   "cell_type": "code",
   "execution_count": 10,
   "outputs": [
    {
     "data": {
      "text/plain": "50"
     },
     "execution_count": 10,
     "metadata": {},
     "output_type": "execute_result"
    }
   ],
   "source": [
    "# The 3 sets...\n",
    "len(X)"
   ],
   "metadata": {
    "collapsed": false,
    "ExecuteTime": {
     "end_time": "2023-11-24T13:54:11.881504Z",
     "start_time": "2023-11-24T13:54:11.826881Z"
    }
   },
   "id": "237aab3cc5deb820"
  },
  {
   "cell_type": "code",
   "execution_count": 11,
   "outputs": [],
   "source": [
    "# Split the data into train and test\n",
    "X_train = X[:40]\n",
    "X_test = X[40:]\n",
    "y_train = y[:40]\n",
    "y_test = y[40:]"
   ],
   "metadata": {
    "collapsed": false,
    "ExecuteTime": {
     "end_time": "2023-11-24T13:54:11.895757Z",
     "start_time": "2023-11-24T13:54:11.877448Z"
    }
   },
   "id": "c50908ebd38cd10f"
  },
  {
   "cell_type": "code",
   "execution_count": 12,
   "outputs": [
    {
     "data": {
      "text/plain": "<Figure size 1000x700 with 1 Axes>",
      "image/png": "[encoded data removed]"
     },
     "metadata": {},
     "output_type": "display_data"
    }
   ],
   "source": [
    "plt.figure(figsize=(10,7))\n",
    "# Plot training data in blue\n",
    "plt.scatter(X_train, y_train, c='b', label='Training data')\n",
    "plt.scatter(X_test, y_test, c='g', label='Test data')\n",
    "plt.legend();"
   ],
   "metadata": {
    "collapsed": false,
    "ExecuteTime": {
     "end_time": "2023-11-24T13:54:12.029650Z",
     "start_time": "2023-11-24T13:54:11.943948Z"
    }
   },
   "id": "fba8e53628bf389a"
  },
  {
   "cell_type": "markdown",
   "source": [
    "##### Visualising the model"
   ],
   "metadata": {
    "collapsed": false
   },
   "id": "605285b0cbe387"
  },
  {
   "cell_type": "code",
   "execution_count": 25,
   "outputs": [],
   "source": [
    "# Let's create a model that builds automatically\n",
    "tf.random.set_seed(42)\n",
    "model = tf.keras.Sequential([\n",
    "    tf.keras.layers.Dense(100, input_shape=[1], name='input_layer1', activation='relu'),\n",
    "    tf.keras.layers.Dense(100, name='input_layer2', activation='relu'),\n",
    "    tf.keras.layers.Dense(100, name='input_layer3', activation='relu'),\n",
    "    tf.keras.layers.Dense(1, name='output_layer')\n",
    "], name= 'model_1')\n",
    "\n",
    "model.compile(loss=tf.keras.losses.mae,\n",
    "              optimizer = tf.keras.optimizers.legacy.Adam(learning_rate=0.001), \n",
    "              metrics=['mae'])"
   ],
   "metadata": {
    "collapsed": false,
    "ExecuteTime": {
     "end_time": "2023-11-24T13:54:52.235204Z",
     "start_time": "2023-11-24T13:54:52.213093Z"
    }
   },
   "id": "7963b3d91347dc12"
  },
  {
   "cell_type": "code",
   "execution_count": 26,
   "outputs": [
    {
     "name": "stdout",
     "output_type": "stream",
     "text": [
      "Model: \"model_1\"\n",
      "_________________________________________________________________\n",
      " Layer (type)                Output Shape              Param #   \n",
      "=================================================================\n",
      " input_layer1 (Dense)        (None, 100)               200       \n",
      "                                                                 \n",
      " input_layer2 (Dense)        (None, 100)               10100     \n",
      "                                                                 \n",
      " input_layer3 (Dense)        (None, 100)               10100     \n",
      "                                                                 \n",
      " output_layer (Dense)        (None, 1)                 101       \n",
      "                                                                 \n",
      "=================================================================\n",
      "Total params: 20501 (80.08 KB)\n",
      "Trainable params: 20501 (80.08 KB)\n",
      "Non-trainable params: 0 (0.00 Byte)\n",
      "_________________________________________________________________\n"
     ]
    }
   ],
   "source": [
    "model.summary()"
   ],
   "metadata": {
    "collapsed": false,
    "ExecuteTime": {
     "end_time": "2023-11-24T13:54:52.582337Z",
     "start_time": "2023-11-24T13:54:52.577352Z"
    }
   },
   "id": "51409f32aca0a7bf"
  },
  {
   "cell_type": "code",
   "execution_count": 27,
   "outputs": [
    {
     "data": {
      "image/png": "[encoded data removed]",
      "text/plain": "<IPython.core.display.Image object>"
     },
     "execution_count": 27,
     "metadata": {},
     "output_type": "execute_result"
    }
   ],
   "source": [
    "plot_model(model=model, show_shapes=True)"
   ],
   "metadata": {
    "collapsed": false,
    "ExecuteTime": {
     "end_time": "2023-11-24T13:54:53.135539Z",
     "start_time": "2023-11-24T13:54:52.955205Z"
    }
   },
   "id": "4a3aa4146417ba4e"
  },
  {
   "cell_type": "markdown",
   "source": [
    "##### Fitting"
   ],
   "metadata": {
    "collapsed": false
   },
   "id": "b09993d90690f268"
  },
  {
   "cell_type": "code",
   "execution_count": 28,
   "outputs": [
    {
     "name": "stdout",
     "output_type": "stream",
     "text": [
      "Epoch 1/100\n",
      "2/2 [==============================] - 0s 2ms/step - loss: 43.0572 - mae: 43.0572\n",
      "Epoch 2/100\n",
      "2/2 [==============================] - 0s 1ms/step - loss: 40.1684 - mae: 40.1684\n",
      "Epoch 3/100\n",
      "2/2 [==============================] - 0s 1ms/step - loss: 37.6599 - mae: 37.6599\n",
      "Epoch 4/100\n",
      "2/2 [==============================] - 0s 1ms/step - loss: 35.1792 - mae: 35.1792\n",
      "Epoch 5/100\n",
      "2/2 [==============================] - 0s 1ms/step - loss: 33.0160 - mae: 33.0160\n",
      "Epoch 6/100\n",
      "2/2 [==============================] - 0s 2ms/step - loss: 30.9125 - mae: 30.9125\n",
      "Epoch 7/100\n",
      "2/2 [==============================] - 0s 1ms/step - loss: 28.5725 - mae: 28.5725\n",
      "Epoch 8/100\n",
      "2/2 [==============================] - 0s 1ms/step - loss: 25.9038 - mae: 25.9038\n",
      "Epoch 9/100\n",
      "2/2 [==============================] - 0s 1ms/step - loss: 23.1209 - mae: 23.1209\n",
      "Epoch 10/100\n",
      "2/2 [==============================] - 0s 1ms/step - loss: 20.0360 - mae: 20.0360\n",
      "Epoch 11/100\n",
      "2/2 [==============================] - 0s 1ms/step - loss: 16.3823 - mae: 16.3823\n",
      "Epoch 12/100\n",
      "2/2 [==============================] - 0s 1ms/step - loss: 12.6428 - mae: 12.6428\n",
      "Epoch 13/100\n",
      "2/2 [==============================] - 0s 1ms/step - loss: 8.6798 - mae: 8.6798\n",
      "Epoch 14/100\n",
      "2/2 [==============================] - 0s 1ms/step - loss: 6.9775 - mae: 6.9775\n",
      "Epoch 15/100\n",
      "2/2 [==============================] - 0s 1ms/step - loss: 7.3162 - mae: 7.3162\n",
      "Epoch 16/100\n",
      "2/2 [==============================] - 0s 1ms/step - loss: 6.9183 - mae: 6.9183\n",
      "Epoch 17/100\n",
      "2/2 [==============================] - 0s 1ms/step - loss: 6.9094 - mae: 6.9094\n",
      "Epoch 18/100\n",
      "2/2 [==============================] - 0s 1ms/step - loss: 5.8678 - mae: 5.8678\n",
      "Epoch 19/100\n",
      "2/2 [==============================] - 0s 1ms/step - loss: 6.1772 - mae: 6.1772\n",
      "Epoch 20/100\n",
      "2/2 [==============================] - 0s 1ms/step - loss: 6.2924 - mae: 6.2924\n",
      "Epoch 21/100\n",
      "2/2 [==============================] - 0s 1ms/step - loss: 5.7766 - mae: 5.7766\n",
      "Epoch 22/100\n",
      "2/2 [==============================] - 0s 1ms/step - loss: 4.8928 - mae: 4.8928\n",
      "Epoch 23/100\n",
      "2/2 [==============================] - 0s 1ms/step - loss: 4.1700 - mae: 4.1700\n",
      "Epoch 24/100\n",
      "2/2 [==============================] - 0s 1ms/step - loss: 4.4579 - mae: 4.4579\n",
      "Epoch 25/100\n",
      "2/2 [==============================] - 0s 1ms/step - loss: 4.7541 - mae: 4.7541\n",
      "Epoch 26/100\n",
      "2/2 [==============================] - 0s 1ms/step - loss: 4.4478 - mae: 4.4478\n",
      "Epoch 27/100\n",
      "2/2 [==============================] - 0s 1ms/step - loss: 4.1968 - mae: 4.1968\n",
      "Epoch 28/100\n",
      "2/2 [==============================] - 0s 1ms/step - loss: 4.1787 - mae: 4.1787\n",
      "Epoch 29/100\n",
      "2/2 [==============================] - 0s 1ms/step - loss: 4.1453 - mae: 4.1453\n",
      "Epoch 30/100\n",
      "2/2 [==============================] - 0s 1ms/step - loss: 4.1609 - mae: 4.1609\n",
      "Epoch 31/100\n",
      "2/2 [==============================] - 0s 1ms/step - loss: 4.2802 - mae: 4.2802\n",
      "Epoch 32/100\n",
      "2/2 [==============================] - 0s 1ms/step - loss: 4.1803 - mae: 4.1803\n",
      "Epoch 33/100\n",
      "2/2 [==============================] - 0s 1ms/step - loss: 4.1080 - mae: 4.1080\n",
      "Epoch 34/100\n",
      "2/2 [==============================] - 0s 1ms/step - loss: 4.0954 - mae: 4.0954\n",
      "Epoch 35/100\n",
      "2/2 [==============================] - 0s 1ms/step - loss: 4.0746 - mae: 4.0746\n",
      "Epoch 36/100\n",
      "2/2 [==============================] - 0s 1ms/step - loss: 4.0952 - mae: 4.0952\n",
      "Epoch 37/100\n",
      "2/2 [==============================] - 0s 1ms/step - loss: 4.0644 - mae: 4.0644\n",
      "Epoch 38/100\n",
      "2/2 [==============================] - 0s 1ms/step - loss: 3.9936 - mae: 3.9936\n",
      "Epoch 39/100\n",
      "2/2 [==============================] - 0s 1ms/step - loss: 4.0093 - mae: 4.0093\n",
      "Epoch 40/100\n",
      "2/2 [==============================] - 0s 1ms/step - loss: 4.0309 - mae: 4.0309\n",
      "Epoch 41/100\n",
      "2/2 [==============================] - 0s 1ms/step - loss: 3.9923 - mae: 3.9923\n",
      "Epoch 42/100\n",
      "2/2 [==============================] - 0s 1ms/step - loss: 3.9727 - mae: 3.9727\n",
      "Epoch 43/100\n",
      "2/2 [==============================] - 0s 1ms/step - loss: 4.0198 - mae: 4.0198\n",
      "Epoch 44/100\n",
      "2/2 [==============================] - 0s 1ms/step - loss: 4.0242 - mae: 4.0242\n",
      "Epoch 45/100\n",
      "2/2 [==============================] - 0s 1ms/step - loss: 3.9910 - mae: 3.9910\n",
      "Epoch 46/100\n",
      "2/2 [==============================] - 0s 1ms/step - loss: 3.9683 - mae: 3.9683\n",
      "Epoch 47/100\n",
      "2/2 [==============================] - 0s 1ms/step - loss: 3.9142 - mae: 3.9142\n",
      "Epoch 48/100\n",
      "2/2 [==============================] - 0s 1ms/step - loss: 3.9177 - mae: 3.9177\n",
      "Epoch 49/100\n",
      "2/2 [==============================] - 0s 1ms/step - loss: 3.9276 - mae: 3.9276\n",
      "Epoch 50/100\n",
      "2/2 [==============================] - 0s 1ms/step - loss: 4.0008 - mae: 4.0008\n",
      "Epoch 51/100\n",
      "2/2 [==============================] - 0s 1ms/step - loss: 4.0582 - mae: 4.0582\n",
      "Epoch 52/100\n",
      "2/2 [==============================] - 0s 1ms/step - loss: 4.0320 - mae: 4.0320\n",
      "Epoch 53/100\n",
      "2/2 [==============================] - 0s 1ms/step - loss: 3.8558 - mae: 3.8558\n",
      "Epoch 54/100\n",
      "2/2 [==============================] - 0s 1ms/step - loss: 3.8210 - mae: 3.8210\n",
      "Epoch 55/100\n",
      "2/2 [==============================] - 0s 1ms/step - loss: 3.8485 - mae: 3.8485\n",
      "Epoch 56/100\n",
      "2/2 [==============================] - 0s 1ms/step - loss: 3.8786 - mae: 3.8786\n",
      "Epoch 57/100\n",
      "2/2 [==============================] - 0s 1ms/step - loss: 3.8199 - mae: 3.8199\n",
      "Epoch 58/100\n",
      "2/2 [==============================] - 0s 1ms/step - loss: 3.8267 - mae: 3.8267\n",
      "Epoch 59/100\n",
      "2/2 [==============================] - 0s 1ms/step - loss: 3.8439 - mae: 3.8439\n",
      "Epoch 60/100\n",
      "2/2 [==============================] - 0s 1ms/step - loss: 3.8053 - mae: 3.8053\n",
      "Epoch 61/100\n",
      "2/2 [==============================] - 0s 1ms/step - loss: 3.7790 - mae: 3.7790\n",
      "Epoch 62/100\n",
      "2/2 [==============================] - 0s 1ms/step - loss: 3.7510 - mae: 3.7510\n",
      "Epoch 63/100\n",
      "2/2 [==============================] - 0s 1ms/step - loss: 3.7613 - mae: 3.7613\n",
      "Epoch 64/100\n",
      "2/2 [==============================] - 0s 1ms/step - loss: 3.7819 - mae: 3.7819\n",
      "Epoch 65/100\n",
      "2/2 [==============================] - 0s 1ms/step - loss: 3.7399 - mae: 3.7399\n",
      "Epoch 66/100\n",
      "2/2 [==============================] - 0s 1ms/step - loss: 3.7286 - mae: 3.7286\n",
      "Epoch 67/100\n",
      "2/2 [==============================] - 0s 1ms/step - loss: 3.8488 - mae: 3.8488\n",
      "Epoch 68/100\n",
      "2/2 [==============================] - 0s 1ms/step - loss: 3.8847 - mae: 3.8847\n",
      "Epoch 69/100\n",
      "2/2 [==============================] - 0s 1ms/step - loss: 3.7565 - mae: 3.7565\n",
      "Epoch 70/100\n",
      "2/2 [==============================] - 0s 1ms/step - loss: 3.8218 - mae: 3.8218\n",
      "Epoch 71/100\n",
      "2/2 [==============================] - 0s 1ms/step - loss: 3.7783 - mae: 3.7783\n",
      "Epoch 72/100\n",
      "2/2 [==============================] - 0s 1ms/step - loss: 3.7147 - mae: 3.7147\n",
      "Epoch 73/100\n",
      "2/2 [==============================] - 0s 980us/step - loss: 3.7821 - mae: 3.7821\n",
      "Epoch 74/100\n",
      "2/2 [==============================] - 0s 1ms/step - loss: 3.8138 - mae: 3.8138\n",
      "Epoch 75/100\n",
      "2/2 [==============================] - 0s 1ms/step - loss: 3.6206 - mae: 3.6206\n",
      "Epoch 76/100\n",
      "2/2 [==============================] - 0s 1ms/step - loss: 3.7424 - mae: 3.7424\n",
      "Epoch 77/100\n",
      "2/2 [==============================] - 0s 1ms/step - loss: 3.7992 - mae: 3.7992\n",
      "Epoch 78/100\n",
      "2/2 [==============================] - 0s 1ms/step - loss: 3.5990 - mae: 3.5990\n",
      "Epoch 79/100\n",
      "2/2 [==============================] - 0s 1ms/step - loss: 3.5428 - mae: 3.5428\n",
      "Epoch 80/100\n",
      "2/2 [==============================] - 0s 1ms/step - loss: 3.8250 - mae: 3.8250\n",
      "Epoch 81/100\n",
      "2/2 [==============================] - 0s 1ms/step - loss: 3.6578 - mae: 3.6578\n",
      "Epoch 82/100\n",
      "2/2 [==============================] - 0s 1ms/step - loss: 3.5819 - mae: 3.5819\n",
      "Epoch 83/100\n",
      "2/2 [==============================] - 0s 1ms/step - loss: 3.8810 - mae: 3.8810\n",
      "Epoch 84/100\n",
      "2/2 [==============================] - 0s 1ms/step - loss: 4.0515 - mae: 4.0515\n",
      "Epoch 85/100\n",
      "2/2 [==============================] - 0s 1ms/step - loss: 3.5907 - mae: 3.5907\n",
      "Epoch 86/100\n",
      "2/2 [==============================] - 0s 1ms/step - loss: 3.6538 - mae: 3.6538\n",
      "Epoch 87/100\n",
      "2/2 [==============================] - 0s 1ms/step - loss: 3.7385 - mae: 3.7385\n",
      "Epoch 88/100\n",
      "2/2 [==============================] - 0s 1ms/step - loss: 3.4382 - mae: 3.4382\n",
      "Epoch 89/100\n",
      "2/2 [==============================] - 0s 1ms/step - loss: 3.4150 - mae: 3.4150\n",
      "Epoch 90/100\n",
      "2/2 [==============================] - 0s 1ms/step - loss: 3.5205 - mae: 3.5205\n",
      "Epoch 91/100\n",
      "2/2 [==============================] - 0s 1ms/step - loss: 3.5073 - mae: 3.5073\n",
      "Epoch 92/100\n",
      "2/2 [==============================] - 0s 1ms/step - loss: 3.3915 - mae: 3.3915\n",
      "Epoch 93/100\n",
      "2/2 [==============================] - 0s 1ms/step - loss: 3.4181 - mae: 3.4181\n",
      "Epoch 94/100\n",
      "2/2 [==============================] - 0s 1ms/step - loss: 3.3710 - mae: 3.3710\n",
      "Epoch 95/100\n",
      "2/2 [==============================] - 0s 1ms/step - loss: 3.3942 - mae: 3.3942\n",
      "Epoch 96/100\n",
      "2/2 [==============================] - 0s 1ms/step - loss: 3.4837 - mae: 3.4837\n",
      "Epoch 97/100\n",
      "2/2 [==============================] - 0s 1ms/step - loss: 3.3996 - mae: 3.3996\n",
      "Epoch 98/100\n",
      "2/2 [==============================] - 0s 1ms/step - loss: 3.4922 - mae: 3.4922\n",
      "Epoch 99/100\n",
      "2/2 [==============================] - 0s 1ms/step - loss: 3.2611 - mae: 3.2611\n",
      "Epoch 100/100\n",
      "2/2 [==============================] - 0s 1ms/step - loss: 3.5284 - mae: 3.5284\n"
     ]
    },
    {
     "data": {
      "text/plain": "<keras.src.callbacks.History at 0x2df4115d0>"
     },
     "execution_count": 28,
     "metadata": {},
     "output_type": "execute_result"
    }
   ],
   "source": [
    "model.fit(tf.expand_dims(X_train, axis=-1), y_train, epochs = 100)"
   ],
   "metadata": {
    "collapsed": false,
    "ExecuteTime": {
     "end_time": "2023-11-24T13:54:54.159598Z",
     "start_time": "2023-11-24T13:54:53.765414Z"
    }
   },
   "id": "9f7182a8367fd359"
  },
  {
   "cell_type": "markdown",
   "source": [
    "##### Visualise Predictions"
   ],
   "metadata": {
    "collapsed": false
   },
   "id": "6bd9acd5af0901d0"
  },
  {
   "cell_type": "code",
   "execution_count": 29,
   "outputs": [
    {
     "name": "stdout",
     "output_type": "stream",
     "text": [
      "WARNING:tensorflow:5 out of the last 5 calls to <function Model.make_predict_function.<locals>.predict_function at 0x2dfe86e80> triggered tf.function retracing. Tracing is expensive and the excessive number of tracings could be due to (1) creating @tf.function repeatedly in a loop, (2) passing tensors with different shapes, (3) passing Python objects instead of tensors. For (1), please define your @tf.function outside of the loop. For (2), @tf.function has reduce_retracing=True option that can avoid unnecessary retracing. For (3), please refer to https://www.tensorflow.org/guide/function#controlling_retracing and https://www.tensorflow.org/api_docs/python/tf/function for  more details.\n"
     ]
    },
    {
     "name": "stderr",
     "output_type": "stream",
     "text": [
      "WARNING:tensorflow:5 out of the last 5 calls to <function Model.make_predict_function.<locals>.predict_function at 0x2dfe86e80> triggered tf.function retracing. Tracing is expensive and the excessive number of tracings could be due to (1) creating @tf.function repeatedly in a loop, (2) passing tensors with different shapes, (3) passing Python objects instead of tensors. For (1), please define your @tf.function outside of the loop. For (2), @tf.function has reduce_retracing=True option that can avoid unnecessary retracing. For (3), please refer to https://www.tensorflow.org/guide/function#controlling_retracing and https://www.tensorflow.org/api_docs/python/tf/function for  more details.\n"
     ]
    },
    {
     "name": "stdout",
     "output_type": "stream",
     "text": [
      "1/1 [==============================] - 0s 24ms/step\n"
     ]
    }
   ],
   "source": [
    "y_pred = model.predict(tf.expand_dims(X_test, axis=-1))"
   ],
   "metadata": {
    "collapsed": false,
    "ExecuteTime": {
     "end_time": "2023-11-24T13:54:54.825201Z",
     "start_time": "2023-11-24T13:54:54.781485Z"
    }
   },
   "id": "9c43df4d738efbf0"
  },
  {
   "cell_type": "code",
   "execution_count": 30,
   "outputs": [],
   "source": [
    "# Plot predictions against the true values\n",
    "def plot_predictions(train_data = X_train,\n",
    "                     train_labels = y_train,\n",
    "                     test_data = X_test,\n",
    "                     test_labels = y_test,\n",
    "                     predictions = y_pred):\n",
    "    \"\"\"\n",
    "    Plots training data, test data and compares predictions to ground truth labels\n",
    "    :param train_data: \n",
    "    :param train_labels: \n",
    "    :param test_data: \n",
    "    :param test_labels: \n",
    "    :param predictions: \n",
    "    :return: \n",
    "    \"\"\"\n",
    "    plt.figure(figsize=(10,7))\n",
    "    plt.scatter(train_data, train_labels, c='b', label='Training data')\n",
    "    plt.scatter(test_data, test_labels, c='g', label='Testing data')\n",
    "    # Plot models predictions in red\n",
    "    plt.scatter(test_data, predictions, c='r', label='Predictions')\n",
    "    plt.legend();"
   ],
   "metadata": {
    "collapsed": false,
    "ExecuteTime": {
     "end_time": "2023-11-24T13:54:55.130569Z",
     "start_time": "2023-11-24T13:54:55.126635Z"
    }
   },
   "id": "287ea83829ccc746"
  },
  {
   "cell_type": "code",
   "execution_count": 31,
   "outputs": [
    {
     "data": {
      "text/plain": "<Figure size 1000x700 with 1 Axes>",
      "image/png": "[encoded data removed]"
     },
     "metadata": {},
     "output_type": "display_data"
    }
   ],
   "source": [
    "plot_predictions()"
   ],
   "metadata": {
    "collapsed": false,
    "ExecuteTime": {
     "end_time": "2023-11-24T13:54:56.051023Z",
     "start_time": "2023-11-24T13:54:55.911058Z"
    }
   },
   "id": "31bb16c24802aa9c"
  },
  {
   "cell_type": "markdown",
   "source": [
    "### Evaluation Metrics"
   ],
   "metadata": {
    "collapsed": false
   },
   "id": "5b66651af9e9efa8"
  },
  {
   "cell_type": "code",
   "execution_count": 32,
   "outputs": [
    {
     "name": "stdout",
     "output_type": "stream",
     "text": [
      "Mean Squared Error: 23.537105843657628\n",
      "Mean Absolute Error: 4.516165161132813\n",
      "R-squared: 0.8216885920935029\n"
     ]
    }
   ],
   "source": [
    "from sklearn.metrics import mean_squared_error, mean_absolute_error, r2_score\n",
    "\n",
    "# Convert the predictions and true labels to the same format (e.g., NumPy arrays)\n",
    "y_test_np = y_test.numpy()\n",
    "\n",
    "# Calculate MSE, MAE, and R-squared\n",
    "mse = mean_squared_error(y_test_np, y_pred)\n",
    "mae = mean_absolute_error(y_test_np, y_pred)\n",
    "r2 = r2_score(y_test_np, y_pred)\n",
    "\n",
    "print(\"Mean Squared Error:\", mse)\n",
    "print(\"Mean Absolute Error:\", mae)\n",
    "print(\"R-squared:\", r2)"
   ],
   "metadata": {
    "collapsed": false,
    "ExecuteTime": {
     "end_time": "2023-11-24T13:55:02.390408Z",
     "start_time": "2023-11-24T13:55:02.382116Z"
    }
   },
   "id": "7f3a4c63e04b2c4e"
  },
  {
   "cell_type": "code",
   "execution_count": null,
   "outputs": [],
   "source": [],
   "metadata": {
    "collapsed": false
   },
   "id": "4012ccf1217d1226"
  }
 ],
 "metadata": {
  "kernelspec": {
   "display_name": "Python 3",
   "language": "python",
   "name": "python3"
  },
  "language_info": {
   "codemirror_mode": {
    "name": "ipython",
    "version": 2
   },
   "file_extension": ".py",
   "mimetype": "text/x-python",
   "name": "python",
   "nbconvert_exporter": "python",
   "pygments_lexer": "ipython2",
   "version": "2.7.6"
  }
 },
 "nbformat": 4,
 "nbformat_minor": 5
}
