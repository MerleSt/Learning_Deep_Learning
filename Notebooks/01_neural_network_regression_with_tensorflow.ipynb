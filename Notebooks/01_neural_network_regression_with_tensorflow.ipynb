{
 "cells": [
  {
   "cell_type": "markdown",
   "source": [
    "# Introduction to Regression with Neural Networks in TenorFlow"
   ],
   "metadata": {
    "collapsed": false
   },
   "id": "de09390adfa92b3d"
  },
  {
   "cell_type": "code",
   "execution_count": 1,
   "id": "initial_id",
   "metadata": {
    "collapsed": true,
    "ExecuteTime": {
     "end_time": "2023-11-23T16:13:52.110540Z",
     "start_time": "2023-11-23T16:13:50.191325Z"
    }
   },
   "outputs": [],
   "source": [
    "import numpy as np\n",
    "import tensorflow as tf"
   ]
  },
  {
   "cell_type": "code",
   "execution_count": 2,
   "outputs": [],
   "source": [
    "X = tf.constant(np.array([-7.0, -4.0, -1.0, 2.0, 5.0, 8.0, 11.0, 14.0]))\n",
    "y = tf.constant(np.array([3.0, 6.0, 9.0, 12.0, 15.0, 18.0, 21.0, 24.0]))"
   ],
   "metadata": {
    "collapsed": false,
    "ExecuteTime": {
     "end_time": "2023-11-23T16:13:52.118462Z",
     "start_time": "2023-11-23T16:13:52.116891Z"
    }
   },
   "id": "7eca335ff7ffb3cc"
  },
  {
   "cell_type": "markdown",
   "source": [
    "## Steps in modelling with TensorFlow\n",
    "1. create a model - input, output, hidden layers\n",
    "2. compiling a model - loss function, optimizer, evaluation metrics\n",
    "3. fitting the model"
   ],
   "metadata": {
    "collapsed": false
   },
   "id": "98ea754aba29376c"
  },
  {
   "cell_type": "code",
   "execution_count": 3,
   "outputs": [
    {
     "name": "stdout",
     "output_type": "stream",
     "text": [
      "Epoch 1/5\n",
      "1/1 [==============================] - 0s 93ms/step - loss: 13.4276 - mae: 13.4276\n",
      "Epoch 2/5\n",
      "1/1 [==============================] - 0s 2ms/step - loss: 13.2951 - mae: 13.2951\n",
      "Epoch 3/5\n",
      "1/1 [==============================] - 0s 2ms/step - loss: 13.1626 - mae: 13.1626\n",
      "Epoch 4/5\n",
      "1/1 [==============================] - 0s 2ms/step - loss: 13.0301 - mae: 13.0301\n",
      "Epoch 5/5\n",
      "1/1 [==============================] - 0s 2ms/step - loss: 12.8976 - mae: 12.8976\n"
     ]
    },
    {
     "data": {
      "text/plain": "<keras.src.callbacks.History at 0x28c6aec90>"
     },
     "execution_count": 3,
     "metadata": {},
     "output_type": "execute_result"
    }
   ],
   "source": [
    "tf.random.set_seed(42)\n",
    "# 1. Create model using Sequential API\n",
    "model = tf.keras.Sequential([\n",
    "    tf.keras.layers.Dense(1)\n",
    "])\n",
    "\n",
    "# 2. compile the model\n",
    "model.compile(loss=tf.keras.losses.mae,\n",
    "              optimizer = \"SGD\", \n",
    "              metrics=['mae'])\n",
    "\n",
    "# 3. Fitting the model\n",
    "model.fit(tf.expand_dims(X, axis=-1), y, epochs = 5)"
   ],
   "metadata": {
    "collapsed": false,
    "ExecuteTime": {
     "end_time": "2023-11-23T16:13:52.265005Z",
     "start_time": "2023-11-23T16:13:52.119181Z"
    }
   },
   "id": "94a21db3ef723b8f"
  },
  {
   "cell_type": "code",
   "execution_count": 3,
   "outputs": [],
   "source": [],
   "metadata": {
    "collapsed": false,
    "ExecuteTime": {
     "end_time": "2023-11-23T16:13:52.265232Z",
     "start_time": "2023-11-23T16:13:52.263514Z"
    }
   },
   "id": "5a0b33a4cc06ac77"
  }
 ],
 "metadata": {
  "kernelspec": {
   "display_name": "Python 3",
   "language": "python",
   "name": "python3"
  },
  "language_info": {
   "codemirror_mode": {
    "name": "ipython",
    "version": 2
   },
   "file_extension": ".py",
   "mimetype": "text/x-python",
   "name": "python",
   "nbconvert_exporter": "python",
   "pygments_lexer": "ipython2",
   "version": "2.7.6"
  }
 },
 "nbformat": 4,
 "nbformat_minor": 5
}
