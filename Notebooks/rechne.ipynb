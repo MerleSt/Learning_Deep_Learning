{
 "cells": [
  {
   "cell_type": "code",
   "execution_count": 3,
   "id": "initial_id",
   "metadata": {
    "collapsed": true,
    "ExecuteTime": {
     "end_time": "2023-12-05T18:46:19.640897Z",
     "start_time": "2023-12-05T18:46:19.633871Z"
    }
   },
   "outputs": [
    {
     "data": {
      "text/plain": "15312.499999999996"
     },
     "execution_count": 3,
     "metadata": {},
     "output_type": "execute_result"
    }
   ],
   "source": [
    "import math\n",
    "\n",
    "# Ursprüngliche Dimensionen\n",
    "r1 = 1.75 / 2  # Radius in mm\n",
    "l1 = 200  # Länge in mm\n",
    "\n",
    "# Neue Dimensionen\n",
    "r2 = 0.2 / 2  # Neuer Radius in mm\n",
    "\n",
    "# Volumen bleibt konstant: V1 = V2\n",
    "# V1 = π * r1^2 * l1\n",
    "# V2 = π * r2^2 * l2\n",
    "# Also, π * r1^2 * l1 = π * r2^2 * l2\n",
    "# Daraus folgt l2 = (r1^2 * l1) / r2^2\n",
    "\n",
    "l2 = (r1**2 * l1) / r2**2\n",
    "l2  # neue Länge in mm"
   ]
  },
  {
   "cell_type": "code",
   "execution_count": 4,
   "outputs": [
    {
     "data": {
      "text/plain": "153.12499999999997"
     },
     "execution_count": 4,
     "metadata": {},
     "output_type": "execute_result"
    }
   ],
   "source": [
    "l2/100"
   ],
   "metadata": {
    "collapsed": false,
    "ExecuteTime": {
     "end_time": "2023-12-05T18:46:40.922780Z",
     "start_time": "2023-12-05T18:46:40.919423Z"
    }
   },
   "id": "2df91481e792ac8f"
  },
  {
   "cell_type": "code",
   "execution_count": null,
   "outputs": [],
   "source": [],
   "metadata": {
    "collapsed": false
   },
   "id": "1865bc6404f22ec3"
  }
 ],
 "metadata": {
  "kernelspec": {
   "display_name": "Python 3",
   "language": "python",
   "name": "python3"
  },
  "language_info": {
   "codemirror_mode": {
    "name": "ipython",
    "version": 2
   },
   "file_extension": ".py",
   "mimetype": "text/x-python",
   "name": "python",
   "nbconvert_exporter": "python",
   "pygments_lexer": "ipython2",
   "version": "2.7.6"
  }
 },
 "nbformat": 4,
 "nbformat_minor": 5
}
